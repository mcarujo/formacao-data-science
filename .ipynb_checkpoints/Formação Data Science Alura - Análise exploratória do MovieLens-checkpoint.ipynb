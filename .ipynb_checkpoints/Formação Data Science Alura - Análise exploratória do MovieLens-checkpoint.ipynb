{
 "cells": [
  {
   "cell_type": "code",
   "execution_count": 23,
   "metadata": {},
   "outputs": [
    {
     "data": {
      "application/javascript": [
       "\n",
       "            setTimeout(function() {\n",
       "                var nbb_cell_id = 23;\n",
       "                var nbb_unformatted_code = \"import warnings\\nwarnings.filterwarnings(\\\"ignore\\\")\";\n",
       "                var nbb_formatted_code = \"import warnings\\n\\nwarnings.filterwarnings(\\\"ignore\\\")\";\n",
       "                var nbb_cells = Jupyter.notebook.get_cells();\n",
       "                for (var i = 0; i < nbb_cells.length; ++i) {\n",
       "                    if (nbb_cells[i].input_prompt_number == nbb_cell_id) {\n",
       "                        if (nbb_cells[i].get_text() == nbb_unformatted_code) {\n",
       "                             nbb_cells[i].set_text(nbb_formatted_code);\n",
       "                        }\n",
       "                        break;\n",
       "                    }\n",
       "                }\n",
       "            }, 500);\n",
       "            "
      ],
      "text/plain": [
       "<IPython.core.display.Javascript object>"
      ]
     },
     "metadata": {},
     "output_type": "display_data"
    }
   ],
   "source": [
    "import warnings\n",
    "\n",
    "warnings.filterwarnings(\"ignore\")"
   ]
  },
  {
   "cell_type": "code",
   "execution_count": 24,
   "metadata": {},
   "outputs": [
    {
     "name": "stdout",
     "output_type": "stream",
     "text": [
      "The lab_black extension is already loaded. To reload it, use:\n",
      "  %reload_ext lab_black\n"
     ]
    },
    {
     "data": {
      "application/javascript": [
       "\n",
       "            setTimeout(function() {\n",
       "                var nbb_cell_id = 24;\n",
       "                var nbb_unformatted_code = \"%load_ext lab_black\";\n",
       "                var nbb_formatted_code = \"%load_ext lab_black\";\n",
       "                var nbb_cells = Jupyter.notebook.get_cells();\n",
       "                for (var i = 0; i < nbb_cells.length; ++i) {\n",
       "                    if (nbb_cells[i].input_prompt_number == nbb_cell_id) {\n",
       "                        if (nbb_cells[i].get_text() == nbb_unformatted_code) {\n",
       "                             nbb_cells[i].set_text(nbb_formatted_code);\n",
       "                        }\n",
       "                        break;\n",
       "                    }\n",
       "                }\n",
       "            }, 500);\n",
       "            "
      ],
      "text/plain": [
       "<IPython.core.display.Javascript object>"
      ]
     },
     "metadata": {},
     "output_type": "display_data"
    }
   ],
   "source": [
    "%load_ext lab_black"
   ]
  },
  {
   "cell_type": "markdown",
   "metadata": {},
   "source": [
    "## Pergunta: Coloque um cabeçalho nesse notebook com o seu nome e resumindo o que descobriu ao explorar esses dados"
   ]
  },
  {
   "cell_type": "markdown",
   "metadata": {},
   "source": [
    "## Formação Data Science Alura - Análise exploratória do MovieLens\n",
    "\n",
    "Na formação de Data Scienda www.alura.com.br um dos conjuntos de dados que utilizamos é o de avaliações para filmes no site MovieLens. Neste projeto faremos uma análise exploratória desses dados."
   ]
  },
  {
   "cell_type": "markdown",
   "metadata": {},
   "source": [
    "### Dicas para o projeto completo:\n",
    "\n",
    "- todo gráfico deve ter um título, labels e legendas que fazem sentido\n",
    "- configure um tamanho adequado para os gráficos\n",
    "- utilize as versões dos arquivos de dados disponíveis no github"
   ]
  },
  {
   "cell_type": "markdown",
   "metadata": {},
   "source": [
    "## Pergunta: conferindo as versões utilizadas\n",
    "\n",
    "- Devemos usar pandas 0.24.0 ou mais recente\n",
    "- Devemos usar seaborn 0.9.0 ou mais recente\n",
    "- Devemos usar scipy 1.2.0 ou mais recente"
   ]
  },
  {
   "cell_type": "code",
   "execution_count": 25,
   "metadata": {},
   "outputs": [
    {
     "data": {
      "application/javascript": [
       "\n",
       "            setTimeout(function() {\n",
       "                var nbb_cell_id = 25;\n",
       "                var nbb_unformatted_code = \"!pip install pandas==\\\"0.24.0\\\" --quiet\\n!pip install seaborn==\\\"0.9.0\\\" --quiet\\n!pip install scipy==\\\"1.2.0\\\" --quiet\";\n",
       "                var nbb_formatted_code = \"!pip install pandas==\\\"0.24.0\\\" --quiet\\n!pip install seaborn==\\\"0.9.0\\\" --quiet\\n!pip install scipy==\\\"1.2.0\\\" --quiet\";\n",
       "                var nbb_cells = Jupyter.notebook.get_cells();\n",
       "                for (var i = 0; i < nbb_cells.length; ++i) {\n",
       "                    if (nbb_cells[i].input_prompt_number == nbb_cell_id) {\n",
       "                        if (nbb_cells[i].get_text() == nbb_unformatted_code) {\n",
       "                             nbb_cells[i].set_text(nbb_formatted_code);\n",
       "                        }\n",
       "                        break;\n",
       "                    }\n",
       "                }\n",
       "            }, 500);\n",
       "            "
      ],
      "text/plain": [
       "<IPython.core.display.Javascript object>"
      ]
     },
     "metadata": {},
     "output_type": "display_data"
    }
   ],
   "source": [
    "!pip install pandas==\"0.24.0\" --quiet\n",
    "!pip install seaborn==\"0.9.0\" --quiet\n",
    "!pip install scipy==\"1.2.0\" --quiet"
   ]
  },
  {
   "cell_type": "code",
   "execution_count": 26,
   "metadata": {},
   "outputs": [
    {
     "name": "stdout",
     "output_type": "stream",
     "text": [
      "Usando pandas 0.24.0\n",
      "Usando seaborn 0.9.0\n",
      "Usando scipy 1.2.0\n"
     ]
    },
    {
     "data": {
      "application/javascript": [
       "\n",
       "            setTimeout(function() {\n",
       "                var nbb_cell_id = 26;\n",
       "                var nbb_unformatted_code = \"import pandas as pd\\nimport seaborn as sns\\nimport scipy\\nimport matplotlib.pyplot as plt\\n\\n\\nprint(\\\"Usando pandas %s\\\" % pd.__version__)\\nprint(\\\"Usando seaborn %s\\\" % sns.__version__)\\nprint(\\\"Usando scipy %s\\\" % scipy.__version__)\";\n",
       "                var nbb_formatted_code = \"import pandas as pd\\nimport seaborn as sns\\nimport scipy\\nimport matplotlib.pyplot as plt\\n\\n\\nprint(\\\"Usando pandas %s\\\" % pd.__version__)\\nprint(\\\"Usando seaborn %s\\\" % sns.__version__)\\nprint(\\\"Usando scipy %s\\\" % scipy.__version__)\";\n",
       "                var nbb_cells = Jupyter.notebook.get_cells();\n",
       "                for (var i = 0; i < nbb_cells.length; ++i) {\n",
       "                    if (nbb_cells[i].input_prompt_number == nbb_cell_id) {\n",
       "                        if (nbb_cells[i].get_text() == nbb_unformatted_code) {\n",
       "                             nbb_cells[i].set_text(nbb_formatted_code);\n",
       "                        }\n",
       "                        break;\n",
       "                    }\n",
       "                }\n",
       "            }, 500);\n",
       "            "
      ],
      "text/plain": [
       "<IPython.core.display.Javascript object>"
      ]
     },
     "metadata": {},
     "output_type": "display_data"
    }
   ],
   "source": [
    "import pandas as pd\n",
    "import seaborn as sns\n",
    "import scipy\n",
    "import matplotlib.pyplot as plt\n",
    "\n",
    "\n",
    "print(\"Usando pandas %s\" % pd.__version__)\n",
    "print(\"Usando seaborn %s\" % sns.__version__)\n",
    "print(\"Usando scipy %s\" % scipy.__version__)"
   ]
  },
  {
   "cell_type": "markdown",
   "metadata": {},
   "source": [
    "## Pergunta: carregue os filmes\n",
    "\n",
    "- os dados `https://raw.githubusercontent.com/alura-cursos/formacao-data-science/master/movies.csv` devem ser carregado em `filmes`\n",
    "- renomeie as colunas para `filmeId`, `titulo` e `generos`\n",
    "- configure o indice (`index`) para ser o `filmeId`"
   ]
  },
  {
   "cell_type": "code",
   "execution_count": 27,
   "metadata": {},
   "outputs": [
    {
     "data": {
      "application/javascript": [
       "\n",
       "            setTimeout(function() {\n",
       "                var nbb_cell_id = 27;\n",
       "                var nbb_unformatted_code = \"# solu\\u00e7\\u00e3o\\nfilmes = pd.read_csv(\\\"movies.csv\\\")\\nfilmes.columns = [\\\"filmeId\\\", \\\"titulo\\\", \\\"generos\\\"]\\nfilmes.set_index(\\\"filmeId\\\", inplace=True)\";\n",
       "                var nbb_formatted_code = \"# solu\\u00e7\\u00e3o\\nfilmes = pd.read_csv(\\\"movies.csv\\\")\\nfilmes.columns = [\\\"filmeId\\\", \\\"titulo\\\", \\\"generos\\\"]\\nfilmes.set_index(\\\"filmeId\\\", inplace=True)\";\n",
       "                var nbb_cells = Jupyter.notebook.get_cells();\n",
       "                for (var i = 0; i < nbb_cells.length; ++i) {\n",
       "                    if (nbb_cells[i].input_prompt_number == nbb_cell_id) {\n",
       "                        if (nbb_cells[i].get_text() == nbb_unformatted_code) {\n",
       "                             nbb_cells[i].set_text(nbb_formatted_code);\n",
       "                        }\n",
       "                        break;\n",
       "                    }\n",
       "                }\n",
       "            }, 500);\n",
       "            "
      ],
      "text/plain": [
       "<IPython.core.display.Javascript object>"
      ]
     },
     "metadata": {},
     "output_type": "display_data"
    }
   ],
   "source": [
    "# solução\n",
    "filmes = pd.read_csv(\"movies.csv\")\n",
    "filmes.columns = [\"filmeId\", \"titulo\", \"generos\"]\n",
    "filmes.set_index(\"filmeId\", inplace=True)"
   ]
  },
  {
   "cell_type": "code",
   "execution_count": 28,
   "metadata": {},
   "outputs": [
    {
     "data": {
      "text/html": [
       "<div>\n",
       "<style scoped>\n",
       "    .dataframe tbody tr th:only-of-type {\n",
       "        vertical-align: middle;\n",
       "    }\n",
       "\n",
       "    .dataframe tbody tr th {\n",
       "        vertical-align: top;\n",
       "    }\n",
       "\n",
       "    .dataframe thead th {\n",
       "        text-align: right;\n",
       "    }\n",
       "</style>\n",
       "<table border=\"1\" class=\"dataframe\">\n",
       "  <thead>\n",
       "    <tr style=\"text-align: right;\">\n",
       "      <th></th>\n",
       "      <th>titulo</th>\n",
       "      <th>generos</th>\n",
       "    </tr>\n",
       "    <tr>\n",
       "      <th>filmeId</th>\n",
       "      <th></th>\n",
       "      <th></th>\n",
       "    </tr>\n",
       "  </thead>\n",
       "  <tbody>\n",
       "    <tr>\n",
       "      <th>1</th>\n",
       "      <td>Toy Story (1995)</td>\n",
       "      <td>Adventure|Animation|Children|Comedy|Fantasy</td>\n",
       "    </tr>\n",
       "    <tr>\n",
       "      <th>2</th>\n",
       "      <td>Jumanji (1995)</td>\n",
       "      <td>Adventure|Children|Fantasy</td>\n",
       "    </tr>\n",
       "    <tr>\n",
       "      <th>3</th>\n",
       "      <td>Grumpier Old Men (1995)</td>\n",
       "      <td>Comedy|Romance</td>\n",
       "    </tr>\n",
       "    <tr>\n",
       "      <th>4</th>\n",
       "      <td>Waiting to Exhale (1995)</td>\n",
       "      <td>Comedy|Drama|Romance</td>\n",
       "    </tr>\n",
       "    <tr>\n",
       "      <th>5</th>\n",
       "      <td>Father of the Bride Part II (1995)</td>\n",
       "      <td>Comedy</td>\n",
       "    </tr>\n",
       "  </tbody>\n",
       "</table>\n",
       "</div>"
      ],
      "text/plain": [
       "                                     titulo  \\\n",
       "filmeId                                       \n",
       "1                          Toy Story (1995)   \n",
       "2                            Jumanji (1995)   \n",
       "3                   Grumpier Old Men (1995)   \n",
       "4                  Waiting to Exhale (1995)   \n",
       "5        Father of the Bride Part II (1995)   \n",
       "\n",
       "                                             generos  \n",
       "filmeId                                               \n",
       "1        Adventure|Animation|Children|Comedy|Fantasy  \n",
       "2                         Adventure|Children|Fantasy  \n",
       "3                                     Comedy|Romance  \n",
       "4                               Comedy|Drama|Romance  \n",
       "5                                             Comedy  "
      ]
     },
     "execution_count": 28,
     "metadata": {},
     "output_type": "execute_result"
    },
    {
     "data": {
      "application/javascript": [
       "\n",
       "            setTimeout(function() {\n",
       "                var nbb_cell_id = 28;\n",
       "                var nbb_unformatted_code = \"filmes.head()\";\n",
       "                var nbb_formatted_code = \"filmes.head()\";\n",
       "                var nbb_cells = Jupyter.notebook.get_cells();\n",
       "                for (var i = 0; i < nbb_cells.length; ++i) {\n",
       "                    if (nbb_cells[i].input_prompt_number == nbb_cell_id) {\n",
       "                        if (nbb_cells[i].get_text() == nbb_unformatted_code) {\n",
       "                             nbb_cells[i].set_text(nbb_formatted_code);\n",
       "                        }\n",
       "                        break;\n",
       "                    }\n",
       "                }\n",
       "            }, 500);\n",
       "            "
      ],
      "text/plain": [
       "<IPython.core.display.Javascript object>"
      ]
     },
     "metadata": {},
     "output_type": "display_data"
    }
   ],
   "source": [
    "filmes.head()"
   ]
  },
  {
   "cell_type": "code",
   "execution_count": 29,
   "metadata": {
    "scrolled": true
   },
   "outputs": [
    {
     "name": "stdout",
     "output_type": "stream",
     "text": [
      "Carregamos 9742 filmes\n"
     ]
    },
    {
     "data": {
      "application/javascript": [
       "\n",
       "            setTimeout(function() {\n",
       "                var nbb_cell_id = 29;\n",
       "                var nbb_unformatted_code = \"print(\\\"Carregamos %d filmes\\\" % len(filmes))\\nif len(filmes) != 9742:\\n    print(\\n        \\\"ERRO! O conjunto de dados que estamos trabalhando nesse projeto possui 9742 elementos.\\\"\\n    )\";\n",
       "                var nbb_formatted_code = \"print(\\\"Carregamos %d filmes\\\" % len(filmes))\\nif len(filmes) != 9742:\\n    print(\\n        \\\"ERRO! O conjunto de dados que estamos trabalhando nesse projeto possui 9742 elementos.\\\"\\n    )\";\n",
       "                var nbb_cells = Jupyter.notebook.get_cells();\n",
       "                for (var i = 0; i < nbb_cells.length; ++i) {\n",
       "                    if (nbb_cells[i].input_prompt_number == nbb_cell_id) {\n",
       "                        if (nbb_cells[i].get_text() == nbb_unformatted_code) {\n",
       "                             nbb_cells[i].set_text(nbb_formatted_code);\n",
       "                        }\n",
       "                        break;\n",
       "                    }\n",
       "                }\n",
       "            }, 500);\n",
       "            "
      ],
      "text/plain": [
       "<IPython.core.display.Javascript object>"
      ]
     },
     "metadata": {},
     "output_type": "display_data"
    }
   ],
   "source": [
    "print(\"Carregamos %d filmes\" % len(filmes))\n",
    "if len(filmes) != 9742:\n",
    "    print(\n",
    "        \"ERRO! O conjunto de dados que estamos trabalhando nesse projeto possui 9742 elementos.\"\n",
    "    )"
   ]
  },
  {
   "cell_type": "markdown",
   "metadata": {},
   "source": [
    "Vamos extrair o ano dos filmes (código já pronto): "
   ]
  },
  {
   "cell_type": "code",
   "execution_count": 30,
   "metadata": {},
   "outputs": [
    {
     "data": {
      "text/html": [
       "<div>\n",
       "<style scoped>\n",
       "    .dataframe tbody tr th:only-of-type {\n",
       "        vertical-align: middle;\n",
       "    }\n",
       "\n",
       "    .dataframe tbody tr th {\n",
       "        vertical-align: top;\n",
       "    }\n",
       "\n",
       "    .dataframe thead th {\n",
       "        text-align: right;\n",
       "    }\n",
       "</style>\n",
       "<table border=\"1\" class=\"dataframe\">\n",
       "  <thead>\n",
       "    <tr style=\"text-align: right;\">\n",
       "      <th></th>\n",
       "      <th>titulo</th>\n",
       "      <th>generos</th>\n",
       "      <th>ano_de_lancamento</th>\n",
       "    </tr>\n",
       "    <tr>\n",
       "      <th>filmeId</th>\n",
       "      <th></th>\n",
       "      <th></th>\n",
       "      <th></th>\n",
       "    </tr>\n",
       "  </thead>\n",
       "  <tbody>\n",
       "    <tr>\n",
       "      <th>1</th>\n",
       "      <td>Toy Story (1995)</td>\n",
       "      <td>Adventure|Animation|Children|Comedy|Fantasy</td>\n",
       "      <td>1995.0</td>\n",
       "    </tr>\n",
       "    <tr>\n",
       "      <th>2</th>\n",
       "      <td>Jumanji (1995)</td>\n",
       "      <td>Adventure|Children|Fantasy</td>\n",
       "      <td>1995.0</td>\n",
       "    </tr>\n",
       "    <tr>\n",
       "      <th>3</th>\n",
       "      <td>Grumpier Old Men (1995)</td>\n",
       "      <td>Comedy|Romance</td>\n",
       "      <td>1995.0</td>\n",
       "    </tr>\n",
       "    <tr>\n",
       "      <th>4</th>\n",
       "      <td>Waiting to Exhale (1995)</td>\n",
       "      <td>Comedy|Drama|Romance</td>\n",
       "      <td>1995.0</td>\n",
       "    </tr>\n",
       "    <tr>\n",
       "      <th>5</th>\n",
       "      <td>Father of the Bride Part II (1995)</td>\n",
       "      <td>Comedy</td>\n",
       "      <td>1995.0</td>\n",
       "    </tr>\n",
       "  </tbody>\n",
       "</table>\n",
       "</div>"
      ],
      "text/plain": [
       "                                     titulo  \\\n",
       "filmeId                                       \n",
       "1                          Toy Story (1995)   \n",
       "2                            Jumanji (1995)   \n",
       "3                   Grumpier Old Men (1995)   \n",
       "4                  Waiting to Exhale (1995)   \n",
       "5        Father of the Bride Part II (1995)   \n",
       "\n",
       "                                             generos  ano_de_lancamento  \n",
       "filmeId                                                                  \n",
       "1        Adventure|Animation|Children|Comedy|Fantasy             1995.0  \n",
       "2                         Adventure|Children|Fantasy             1995.0  \n",
       "3                                     Comedy|Romance             1995.0  \n",
       "4                               Comedy|Drama|Romance             1995.0  \n",
       "5                                             Comedy             1995.0  "
      ]
     },
     "execution_count": 30,
     "metadata": {},
     "output_type": "execute_result"
    },
    {
     "data": {
      "application/javascript": [
       "\n",
       "            setTimeout(function() {\n",
       "                var nbb_cell_id = 30;\n",
       "                var nbb_unformatted_code = \"ano_de_lancamento = filmes.titulo.str.extract(\\\"\\\\((\\\\d{4})\\\\)\\\")\\nfilmes[\\\"ano_de_lancamento\\\"] = ano_de_lancamento.astype(float)\\nfilmes.head()\";\n",
       "                var nbb_formatted_code = \"ano_de_lancamento = filmes.titulo.str.extract(\\\"\\\\((\\\\d{4})\\\\)\\\")\\nfilmes[\\\"ano_de_lancamento\\\"] = ano_de_lancamento.astype(float)\\nfilmes.head()\";\n",
       "                var nbb_cells = Jupyter.notebook.get_cells();\n",
       "                for (var i = 0; i < nbb_cells.length; ++i) {\n",
       "                    if (nbb_cells[i].input_prompt_number == nbb_cell_id) {\n",
       "                        if (nbb_cells[i].get_text() == nbb_unformatted_code) {\n",
       "                             nbb_cells[i].set_text(nbb_formatted_code);\n",
       "                        }\n",
       "                        break;\n",
       "                    }\n",
       "                }\n",
       "            }, 500);\n",
       "            "
      ],
      "text/plain": [
       "<IPython.core.display.Javascript object>"
      ]
     },
     "metadata": {},
     "output_type": "display_data"
    }
   ],
   "source": [
    "ano_de_lancamento = filmes.titulo.str.extract(\"\\((\\d{4})\\)\")\n",
    "filmes[\"ano_de_lancamento\"] = ano_de_lancamento.astype(float)\n",
    "filmes.head()"
   ]
  },
  {
   "cell_type": "markdown",
   "metadata": {},
   "source": [
    "## Pergunta: carregando as notas\n",
    "\n",
    "- os dados `https://raw.githubusercontent.com/alura-cursos/formacao-data-science/master/ratings.csv` devem ser carregado em `notas`\n",
    "- renomeie as colunas para `usuarioId`, `filmeId`, `nota` e `momento`"
   ]
  },
  {
   "cell_type": "code",
   "execution_count": 31,
   "metadata": {},
   "outputs": [
    {
     "data": {
      "application/javascript": [
       "\n",
       "            setTimeout(function() {\n",
       "                var nbb_cell_id = 31;\n",
       "                var nbb_unformatted_code = \"# solu\\u00e7\\u00e3o\\nnotas = pd.read_csv(\\\"ratings.csv\\\")\\nnotas.columns = [\\\"usuarioId\\\", \\\"filmeId\\\", \\\"nota\\\", \\\"momento\\\"]\";\n",
       "                var nbb_formatted_code = \"# solu\\u00e7\\u00e3o\\nnotas = pd.read_csv(\\\"ratings.csv\\\")\\nnotas.columns = [\\\"usuarioId\\\", \\\"filmeId\\\", \\\"nota\\\", \\\"momento\\\"]\";\n",
       "                var nbb_cells = Jupyter.notebook.get_cells();\n",
       "                for (var i = 0; i < nbb_cells.length; ++i) {\n",
       "                    if (nbb_cells[i].input_prompt_number == nbb_cell_id) {\n",
       "                        if (nbb_cells[i].get_text() == nbb_unformatted_code) {\n",
       "                             nbb_cells[i].set_text(nbb_formatted_code);\n",
       "                        }\n",
       "                        break;\n",
       "                    }\n",
       "                }\n",
       "            }, 500);\n",
       "            "
      ],
      "text/plain": [
       "<IPython.core.display.Javascript object>"
      ]
     },
     "metadata": {},
     "output_type": "display_data"
    }
   ],
   "source": [
    "# solução\n",
    "notas = pd.read_csv(\"ratings.csv\")\n",
    "notas.columns = [\"usuarioId\", \"filmeId\", \"nota\", \"momento\"]"
   ]
  },
  {
   "cell_type": "code",
   "execution_count": 32,
   "metadata": {},
   "outputs": [
    {
     "data": {
      "text/html": [
       "<div>\n",
       "<style scoped>\n",
       "    .dataframe tbody tr th:only-of-type {\n",
       "        vertical-align: middle;\n",
       "    }\n",
       "\n",
       "    .dataframe tbody tr th {\n",
       "        vertical-align: top;\n",
       "    }\n",
       "\n",
       "    .dataframe thead th {\n",
       "        text-align: right;\n",
       "    }\n",
       "</style>\n",
       "<table border=\"1\" class=\"dataframe\">\n",
       "  <thead>\n",
       "    <tr style=\"text-align: right;\">\n",
       "      <th></th>\n",
       "      <th>usuarioId</th>\n",
       "      <th>filmeId</th>\n",
       "      <th>nota</th>\n",
       "      <th>momento</th>\n",
       "    </tr>\n",
       "  </thead>\n",
       "  <tbody>\n",
       "    <tr>\n",
       "      <th>0</th>\n",
       "      <td>1</td>\n",
       "      <td>1</td>\n",
       "      <td>4.0</td>\n",
       "      <td>964982703</td>\n",
       "    </tr>\n",
       "    <tr>\n",
       "      <th>1</th>\n",
       "      <td>1</td>\n",
       "      <td>3</td>\n",
       "      <td>4.0</td>\n",
       "      <td>964981247</td>\n",
       "    </tr>\n",
       "    <tr>\n",
       "      <th>2</th>\n",
       "      <td>1</td>\n",
       "      <td>6</td>\n",
       "      <td>4.0</td>\n",
       "      <td>964982224</td>\n",
       "    </tr>\n",
       "    <tr>\n",
       "      <th>3</th>\n",
       "      <td>1</td>\n",
       "      <td>47</td>\n",
       "      <td>5.0</td>\n",
       "      <td>964983815</td>\n",
       "    </tr>\n",
       "    <tr>\n",
       "      <th>4</th>\n",
       "      <td>1</td>\n",
       "      <td>50</td>\n",
       "      <td>5.0</td>\n",
       "      <td>964982931</td>\n",
       "    </tr>\n",
       "  </tbody>\n",
       "</table>\n",
       "</div>"
      ],
      "text/plain": [
       "   usuarioId  filmeId  nota    momento\n",
       "0          1        1   4.0  964982703\n",
       "1          1        3   4.0  964981247\n",
       "2          1        6   4.0  964982224\n",
       "3          1       47   5.0  964983815\n",
       "4          1       50   5.0  964982931"
      ]
     },
     "execution_count": 32,
     "metadata": {},
     "output_type": "execute_result"
    },
    {
     "data": {
      "application/javascript": [
       "\n",
       "            setTimeout(function() {\n",
       "                var nbb_cell_id = 32;\n",
       "                var nbb_unformatted_code = \"notas.head()\";\n",
       "                var nbb_formatted_code = \"notas.head()\";\n",
       "                var nbb_cells = Jupyter.notebook.get_cells();\n",
       "                for (var i = 0; i < nbb_cells.length; ++i) {\n",
       "                    if (nbb_cells[i].input_prompt_number == nbb_cell_id) {\n",
       "                        if (nbb_cells[i].get_text() == nbb_unformatted_code) {\n",
       "                             nbb_cells[i].set_text(nbb_formatted_code);\n",
       "                        }\n",
       "                        break;\n",
       "                    }\n",
       "                }\n",
       "            }, 500);\n",
       "            "
      ],
      "text/plain": [
       "<IPython.core.display.Javascript object>"
      ]
     },
     "metadata": {},
     "output_type": "display_data"
    }
   ],
   "source": [
    "notas.head()"
   ]
  },
  {
   "cell_type": "markdown",
   "metadata": {},
   "source": [
    "## Pergunta: gere uma nova feature, a média dos votos por filme\n",
    "\n",
    "- crie uma nova coluna chamada `nota_media` dentro do dataframe `filmes`\n",
    "\n",
    "Dicas:\n",
    "- como filmeId já é o indice de seu dataframe filmes, se você possui uma série com o número de votos por filme, basta atribuir uma nova coluna normalmente que será usado o mesmo índice"
   ]
  },
  {
   "cell_type": "code",
   "execution_count": 33,
   "metadata": {},
   "outputs": [
    {
     "data": {
      "application/javascript": [
       "\n",
       "            setTimeout(function() {\n",
       "                var nbb_cell_id = 33;\n",
       "                var nbb_unformatted_code = \"# solu\\u00e7\\u00e3o\\nfilmes[\\\"nota_media\\\"] = notas.groupby(\\\"filmeId\\\")[\\\"nota\\\"].mean()\";\n",
       "                var nbb_formatted_code = \"# solu\\u00e7\\u00e3o\\nfilmes[\\\"nota_media\\\"] = notas.groupby(\\\"filmeId\\\")[\\\"nota\\\"].mean()\";\n",
       "                var nbb_cells = Jupyter.notebook.get_cells();\n",
       "                for (var i = 0; i < nbb_cells.length; ++i) {\n",
       "                    if (nbb_cells[i].input_prompt_number == nbb_cell_id) {\n",
       "                        if (nbb_cells[i].get_text() == nbb_unformatted_code) {\n",
       "                             nbb_cells[i].set_text(nbb_formatted_code);\n",
       "                        }\n",
       "                        break;\n",
       "                    }\n",
       "                }\n",
       "            }, 500);\n",
       "            "
      ],
      "text/plain": [
       "<IPython.core.display.Javascript object>"
      ]
     },
     "metadata": {},
     "output_type": "display_data"
    }
   ],
   "source": [
    "# solução\n",
    "filmes[\"nota_media\"] = notas.groupby(\"filmeId\")[\"nota\"].mean()"
   ]
  },
  {
   "cell_type": "code",
   "execution_count": 34,
   "metadata": {},
   "outputs": [
    {
     "data": {
      "text/html": [
       "<div>\n",
       "<style scoped>\n",
       "    .dataframe tbody tr th:only-of-type {\n",
       "        vertical-align: middle;\n",
       "    }\n",
       "\n",
       "    .dataframe tbody tr th {\n",
       "        vertical-align: top;\n",
       "    }\n",
       "\n",
       "    .dataframe thead th {\n",
       "        text-align: right;\n",
       "    }\n",
       "</style>\n",
       "<table border=\"1\" class=\"dataframe\">\n",
       "  <thead>\n",
       "    <tr style=\"text-align: right;\">\n",
       "      <th></th>\n",
       "      <th>titulo</th>\n",
       "      <th>generos</th>\n",
       "      <th>ano_de_lancamento</th>\n",
       "      <th>nota_media</th>\n",
       "    </tr>\n",
       "    <tr>\n",
       "      <th>filmeId</th>\n",
       "      <th></th>\n",
       "      <th></th>\n",
       "      <th></th>\n",
       "      <th></th>\n",
       "    </tr>\n",
       "  </thead>\n",
       "  <tbody>\n",
       "    <tr>\n",
       "      <th>1</th>\n",
       "      <td>Toy Story (1995)</td>\n",
       "      <td>Adventure|Animation|Children|Comedy|Fantasy</td>\n",
       "      <td>1995.0</td>\n",
       "      <td>3.920930</td>\n",
       "    </tr>\n",
       "    <tr>\n",
       "      <th>2</th>\n",
       "      <td>Jumanji (1995)</td>\n",
       "      <td>Adventure|Children|Fantasy</td>\n",
       "      <td>1995.0</td>\n",
       "      <td>3.431818</td>\n",
       "    </tr>\n",
       "    <tr>\n",
       "      <th>3</th>\n",
       "      <td>Grumpier Old Men (1995)</td>\n",
       "      <td>Comedy|Romance</td>\n",
       "      <td>1995.0</td>\n",
       "      <td>3.259615</td>\n",
       "    </tr>\n",
       "    <tr>\n",
       "      <th>4</th>\n",
       "      <td>Waiting to Exhale (1995)</td>\n",
       "      <td>Comedy|Drama|Romance</td>\n",
       "      <td>1995.0</td>\n",
       "      <td>2.357143</td>\n",
       "    </tr>\n",
       "    <tr>\n",
       "      <th>5</th>\n",
       "      <td>Father of the Bride Part II (1995)</td>\n",
       "      <td>Comedy</td>\n",
       "      <td>1995.0</td>\n",
       "      <td>3.071429</td>\n",
       "    </tr>\n",
       "  </tbody>\n",
       "</table>\n",
       "</div>"
      ],
      "text/plain": [
       "                                     titulo  \\\n",
       "filmeId                                       \n",
       "1                          Toy Story (1995)   \n",
       "2                            Jumanji (1995)   \n",
       "3                   Grumpier Old Men (1995)   \n",
       "4                  Waiting to Exhale (1995)   \n",
       "5        Father of the Bride Part II (1995)   \n",
       "\n",
       "                                             generos  ano_de_lancamento  \\\n",
       "filmeId                                                                   \n",
       "1        Adventure|Animation|Children|Comedy|Fantasy             1995.0   \n",
       "2                         Adventure|Children|Fantasy             1995.0   \n",
       "3                                     Comedy|Romance             1995.0   \n",
       "4                               Comedy|Drama|Romance             1995.0   \n",
       "5                                             Comedy             1995.0   \n",
       "\n",
       "         nota_media  \n",
       "filmeId              \n",
       "1          3.920930  \n",
       "2          3.431818  \n",
       "3          3.259615  \n",
       "4          2.357143  \n",
       "5          3.071429  "
      ]
     },
     "execution_count": 34,
     "metadata": {},
     "output_type": "execute_result"
    },
    {
     "data": {
      "application/javascript": [
       "\n",
       "            setTimeout(function() {\n",
       "                var nbb_cell_id = 34;\n",
       "                var nbb_unformatted_code = \"filmes.head()\";\n",
       "                var nbb_formatted_code = \"filmes.head()\";\n",
       "                var nbb_cells = Jupyter.notebook.get_cells();\n",
       "                for (var i = 0; i < nbb_cells.length; ++i) {\n",
       "                    if (nbb_cells[i].input_prompt_number == nbb_cell_id) {\n",
       "                        if (nbb_cells[i].get_text() == nbb_unformatted_code) {\n",
       "                             nbb_cells[i].set_text(nbb_formatted_code);\n",
       "                        }\n",
       "                        break;\n",
       "                    }\n",
       "                }\n",
       "            }, 500);\n",
       "            "
      ],
      "text/plain": [
       "<IPython.core.display.Javascript object>"
      ]
     },
     "metadata": {},
     "output_type": "display_data"
    }
   ],
   "source": [
    "filmes.head()"
   ]
  },
  {
   "cell_type": "markdown",
   "metadata": {},
   "source": [
    "## Pergunta: remova os filmes com menos de 50 avaliações\n",
    "\n",
    "- conte o número de notas por filme\n",
    "- adicione uma coluna nova chamada `total_de_votos` a `filmes` que representa o número de avaliações que aquele filme teve no conjunto de dados\n",
    "- remova os que tem 49 ou menos de `filmes`"
   ]
  },
  {
   "cell_type": "markdown",
   "metadata": {},
   "source": [
    "## Solução"
   ]
  },
  {
   "cell_type": "code",
   "execution_count": 35,
   "metadata": {},
   "outputs": [
    {
     "data": {
      "application/javascript": [
       "\n",
       "            setTimeout(function() {\n",
       "                var nbb_cell_id = 35;\n",
       "                var nbb_unformatted_code = \"# solu\\u00e7\\u00e3o para calcular o total de votos por filme\\nfilmes[\\\"total_de_votos\\\"] = notas.groupby(\\\"filmeId\\\")[\\\"nota\\\"].count()\";\n",
       "                var nbb_formatted_code = \"# solu\\u00e7\\u00e3o para calcular o total de votos por filme\\nfilmes[\\\"total_de_votos\\\"] = notas.groupby(\\\"filmeId\\\")[\\\"nota\\\"].count()\";\n",
       "                var nbb_cells = Jupyter.notebook.get_cells();\n",
       "                for (var i = 0; i < nbb_cells.length; ++i) {\n",
       "                    if (nbb_cells[i].input_prompt_number == nbb_cell_id) {\n",
       "                        if (nbb_cells[i].get_text() == nbb_unformatted_code) {\n",
       "                             nbb_cells[i].set_text(nbb_formatted_code);\n",
       "                        }\n",
       "                        break;\n",
       "                    }\n",
       "                }\n",
       "            }, 500);\n",
       "            "
      ],
      "text/plain": [
       "<IPython.core.display.Javascript object>"
      ]
     },
     "metadata": {},
     "output_type": "display_data"
    }
   ],
   "source": [
    "# solução para calcular o total de votos por filme\n",
    "filmes[\"total_de_votos\"] = notas.groupby(\"filmeId\")[\"nota\"].count()"
   ]
  },
  {
   "cell_type": "code",
   "execution_count": 36,
   "metadata": {},
   "outputs": [
    {
     "data": {
      "application/javascript": [
       "\n",
       "            setTimeout(function() {\n",
       "                var nbb_cell_id = 36;\n",
       "                var nbb_unformatted_code = \"# solu\\u00e7\\u00e3o para criar a nova coluna e filtrar os filmes\\nfilmes = filmes.query(\\\"total_de_votos >= 50\\\")\";\n",
       "                var nbb_formatted_code = \"# solu\\u00e7\\u00e3o para criar a nova coluna e filtrar os filmes\\nfilmes = filmes.query(\\\"total_de_votos >= 50\\\")\";\n",
       "                var nbb_cells = Jupyter.notebook.get_cells();\n",
       "                for (var i = 0; i < nbb_cells.length; ++i) {\n",
       "                    if (nbb_cells[i].input_prompt_number == nbb_cell_id) {\n",
       "                        if (nbb_cells[i].get_text() == nbb_unformatted_code) {\n",
       "                             nbb_cells[i].set_text(nbb_formatted_code);\n",
       "                        }\n",
       "                        break;\n",
       "                    }\n",
       "                }\n",
       "            }, 500);\n",
       "            "
      ],
      "text/plain": [
       "<IPython.core.display.Javascript object>"
      ]
     },
     "metadata": {},
     "output_type": "display_data"
    }
   ],
   "source": [
    "# solução para criar a nova coluna e filtrar os filmes\n",
    "filmes = filmes.query(\"total_de_votos >= 50\")"
   ]
  },
  {
   "cell_type": "code",
   "execution_count": 37,
   "metadata": {},
   "outputs": [
    {
     "data": {
      "text/html": [
       "<div>\n",
       "<style scoped>\n",
       "    .dataframe tbody tr th:only-of-type {\n",
       "        vertical-align: middle;\n",
       "    }\n",
       "\n",
       "    .dataframe tbody tr th {\n",
       "        vertical-align: top;\n",
       "    }\n",
       "\n",
       "    .dataframe thead th {\n",
       "        text-align: right;\n",
       "    }\n",
       "</style>\n",
       "<table border=\"1\" class=\"dataframe\">\n",
       "  <thead>\n",
       "    <tr style=\"text-align: right;\">\n",
       "      <th></th>\n",
       "      <th>titulo</th>\n",
       "      <th>generos</th>\n",
       "      <th>ano_de_lancamento</th>\n",
       "      <th>nota_media</th>\n",
       "      <th>total_de_votos</th>\n",
       "    </tr>\n",
       "    <tr>\n",
       "      <th>filmeId</th>\n",
       "      <th></th>\n",
       "      <th></th>\n",
       "      <th></th>\n",
       "      <th></th>\n",
       "      <th></th>\n",
       "    </tr>\n",
       "  </thead>\n",
       "  <tbody>\n",
       "    <tr>\n",
       "      <th>1</th>\n",
       "      <td>Toy Story (1995)</td>\n",
       "      <td>Adventure|Animation|Children|Comedy|Fantasy</td>\n",
       "      <td>1995.0</td>\n",
       "      <td>3.920930</td>\n",
       "      <td>215.0</td>\n",
       "    </tr>\n",
       "    <tr>\n",
       "      <th>2</th>\n",
       "      <td>Jumanji (1995)</td>\n",
       "      <td>Adventure|Children|Fantasy</td>\n",
       "      <td>1995.0</td>\n",
       "      <td>3.431818</td>\n",
       "      <td>110.0</td>\n",
       "    </tr>\n",
       "    <tr>\n",
       "      <th>3</th>\n",
       "      <td>Grumpier Old Men (1995)</td>\n",
       "      <td>Comedy|Romance</td>\n",
       "      <td>1995.0</td>\n",
       "      <td>3.259615</td>\n",
       "      <td>52.0</td>\n",
       "    </tr>\n",
       "    <tr>\n",
       "      <th>6</th>\n",
       "      <td>Heat (1995)</td>\n",
       "      <td>Action|Crime|Thriller</td>\n",
       "      <td>1995.0</td>\n",
       "      <td>3.946078</td>\n",
       "      <td>102.0</td>\n",
       "    </tr>\n",
       "    <tr>\n",
       "      <th>7</th>\n",
       "      <td>Sabrina (1995)</td>\n",
       "      <td>Comedy|Romance</td>\n",
       "      <td>1995.0</td>\n",
       "      <td>3.185185</td>\n",
       "      <td>54.0</td>\n",
       "    </tr>\n",
       "  </tbody>\n",
       "</table>\n",
       "</div>"
      ],
      "text/plain": [
       "                          titulo                                      generos  \\\n",
       "filmeId                                                                         \n",
       "1               Toy Story (1995)  Adventure|Animation|Children|Comedy|Fantasy   \n",
       "2                 Jumanji (1995)                   Adventure|Children|Fantasy   \n",
       "3        Grumpier Old Men (1995)                               Comedy|Romance   \n",
       "6                    Heat (1995)                        Action|Crime|Thriller   \n",
       "7                 Sabrina (1995)                               Comedy|Romance   \n",
       "\n",
       "         ano_de_lancamento  nota_media  total_de_votos  \n",
       "filmeId                                                 \n",
       "1                   1995.0    3.920930           215.0  \n",
       "2                   1995.0    3.431818           110.0  \n",
       "3                   1995.0    3.259615            52.0  \n",
       "6                   1995.0    3.946078           102.0  \n",
       "7                   1995.0    3.185185            54.0  "
      ]
     },
     "execution_count": 37,
     "metadata": {},
     "output_type": "execute_result"
    },
    {
     "data": {
      "application/javascript": [
       "\n",
       "            setTimeout(function() {\n",
       "                var nbb_cell_id = 37;\n",
       "                var nbb_unformatted_code = \"filmes.head()\";\n",
       "                var nbb_formatted_code = \"filmes.head()\";\n",
       "                var nbb_cells = Jupyter.notebook.get_cells();\n",
       "                for (var i = 0; i < nbb_cells.length; ++i) {\n",
       "                    if (nbb_cells[i].input_prompt_number == nbb_cell_id) {\n",
       "                        if (nbb_cells[i].get_text() == nbb_unformatted_code) {\n",
       "                             nbb_cells[i].set_text(nbb_formatted_code);\n",
       "                        }\n",
       "                        break;\n",
       "                    }\n",
       "                }\n",
       "            }, 500);\n",
       "            "
      ],
      "text/plain": [
       "<IPython.core.display.Javascript object>"
      ]
     },
     "metadata": {},
     "output_type": "display_data"
    }
   ],
   "source": [
    "filmes.head()"
   ]
  },
  {
   "cell_type": "markdown",
   "metadata": {},
   "source": [
    "# Visualizando os dados gerais"
   ]
  },
  {
   "cell_type": "markdown",
   "metadata": {},
   "source": [
    "## Pergunta: Visualize as notas médias\n",
    "\n",
    "- histograma\n",
    "- cummulative distribution function\n",
    "\n",
    "Dicas:\n",
    "\n",
    "- lembre-se de colocar um título nas imagens além de nomes nos eixos x e y\n",
    "- para gerar a versão cumulativa lembre-se de usar os parâmetros `hist_kws` e `kde_kws` para definir `'cumulative'=True`"
   ]
  },
  {
   "cell_type": "code",
   "execution_count": 38,
   "metadata": {},
   "outputs": [
    {
     "name": "stdout",
     "output_type": "stream",
     "text": [
      "Collecting statsmodels\n",
      "Collecting patsy>=0.5 (from statsmodels)\n",
      "  Using cached https://files.pythonhosted.org/packages/ea/0c/5f61f1a3d4385d6bf83b83ea495068857ff8dfb89e74824c6e9eb63286d8/patsy-0.5.1-py2.py3-none-any.whl\n",
      "Collecting pandas>=0.21 (from statsmodels)\n",
      "  Using cached https://files.pythonhosted.org/packages/db/83/7d4008ffc2988066ff37f6a0bb6d7b60822367dcb36ba5e39aa7801fda54/pandas-0.24.2-cp27-cp27mu-manylinux1_x86_64.whl\n",
      "Collecting scipy>=1.0 (from statsmodels)\n",
      "  Using cached https://files.pythonhosted.org/packages/24/40/11b12af7f322c1e20446c037c47344d89bab4922b8859419d82cf56d796d/scipy-1.2.3-cp27-cp27mu-manylinux1_x86_64.whl\n",
      "Collecting numpy>=1.14 (from statsmodels)\n",
      "  Using cached https://files.pythonhosted.org/packages/3a/5f/47e578b3ae79e2624e205445ab77a1848acdaa2929a00eeef6b16eaaeb20/numpy-1.16.6-cp27-cp27mu-manylinux1_x86_64.whl\n",
      "Collecting six (from patsy>=0.5->statsmodels)\n",
      "  Using cached https://files.pythonhosted.org/packages/65/eb/1f97cb97bfc2390a276969c6fae16075da282f5058082d4cb10c6c5c1dba/six-1.14.0-py2.py3-none-any.whl\n",
      "Collecting pytz>=2011k (from pandas>=0.21->statsmodels)\n",
      "  Using cached https://files.pythonhosted.org/packages/e7/f9/f0b53f88060247251bf481fa6ea62cd0d25bf1b11a87888e53ce5b7c8ad2/pytz-2019.3-py2.py3-none-any.whl\n",
      "Collecting python-dateutil>=2.5.0 (from pandas>=0.21->statsmodels)\n",
      "  Using cached https://files.pythonhosted.org/packages/d4/70/d60450c3dd48ef87586924207ae8907090de0b306af2bce5d134d78615cb/python_dateutil-2.8.1-py2.py3-none-any.whl\n",
      "Installing collected packages: six, numpy, patsy, pytz, python-dateutil, pandas, scipy, statsmodels\n",
      "Successfully installed numpy-1.16.6 pandas-0.24.2 patsy-0.5.1 python-dateutil-2.8.1 pytz-2019.3 scipy-1.2.3 six-1.14.0 statsmodels-0.11.0\n"
     ]
    },
    {
     "data": {
      "application/javascript": [
       "\n",
       "            setTimeout(function() {\n",
       "                var nbb_cell_id = 38;\n",
       "                var nbb_unformatted_code = \"!pip2 install -U statsmodels\";\n",
       "                var nbb_formatted_code = \"!pip2 install -U statsmodels\";\n",
       "                var nbb_cells = Jupyter.notebook.get_cells();\n",
       "                for (var i = 0; i < nbb_cells.length; ++i) {\n",
       "                    if (nbb_cells[i].input_prompt_number == nbb_cell_id) {\n",
       "                        if (nbb_cells[i].get_text() == nbb_unformatted_code) {\n",
       "                             nbb_cells[i].set_text(nbb_formatted_code);\n",
       "                        }\n",
       "                        break;\n",
       "                    }\n",
       "                }\n",
       "            }, 500);\n",
       "            "
      ],
      "text/plain": [
       "<IPython.core.display.Javascript object>"
      ]
     },
     "metadata": {},
     "output_type": "display_data"
    }
   ],
   "source": [
    "!pip2 install -U statsmodels"
   ]
  },
  {
   "cell_type": "code",
   "execution_count": 39,
   "metadata": {},
   "outputs": [
    {
     "data": {
      "image/png": "[encoded data removed]",
      "text/plain": [
       "<Figure size 432x288 with 1 Axes>"
      ]
     },
     "metadata": {
      "needs_background": "light"
     },
     "output_type": "display_data"
    },
    {
     "data": {
      "application/javascript": [
       "\n",
       "            setTimeout(function() {\n",
       "                var nbb_cell_id = 39;\n",
       "                var nbb_unformatted_code = \"# solu\\u00e7\\u00e3o histograma\\ndef print_histograma(var, titulo, xleg, yleg):\\n    ax = sns.distplot(var, kde=True);\\n    ax.set_title(titulo)\\n    ax.set_ylabel(yleg)\\n    ax.set_xlabel(xleg)\\n    plt.show()\\nprint_histograma(\\n    filmes['nota_media'], \\n    'Frequencia de distribui\\u00e7\\u00e3o das notas medias',\\n    'Nota media',\\n    'Frequencia Normalizada'\\n)\";\n",
       "                var nbb_formatted_code = \"# solu\\u00e7\\u00e3o histograma\\ndef print_histograma(var, titulo, xleg, yleg):\\n    ax = sns.distplot(var, kde=True)\\n    ax.set_title(titulo)\\n    ax.set_ylabel(yleg)\\n    ax.set_xlabel(xleg)\\n    plt.show()\\n\\n\\nprint_histograma(\\n    filmes[\\\"nota_media\\\"],\\n    \\\"Frequencia de distribui\\u00e7\\u00e3o das notas medias\\\",\\n    \\\"Nota media\\\",\\n    \\\"Frequencia Normalizada\\\",\\n)\";\n",
       "                var nbb_cells = Jupyter.notebook.get_cells();\n",
       "                for (var i = 0; i < nbb_cells.length; ++i) {\n",
       "                    if (nbb_cells[i].input_prompt_number == nbb_cell_id) {\n",
       "                        if (nbb_cells[i].get_text() == nbb_unformatted_code) {\n",
       "                             nbb_cells[i].set_text(nbb_formatted_code);\n",
       "                        }\n",
       "                        break;\n",
       "                    }\n",
       "                }\n",
       "            }, 500);\n",
       "            "
      ],
      "text/plain": [
       "<IPython.core.display.Javascript object>"
      ]
     },
     "metadata": {},
     "output_type": "display_data"
    }
   ],
   "source": [
    "# solução histograma\n",
    "def print_histograma(var, titulo, xleg, yleg):\n",
    "    ax = sns.distplot(var, kde=True)\n",
    "    ax.set_title(titulo)\n",
    "    ax.set_ylabel(yleg)\n",
    "    ax.set_xlabel(xleg)\n",
    "    plt.show()\n",
    "\n",
    "\n",
    "print_histograma(\n",
    "    filmes[\"nota_media\"],\n",
    "    \"Frequencia de distribuição das notas medias\",\n",
    "    \"Nota media\",\n",
    "    \"Frequencia Normalizada\",\n",
    ")"
   ]
  },
  {
   "cell_type": "code",
   "execution_count": 40,
   "metadata": {},
   "outputs": [
    {
     "data": {
      "image/png": "[encoded data removed]",
      "text/plain": [
       "<Figure size 432x288 with 1 Axes>"
      ]
     },
     "metadata": {
      "needs_background": "light"
     },
     "output_type": "display_data"
    },
    {
     "data": {
      "application/javascript": [
       "\n",
       "            setTimeout(function() {\n",
       "                var nbb_cell_id = 40;\n",
       "                var nbb_unformatted_code = \"# solu\\u00e7\\u00e3o cumulativa\\ndef print_acumulativo(var, titulo, xleg, yleg):\\n    kwargs = {'cumulative': True}\\n    ax = sns.distplot(var, norm_hist=True, hist_kws=kwargs, kde_kws=kwargs, kde=False)\\n    ax.set_title(titulo)\\n    ax.set_ylabel(yleg)\\n    ax.set_xlabel(xleg)\\n    plt.show()\\nprint_acumulativo(\\n    filmes['nota_media'], \\n    'Frequencia de distribui\\u00e7\\u00e3o acumulativa das notas medias',\\n    'Nota media',\\n    'Frequencia Normalizada'\\n)\";\n",
       "                var nbb_formatted_code = \"# solu\\u00e7\\u00e3o cumulativa\\ndef print_acumulativo(var, titulo, xleg, yleg):\\n    kwargs = {\\\"cumulative\\\": True}\\n    ax = sns.distplot(var, norm_hist=True, hist_kws=kwargs, kde_kws=kwargs, kde=False)\\n    ax.set_title(titulo)\\n    ax.set_ylabel(yleg)\\n    ax.set_xlabel(xleg)\\n    plt.show()\\n\\n\\nprint_acumulativo(\\n    filmes[\\\"nota_media\\\"],\\n    \\\"Frequencia de distribui\\u00e7\\u00e3o acumulativa das notas medias\\\",\\n    \\\"Nota media\\\",\\n    \\\"Frequencia Normalizada\\\",\\n)\";\n",
       "                var nbb_cells = Jupyter.notebook.get_cells();\n",
       "                for (var i = 0; i < nbb_cells.length; ++i) {\n",
       "                    if (nbb_cells[i].input_prompt_number == nbb_cell_id) {\n",
       "                        if (nbb_cells[i].get_text() == nbb_unformatted_code) {\n",
       "                             nbb_cells[i].set_text(nbb_formatted_code);\n",
       "                        }\n",
       "                        break;\n",
       "                    }\n",
       "                }\n",
       "            }, 500);\n",
       "            "
      ],
      "text/plain": [
       "<IPython.core.display.Javascript object>"
      ]
     },
     "metadata": {},
     "output_type": "display_data"
    }
   ],
   "source": [
    "# solução cumulativa\n",
    "def print_acumulativo(var, titulo, xleg, yleg):\n",
    "    kwargs = {\"cumulative\": True}\n",
    "    ax = sns.distplot(var, norm_hist=True, hist_kws=kwargs, kde_kws=kwargs, kde=False)\n",
    "    ax.set_title(titulo)\n",
    "    ax.set_ylabel(yleg)\n",
    "    ax.set_xlabel(xleg)\n",
    "    plt.show()\n",
    "\n",
    "\n",
    "print_acumulativo(\n",
    "    filmes[\"nota_media\"],\n",
    "    \"Frequencia de distribuição acumulativa das notas medias\",\n",
    "    \"Nota media\",\n",
    "    \"Frequencia Normalizada\",\n",
    ")"
   ]
  },
  {
   "cell_type": "markdown",
   "metadata": {},
   "source": [
    "## Pergunta: Visualize o total de votos\n",
    "\n",
    "- histograma\n",
    "- cummulative distribution function"
   ]
  },
  {
   "cell_type": "code",
   "execution_count": 41,
   "metadata": {},
   "outputs": [
    {
     "data": {
      "image/png": "[encoded data removed]",
      "text/plain": [
       "<Figure size 432x288 with 1 Axes>"
      ]
     },
     "metadata": {
      "needs_background": "light"
     },
     "output_type": "display_data"
    },
    {
     "data": {
      "application/javascript": [
       "\n",
       "            setTimeout(function() {\n",
       "                var nbb_cell_id = 41;\n",
       "                var nbb_unformatted_code = \"# solu\\u00e7\\u00e3o histograma\\nprint_histograma(\\n    notas['nota'], \\n    'Frequencia de distribui\\u00e7\\u00e3o das notas',\\n    'Nota',\\n    'Frequencia Normalizada'\\n)\";\n",
       "                var nbb_formatted_code = \"# solu\\u00e7\\u00e3o histograma\\nprint_histograma(\\n    notas[\\\"nota\\\"],\\n    \\\"Frequencia de distribui\\u00e7\\u00e3o das notas\\\",\\n    \\\"Nota\\\",\\n    \\\"Frequencia Normalizada\\\",\\n)\";\n",
       "                var nbb_cells = Jupyter.notebook.get_cells();\n",
       "                for (var i = 0; i < nbb_cells.length; ++i) {\n",
       "                    if (nbb_cells[i].input_prompt_number == nbb_cell_id) {\n",
       "                        if (nbb_cells[i].get_text() == nbb_unformatted_code) {\n",
       "                             nbb_cells[i].set_text(nbb_formatted_code);\n",
       "                        }\n",
       "                        break;\n",
       "                    }\n",
       "                }\n",
       "            }, 500);\n",
       "            "
      ],
      "text/plain": [
       "<IPython.core.display.Javascript object>"
      ]
     },
     "metadata": {},
     "output_type": "display_data"
    }
   ],
   "source": [
    "# solução histograma\n",
    "print_histograma(\n",
    "    notas[\"nota\"],\n",
    "    \"Frequencia de distribuição das notas\",\n",
    "    \"Nota\",\n",
    "    \"Frequencia Normalizada\",\n",
    ")"
   ]
  },
  {
   "cell_type": "code",
   "execution_count": 42,
   "metadata": {},
   "outputs": [
    {
     "data": {
      "image/png": "[encoded data removed]",
      "text/plain": [
       "<Figure size 432x288 with 1 Axes>"
      ]
     },
     "metadata": {
      "needs_background": "light"
     },
     "output_type": "display_data"
    },
    {
     "data": {
      "application/javascript": [
       "\n",
       "            setTimeout(function() {\n",
       "                var nbb_cell_id = 42;\n",
       "                var nbb_unformatted_code = \"# solu\\u00e7\\u00e3o cumulativa\\nprint_acumulativo(\\n    notas['nota'], \\n    'Frequencia de distribui\\u00e7\\u00e3o acumulativa das notas',\\n    'Nota media',\\n    'Frequencia Normalizada'\\n)\";\n",
       "                var nbb_formatted_code = \"# solu\\u00e7\\u00e3o cumulativa\\nprint_acumulativo(\\n    notas[\\\"nota\\\"],\\n    \\\"Frequencia de distribui\\u00e7\\u00e3o acumulativa das notas\\\",\\n    \\\"Nota media\\\",\\n    \\\"Frequencia Normalizada\\\",\\n)\";\n",
       "                var nbb_cells = Jupyter.notebook.get_cells();\n",
       "                for (var i = 0; i < nbb_cells.length; ++i) {\n",
       "                    if (nbb_cells[i].input_prompt_number == nbb_cell_id) {\n",
       "                        if (nbb_cells[i].get_text() == nbb_unformatted_code) {\n",
       "                             nbb_cells[i].set_text(nbb_formatted_code);\n",
       "                        }\n",
       "                        break;\n",
       "                    }\n",
       "                }\n",
       "            }, 500);\n",
       "            "
      ],
      "text/plain": [
       "<IPython.core.display.Javascript object>"
      ]
     },
     "metadata": {},
     "output_type": "display_data"
    }
   ],
   "source": [
    "# solução cumulativa\n",
    "print_acumulativo(\n",
    "    notas[\"nota\"],\n",
    "    \"Frequencia de distribuição acumulativa das notas\",\n",
    "    \"Nota media\",\n",
    "    \"Frequencia Normalizada\",\n",
    ")"
   ]
  },
  {
   "cell_type": "markdown",
   "metadata": {},
   "source": [
    "## Pergunta: 20% dos filmes do dataframe tem nota maior que? \n",
    "\n",
    "- lembre-se da função `quantile` do pandas"
   ]
  },
  {
   "cell_type": "code",
   "execution_count": 43,
   "metadata": {},
   "outputs": [
    {
     "data": {
      "application/javascript": [
       "\n",
       "            setTimeout(function() {\n",
       "                var nbb_cell_id = 43;\n",
       "                var nbb_unformatted_code = \"# solu\\u00e7\\u00e3o\\nnota_limite_dos_20_porcento = notas['nota'].quantile(0.8)\";\n",
       "                var nbb_formatted_code = \"# solu\\u00e7\\u00e3o\\nnota_limite_dos_20_porcento = notas[\\\"nota\\\"].quantile(0.8)\";\n",
       "                var nbb_cells = Jupyter.notebook.get_cells();\n",
       "                for (var i = 0; i < nbb_cells.length; ++i) {\n",
       "                    if (nbb_cells[i].input_prompt_number == nbb_cell_id) {\n",
       "                        if (nbb_cells[i].get_text() == nbb_unformatted_code) {\n",
       "                             nbb_cells[i].set_text(nbb_formatted_code);\n",
       "                        }\n",
       "                        break;\n",
       "                    }\n",
       "                }\n",
       "            }, 500);\n",
       "            "
      ],
      "text/plain": [
       "<IPython.core.display.Javascript object>"
      ]
     },
     "metadata": {},
     "output_type": "display_data"
    }
   ],
   "source": [
    "# solução\n",
    "nota_limite_dos_20_porcento = notas[\"nota\"].quantile(0.8)"
   ]
  },
  {
   "cell_type": "code",
   "execution_count": 44,
   "metadata": {},
   "outputs": [
    {
     "name": "stdout",
     "output_type": "stream",
     "text": [
      "20 porcento dos filmes tem nota maior que de 4.50\n"
     ]
    },
    {
     "data": {
      "application/javascript": [
       "\n",
       "            setTimeout(function() {\n",
       "                var nbb_cell_id = 44;\n",
       "                var nbb_unformatted_code = \"print(\\\"20 porcento dos filmes tem nota maior que de %.2f\\\" % nota_limite_dos_20_porcento)\";\n",
       "                var nbb_formatted_code = \"print(\\\"20 porcento dos filmes tem nota maior que de %.2f\\\" % nota_limite_dos_20_porcento)\";\n",
       "                var nbb_cells = Jupyter.notebook.get_cells();\n",
       "                for (var i = 0; i < nbb_cells.length; ++i) {\n",
       "                    if (nbb_cells[i].input_prompt_number == nbb_cell_id) {\n",
       "                        if (nbb_cells[i].get_text() == nbb_unformatted_code) {\n",
       "                             nbb_cells[i].set_text(nbb_formatted_code);\n",
       "                        }\n",
       "                        break;\n",
       "                    }\n",
       "                }\n",
       "            }, 500);\n",
       "            "
      ],
      "text/plain": [
       "<IPython.core.display.Javascript object>"
      ]
     },
     "metadata": {},
     "output_type": "display_data"
    }
   ],
   "source": [
    "print(\"20 porcento dos filmes tem nota maior que de %.2f\" % nota_limite_dos_20_porcento)"
   ]
  },
  {
   "cell_type": "markdown",
   "metadata": {},
   "source": [
    "## Vamos separar a coluna `generos` em diversas colunas.\n",
    "\n",
    "- O código já está pronto."
   ]
  },
  {
   "cell_type": "code",
   "execution_count": 45,
   "metadata": {},
   "outputs": [
    {
     "name": "stdout",
     "output_type": "stream",
     "text": [
      "Temos 19 generos distintos\n"
     ]
    },
    {
     "data": {
      "application/javascript": [
       "\n",
       "            setTimeout(function() {\n",
       "                var nbb_cell_id = 45;\n",
       "                var nbb_unformatted_code = \"filmes['generos'] = filmes['generos'].str.replace('-', '')\\ngeneros = filmes['generos'].str.get_dummies()\\nprint(\\\"Temos %d generos distintos\\\" % generos.shape[1])\";\n",
       "                var nbb_formatted_code = \"filmes[\\\"generos\\\"] = filmes[\\\"generos\\\"].str.replace(\\\"-\\\", \\\"\\\")\\ngeneros = filmes[\\\"generos\\\"].str.get_dummies()\\nprint(\\\"Temos %d generos distintos\\\" % generos.shape[1])\";\n",
       "                var nbb_cells = Jupyter.notebook.get_cells();\n",
       "                for (var i = 0; i < nbb_cells.length; ++i) {\n",
       "                    if (nbb_cells[i].input_prompt_number == nbb_cell_id) {\n",
       "                        if (nbb_cells[i].get_text() == nbb_unformatted_code) {\n",
       "                             nbb_cells[i].set_text(nbb_formatted_code);\n",
       "                        }\n",
       "                        break;\n",
       "                    }\n",
       "                }\n",
       "            }, 500);\n",
       "            "
      ],
      "text/plain": [
       "<IPython.core.display.Javascript object>"
      ]
     },
     "metadata": {},
     "output_type": "display_data"
    }
   ],
   "source": [
    "filmes[\"generos\"] = filmes[\"generos\"].str.replace(\"-\", \"\")\n",
    "generos = filmes[\"generos\"].str.get_dummies()\n",
    "print(\"Temos %d generos distintos\" % generos.shape[1])"
   ]
  },
  {
   "cell_type": "code",
   "execution_count": 46,
   "metadata": {},
   "outputs": [
    {
     "data": {
      "text/html": [
       "<div>\n",
       "<style scoped>\n",
       "    .dataframe tbody tr th:only-of-type {\n",
       "        vertical-align: middle;\n",
       "    }\n",
       "\n",
       "    .dataframe tbody tr th {\n",
       "        vertical-align: top;\n",
       "    }\n",
       "\n",
       "    .dataframe thead th {\n",
       "        text-align: right;\n",
       "    }\n",
       "</style>\n",
       "<table border=\"1\" class=\"dataframe\">\n",
       "  <thead>\n",
       "    <tr style=\"text-align: right;\">\n",
       "      <th></th>\n",
       "      <th>titulo</th>\n",
       "      <th>ano_de_lancamento</th>\n",
       "      <th>nota_media</th>\n",
       "      <th>total_de_votos</th>\n",
       "      <th>Action</th>\n",
       "      <th>Adventure</th>\n",
       "      <th>Animation</th>\n",
       "      <th>Children</th>\n",
       "      <th>Comedy</th>\n",
       "      <th>Crime</th>\n",
       "      <th>...</th>\n",
       "      <th>FilmNoir</th>\n",
       "      <th>Horror</th>\n",
       "      <th>IMAX</th>\n",
       "      <th>Musical</th>\n",
       "      <th>Mystery</th>\n",
       "      <th>Romance</th>\n",
       "      <th>SciFi</th>\n",
       "      <th>Thriller</th>\n",
       "      <th>War</th>\n",
       "      <th>Western</th>\n",
       "    </tr>\n",
       "    <tr>\n",
       "      <th>filmeId</th>\n",
       "      <th></th>\n",
       "      <th></th>\n",
       "      <th></th>\n",
       "      <th></th>\n",
       "      <th></th>\n",
       "      <th></th>\n",
       "      <th></th>\n",
       "      <th></th>\n",
       "      <th></th>\n",
       "      <th></th>\n",
       "      <th></th>\n",
       "      <th></th>\n",
       "      <th></th>\n",
       "      <th></th>\n",
       "      <th></th>\n",
       "      <th></th>\n",
       "      <th></th>\n",
       "      <th></th>\n",
       "      <th></th>\n",
       "      <th></th>\n",
       "      <th></th>\n",
       "    </tr>\n",
       "  </thead>\n",
       "  <tbody>\n",
       "    <tr>\n",
       "      <th>1</th>\n",
       "      <td>Toy Story (1995)</td>\n",
       "      <td>1995.0</td>\n",
       "      <td>3.920930</td>\n",
       "      <td>215.0</td>\n",
       "      <td>0</td>\n",
       "      <td>1</td>\n",
       "      <td>1</td>\n",
       "      <td>1</td>\n",
       "      <td>1</td>\n",
       "      <td>0</td>\n",
       "      <td>...</td>\n",
       "      <td>0</td>\n",
       "      <td>0</td>\n",
       "      <td>0</td>\n",
       "      <td>0</td>\n",
       "      <td>0</td>\n",
       "      <td>0</td>\n",
       "      <td>0</td>\n",
       "      <td>0</td>\n",
       "      <td>0</td>\n",
       "      <td>0</td>\n",
       "    </tr>\n",
       "    <tr>\n",
       "      <th>2</th>\n",
       "      <td>Jumanji (1995)</td>\n",
       "      <td>1995.0</td>\n",
       "      <td>3.431818</td>\n",
       "      <td>110.0</td>\n",
       "      <td>0</td>\n",
       "      <td>1</td>\n",
       "      <td>0</td>\n",
       "      <td>1</td>\n",
       "      <td>0</td>\n",
       "      <td>0</td>\n",
       "      <td>...</td>\n",
       "      <td>0</td>\n",
       "      <td>0</td>\n",
       "      <td>0</td>\n",
       "      <td>0</td>\n",
       "      <td>0</td>\n",
       "      <td>0</td>\n",
       "      <td>0</td>\n",
       "      <td>0</td>\n",
       "      <td>0</td>\n",
       "      <td>0</td>\n",
       "    </tr>\n",
       "    <tr>\n",
       "      <th>3</th>\n",
       "      <td>Grumpier Old Men (1995)</td>\n",
       "      <td>1995.0</td>\n",
       "      <td>3.259615</td>\n",
       "      <td>52.0</td>\n",
       "      <td>0</td>\n",
       "      <td>0</td>\n",
       "      <td>0</td>\n",
       "      <td>0</td>\n",
       "      <td>1</td>\n",
       "      <td>0</td>\n",
       "      <td>...</td>\n",
       "      <td>0</td>\n",
       "      <td>0</td>\n",
       "      <td>0</td>\n",
       "      <td>0</td>\n",
       "      <td>0</td>\n",
       "      <td>1</td>\n",
       "      <td>0</td>\n",
       "      <td>0</td>\n",
       "      <td>0</td>\n",
       "      <td>0</td>\n",
       "    </tr>\n",
       "    <tr>\n",
       "      <th>6</th>\n",
       "      <td>Heat (1995)</td>\n",
       "      <td>1995.0</td>\n",
       "      <td>3.946078</td>\n",
       "      <td>102.0</td>\n",
       "      <td>1</td>\n",
       "      <td>0</td>\n",
       "      <td>0</td>\n",
       "      <td>0</td>\n",
       "      <td>0</td>\n",
       "      <td>1</td>\n",
       "      <td>...</td>\n",
       "      <td>0</td>\n",
       "      <td>0</td>\n",
       "      <td>0</td>\n",
       "      <td>0</td>\n",
       "      <td>0</td>\n",
       "      <td>0</td>\n",
       "      <td>0</td>\n",
       "      <td>1</td>\n",
       "      <td>0</td>\n",
       "      <td>0</td>\n",
       "    </tr>\n",
       "    <tr>\n",
       "      <th>7</th>\n",
       "      <td>Sabrina (1995)</td>\n",
       "      <td>1995.0</td>\n",
       "      <td>3.185185</td>\n",
       "      <td>54.0</td>\n",
       "      <td>0</td>\n",
       "      <td>0</td>\n",
       "      <td>0</td>\n",
       "      <td>0</td>\n",
       "      <td>1</td>\n",
       "      <td>0</td>\n",
       "      <td>...</td>\n",
       "      <td>0</td>\n",
       "      <td>0</td>\n",
       "      <td>0</td>\n",
       "      <td>0</td>\n",
       "      <td>0</td>\n",
       "      <td>1</td>\n",
       "      <td>0</td>\n",
       "      <td>0</td>\n",
       "      <td>0</td>\n",
       "      <td>0</td>\n",
       "    </tr>\n",
       "  </tbody>\n",
       "</table>\n",
       "<p>5 rows × 23 columns</p>\n",
       "</div>"
      ],
      "text/plain": [
       "                          titulo  ano_de_lancamento  nota_media  \\\n",
       "filmeId                                                           \n",
       "1               Toy Story (1995)             1995.0    3.920930   \n",
       "2                 Jumanji (1995)             1995.0    3.431818   \n",
       "3        Grumpier Old Men (1995)             1995.0    3.259615   \n",
       "6                    Heat (1995)             1995.0    3.946078   \n",
       "7                 Sabrina (1995)             1995.0    3.185185   \n",
       "\n",
       "         total_de_votos  Action  Adventure  Animation  Children  Comedy  \\\n",
       "filmeId                                                                   \n",
       "1                 215.0       0          1          1         1       1   \n",
       "2                 110.0       0          1          0         1       0   \n",
       "3                  52.0       0          0          0         0       1   \n",
       "6                 102.0       1          0          0         0       0   \n",
       "7                  54.0       0          0          0         0       1   \n",
       "\n",
       "         Crime  ...  FilmNoir  Horror  IMAX  Musical  Mystery  Romance  SciFi  \\\n",
       "filmeId         ...                                                             \n",
       "1            0  ...         0       0     0        0        0        0      0   \n",
       "2            0  ...         0       0     0        0        0        0      0   \n",
       "3            0  ...         0       0     0        0        0        1      0   \n",
       "6            1  ...         0       0     0        0        0        0      0   \n",
       "7            0  ...         0       0     0        0        0        1      0   \n",
       "\n",
       "         Thriller  War  Western  \n",
       "filmeId                          \n",
       "1               0    0        0  \n",
       "2               0    0        0  \n",
       "3               0    0        0  \n",
       "6               1    0        0  \n",
       "7               0    0        0  \n",
       "\n",
       "[5 rows x 23 columns]"
      ]
     },
     "execution_count": 46,
     "metadata": {},
     "output_type": "execute_result"
    },
    {
     "data": {
      "application/javascript": [
       "\n",
       "            setTimeout(function() {\n",
       "                var nbb_cell_id = 46;\n",
       "                var nbb_unformatted_code = \"filmes = filmes.join(generos).drop(columns=['generos'], axis=1)\\nfilmes.head()\";\n",
       "                var nbb_formatted_code = \"filmes = filmes.join(generos).drop(columns=[\\\"generos\\\"], axis=1)\\nfilmes.head()\";\n",
       "                var nbb_cells = Jupyter.notebook.get_cells();\n",
       "                for (var i = 0; i < nbb_cells.length; ++i) {\n",
       "                    if (nbb_cells[i].input_prompt_number == nbb_cell_id) {\n",
       "                        if (nbb_cells[i].get_text() == nbb_unformatted_code) {\n",
       "                             nbb_cells[i].set_text(nbb_formatted_code);\n",
       "                        }\n",
       "                        break;\n",
       "                    }\n",
       "                }\n",
       "            }, 500);\n",
       "            "
      ],
      "text/plain": [
       "<IPython.core.display.Javascript object>"
      ]
     },
     "metadata": {},
     "output_type": "display_data"
    }
   ],
   "source": [
    "filmes = filmes.join(generos).drop(columns=[\"generos\"], axis=1)\n",
    "filmes.head()"
   ]
  },
  {
   "cell_type": "markdown",
   "metadata": {},
   "source": [
    "## Pergunta: visualização de quantos filmes existem por genero\n",
    "\n",
    "- Para cada um dos generos você deve agrupar o número de filmes\n",
    "- Ordene as barras, na esquerda o genero com mais filmes, na direita o que tem menos filmes\n",
    "\n",
    "Dica:\n",
    "\n",
    "- Para fazer a soma de uma ou mais colunas individualmente você pode usar `seu_dataframe.sum()`\n",
    "- Não precisa usar o dataframe `filmes`, somente o dataframe `generos`\n",
    "- Em certas situações é mais fácil usar as funções de plotagem do pandas ao invés do seaborn"
   ]
  },
  {
   "cell_type": "code",
   "execution_count": 47,
   "metadata": {},
   "outputs": [
    {
     "data": {
      "text/html": [
       "<div>\n",
       "<style scoped>\n",
       "    .dataframe tbody tr th:only-of-type {\n",
       "        vertical-align: middle;\n",
       "    }\n",
       "\n",
       "    .dataframe tbody tr th {\n",
       "        vertical-align: top;\n",
       "    }\n",
       "\n",
       "    .dataframe thead th {\n",
       "        text-align: right;\n",
       "    }\n",
       "</style>\n",
       "<table border=\"1\" class=\"dataframe\">\n",
       "  <thead>\n",
       "    <tr style=\"text-align: right;\">\n",
       "      <th></th>\n",
       "      <th>Numero de filmes</th>\n",
       "    </tr>\n",
       "  </thead>\n",
       "  <tbody>\n",
       "    <tr>\n",
       "      <th>Action</th>\n",
       "      <td>164</td>\n",
       "    </tr>\n",
       "    <tr>\n",
       "      <th>Adventure</th>\n",
       "      <td>132</td>\n",
       "    </tr>\n",
       "    <tr>\n",
       "      <th>Animation</th>\n",
       "      <td>32</td>\n",
       "    </tr>\n",
       "    <tr>\n",
       "      <th>Children</th>\n",
       "      <td>47</td>\n",
       "    </tr>\n",
       "    <tr>\n",
       "      <th>Comedy</th>\n",
       "      <td>181</td>\n",
       "    </tr>\n",
       "    <tr>\n",
       "      <th>Crime</th>\n",
       "      <td>87</td>\n",
       "    </tr>\n",
       "    <tr>\n",
       "      <th>Documentary</th>\n",
       "      <td>2</td>\n",
       "    </tr>\n",
       "    <tr>\n",
       "      <th>Drama</th>\n",
       "      <td>166</td>\n",
       "    </tr>\n",
       "    <tr>\n",
       "      <th>Fantasy</th>\n",
       "      <td>66</td>\n",
       "    </tr>\n",
       "    <tr>\n",
       "      <th>FilmNoir</th>\n",
       "      <td>4</td>\n",
       "    </tr>\n",
       "    <tr>\n",
       "      <th>Horror</th>\n",
       "      <td>26</td>\n",
       "    </tr>\n",
       "    <tr>\n",
       "      <th>IMAX</th>\n",
       "      <td>28</td>\n",
       "    </tr>\n",
       "    <tr>\n",
       "      <th>Musical</th>\n",
       "      <td>21</td>\n",
       "    </tr>\n",
       "    <tr>\n",
       "      <th>Mystery</th>\n",
       "      <td>38</td>\n",
       "    </tr>\n",
       "    <tr>\n",
       "      <th>Romance</th>\n",
       "      <td>85</td>\n",
       "    </tr>\n",
       "    <tr>\n",
       "      <th>SciFi</th>\n",
       "      <td>92</td>\n",
       "    </tr>\n",
       "    <tr>\n",
       "      <th>Thriller</th>\n",
       "      <td>121</td>\n",
       "    </tr>\n",
       "    <tr>\n",
       "      <th>War</th>\n",
       "      <td>19</td>\n",
       "    </tr>\n",
       "    <tr>\n",
       "      <th>Western</th>\n",
       "      <td>12</td>\n",
       "    </tr>\n",
       "  </tbody>\n",
       "</table>\n",
       "</div>"
      ],
      "text/plain": [
       "             Numero de filmes\n",
       "Action                    164\n",
       "Adventure                 132\n",
       "Animation                  32\n",
       "Children                   47\n",
       "Comedy                    181\n",
       "Crime                      87\n",
       "Documentary                 2\n",
       "Drama                     166\n",
       "Fantasy                    66\n",
       "FilmNoir                    4\n",
       "Horror                     26\n",
       "IMAX                       28\n",
       "Musical                    21\n",
       "Mystery                    38\n",
       "Romance                    85\n",
       "SciFi                      92\n",
       "Thriller                  121\n",
       "War                        19\n",
       "Western                    12"
      ]
     },
     "execution_count": 47,
     "metadata": {},
     "output_type": "execute_result"
    },
    {
     "data": {
      "image/png": "[encoded data removed]",
      "text/plain": [
       "<Figure size 432x288 with 1 Axes>"
      ]
     },
     "metadata": {
      "needs_background": "light"
     },
     "output_type": "display_data"
    },
    {
     "data": {
      "application/javascript": [
       "\n",
       "            setTimeout(function() {\n",
       "                var nbb_cell_id = 47;\n",
       "                var nbb_unformatted_code = \"# solu\\u00e7\\u00e3o\\nnumero_de_filmes_por_genero = pd.DataFrame(generos.sum(), columns=['Numero de filmes'])\\nnumero_de_filmes_por_genero.plot(kind='bar')\\nnumero_de_filmes_por_genero\";\n",
       "                var nbb_formatted_code = \"# solu\\u00e7\\u00e3o\\nnumero_de_filmes_por_genero = pd.DataFrame(generos.sum(), columns=[\\\"Numero de filmes\\\"])\\nnumero_de_filmes_por_genero.plot(kind=\\\"bar\\\")\\nnumero_de_filmes_por_genero\";\n",
       "                var nbb_cells = Jupyter.notebook.get_cells();\n",
       "                for (var i = 0; i < nbb_cells.length; ++i) {\n",
       "                    if (nbb_cells[i].input_prompt_number == nbb_cell_id) {\n",
       "                        if (nbb_cells[i].get_text() == nbb_unformatted_code) {\n",
       "                             nbb_cells[i].set_text(nbb_formatted_code);\n",
       "                        }\n",
       "                        break;\n",
       "                    }\n",
       "                }\n",
       "            }, 500);\n",
       "            "
      ],
      "text/plain": [
       "<IPython.core.display.Javascript object>"
      ]
     },
     "metadata": {},
     "output_type": "display_data"
    }
   ],
   "source": [
    "# solução\n",
    "numero_de_filmes_por_genero = pd.DataFrame(generos.sum(), columns=[\"Numero de filmes\"])\n",
    "numero_de_filmes_por_genero.plot(kind=\"bar\")\n",
    "numero_de_filmes_por_genero"
   ]
  },
  {
   "cell_type": "markdown",
   "metadata": {},
   "source": [
    "## Pergunta: Quais são os 5 generos com mais filmes?\n",
    "\n",
    "Dica:\n",
    "\n",
    "- `sort_values()` pode ordenar uma Series do pandas"
   ]
  },
  {
   "cell_type": "code",
   "execution_count": 48,
   "metadata": {},
   "outputs": [
    {
     "data": {
      "application/javascript": [
       "\n",
       "            setTimeout(function() {\n",
       "                var nbb_cell_id = 48;\n",
       "                var nbb_unformatted_code = \"# solu\\u00e7\\u00e3o\\ntop5_generos_em_quantidade_de_filmes = numero_de_filmes_por_genero.sort_values('Numero de filmes', ascending=False).head()\";\n",
       "                var nbb_formatted_code = \"# solu\\u00e7\\u00e3o\\ntop5_generos_em_quantidade_de_filmes = numero_de_filmes_por_genero.sort_values(\\n    \\\"Numero de filmes\\\", ascending=False\\n).head()\";\n",
       "                var nbb_cells = Jupyter.notebook.get_cells();\n",
       "                for (var i = 0; i < nbb_cells.length; ++i) {\n",
       "                    if (nbb_cells[i].input_prompt_number == nbb_cell_id) {\n",
       "                        if (nbb_cells[i].get_text() == nbb_unformatted_code) {\n",
       "                             nbb_cells[i].set_text(nbb_formatted_code);\n",
       "                        }\n",
       "                        break;\n",
       "                    }\n",
       "                }\n",
       "            }, 500);\n",
       "            "
      ],
      "text/plain": [
       "<IPython.core.display.Javascript object>"
      ]
     },
     "metadata": {},
     "output_type": "display_data"
    }
   ],
   "source": [
    "# solução\n",
    "top5_generos_em_quantidade_de_filmes = numero_de_filmes_por_genero.sort_values(\n",
    "    \"Numero de filmes\", ascending=False\n",
    ").head()"
   ]
  },
  {
   "cell_type": "code",
   "execution_count": 49,
   "metadata": {},
   "outputs": [
    {
     "name": "stdout",
     "output_type": "stream",
     "text": [
      "           Numero de filmes\n",
      "Comedy                  181\n",
      "Drama                   166\n",
      "Action                  164\n",
      "Adventure               132\n",
      "Thriller                121\n"
     ]
    },
    {
     "data": {
      "application/javascript": [
       "\n",
       "            setTimeout(function() {\n",
       "                var nbb_cell_id = 49;\n",
       "                var nbb_unformatted_code = \"print(top5_generos_em_quantidade_de_filmes)\";\n",
       "                var nbb_formatted_code = \"print(top5_generos_em_quantidade_de_filmes)\";\n",
       "                var nbb_cells = Jupyter.notebook.get_cells();\n",
       "                for (var i = 0; i < nbb_cells.length; ++i) {\n",
       "                    if (nbb_cells[i].input_prompt_number == nbb_cell_id) {\n",
       "                        if (nbb_cells[i].get_text() == nbb_unformatted_code) {\n",
       "                             nbb_cells[i].set_text(nbb_formatted_code);\n",
       "                        }\n",
       "                        break;\n",
       "                    }\n",
       "                }\n",
       "            }, 500);\n",
       "            "
      ],
      "text/plain": [
       "<IPython.core.display.Javascript object>"
      ]
     },
     "metadata": {},
     "output_type": "display_data"
    }
   ],
   "source": [
    "print(top5_generos_em_quantidade_de_filmes)"
   ]
  },
  {
   "cell_type": "markdown",
   "metadata": {},
   "source": [
    "## Pergunta: visualização de votos por genero\n",
    "\n",
    "- o código que gera os votos por genero já está pronto\n",
    "- ordene as categorias da mais visualizada para a menos visualizada\n",
    "- gere a visualização por genero"
   ]
  },
  {
   "cell_type": "code",
   "execution_count": 50,
   "metadata": {},
   "outputs": [
    {
     "data": {
      "text/html": [
       "<div>\n",
       "<style scoped>\n",
       "    .dataframe tbody tr th:only-of-type {\n",
       "        vertical-align: middle;\n",
       "    }\n",
       "\n",
       "    .dataframe tbody tr th {\n",
       "        vertical-align: top;\n",
       "    }\n",
       "\n",
       "    .dataframe thead th {\n",
       "        text-align: right;\n",
       "    }\n",
       "</style>\n",
       "<table border=\"1\" class=\"dataframe\">\n",
       "  <thead>\n",
       "    <tr style=\"text-align: right;\">\n",
       "      <th></th>\n",
       "      <th>Action</th>\n",
       "      <th>Adventure</th>\n",
       "      <th>Animation</th>\n",
       "      <th>Children</th>\n",
       "      <th>Comedy</th>\n",
       "      <th>Crime</th>\n",
       "      <th>Documentary</th>\n",
       "      <th>Drama</th>\n",
       "      <th>Fantasy</th>\n",
       "      <th>FilmNoir</th>\n",
       "      <th>Horror</th>\n",
       "      <th>IMAX</th>\n",
       "      <th>Musical</th>\n",
       "      <th>Mystery</th>\n",
       "      <th>Romance</th>\n",
       "      <th>SciFi</th>\n",
       "      <th>Thriller</th>\n",
       "      <th>War</th>\n",
       "      <th>Western</th>\n",
       "    </tr>\n",
       "  </thead>\n",
       "  <tbody>\n",
       "    <tr>\n",
       "      <th>0</th>\n",
       "      <td>0.0</td>\n",
       "      <td>215.0</td>\n",
       "      <td>215.0</td>\n",
       "      <td>215.0</td>\n",
       "      <td>215.0</td>\n",
       "      <td>0.0</td>\n",
       "      <td>0.0</td>\n",
       "      <td>0.0</td>\n",
       "      <td>215.0</td>\n",
       "      <td>0.0</td>\n",
       "      <td>0.0</td>\n",
       "      <td>0.0</td>\n",
       "      <td>0.0</td>\n",
       "      <td>0.0</td>\n",
       "      <td>0.0</td>\n",
       "      <td>0.0</td>\n",
       "      <td>0.0</td>\n",
       "      <td>0.0</td>\n",
       "      <td>0.0</td>\n",
       "    </tr>\n",
       "    <tr>\n",
       "      <th>1</th>\n",
       "      <td>0.0</td>\n",
       "      <td>110.0</td>\n",
       "      <td>0.0</td>\n",
       "      <td>110.0</td>\n",
       "      <td>0.0</td>\n",
       "      <td>0.0</td>\n",
       "      <td>0.0</td>\n",
       "      <td>0.0</td>\n",
       "      <td>110.0</td>\n",
       "      <td>0.0</td>\n",
       "      <td>0.0</td>\n",
       "      <td>0.0</td>\n",
       "      <td>0.0</td>\n",
       "      <td>0.0</td>\n",
       "      <td>0.0</td>\n",
       "      <td>0.0</td>\n",
       "      <td>0.0</td>\n",
       "      <td>0.0</td>\n",
       "      <td>0.0</td>\n",
       "    </tr>\n",
       "    <tr>\n",
       "      <th>2</th>\n",
       "      <td>0.0</td>\n",
       "      <td>0.0</td>\n",
       "      <td>0.0</td>\n",
       "      <td>0.0</td>\n",
       "      <td>52.0</td>\n",
       "      <td>0.0</td>\n",
       "      <td>0.0</td>\n",
       "      <td>0.0</td>\n",
       "      <td>0.0</td>\n",
       "      <td>0.0</td>\n",
       "      <td>0.0</td>\n",
       "      <td>0.0</td>\n",
       "      <td>0.0</td>\n",
       "      <td>0.0</td>\n",
       "      <td>52.0</td>\n",
       "      <td>0.0</td>\n",
       "      <td>0.0</td>\n",
       "      <td>0.0</td>\n",
       "      <td>0.0</td>\n",
       "    </tr>\n",
       "    <tr>\n",
       "      <th>3</th>\n",
       "      <td>102.0</td>\n",
       "      <td>0.0</td>\n",
       "      <td>0.0</td>\n",
       "      <td>0.0</td>\n",
       "      <td>0.0</td>\n",
       "      <td>102.0</td>\n",
       "      <td>0.0</td>\n",
       "      <td>0.0</td>\n",
       "      <td>0.0</td>\n",
       "      <td>0.0</td>\n",
       "      <td>0.0</td>\n",
       "      <td>0.0</td>\n",
       "      <td>0.0</td>\n",
       "      <td>0.0</td>\n",
       "      <td>0.0</td>\n",
       "      <td>0.0</td>\n",
       "      <td>102.0</td>\n",
       "      <td>0.0</td>\n",
       "      <td>0.0</td>\n",
       "    </tr>\n",
       "    <tr>\n",
       "      <th>4</th>\n",
       "      <td>0.0</td>\n",
       "      <td>0.0</td>\n",
       "      <td>0.0</td>\n",
       "      <td>0.0</td>\n",
       "      <td>54.0</td>\n",
       "      <td>0.0</td>\n",
       "      <td>0.0</td>\n",
       "      <td>0.0</td>\n",
       "      <td>0.0</td>\n",
       "      <td>0.0</td>\n",
       "      <td>0.0</td>\n",
       "      <td>0.0</td>\n",
       "      <td>0.0</td>\n",
       "      <td>0.0</td>\n",
       "      <td>54.0</td>\n",
       "      <td>0.0</td>\n",
       "      <td>0.0</td>\n",
       "      <td>0.0</td>\n",
       "      <td>0.0</td>\n",
       "    </tr>\n",
       "  </tbody>\n",
       "</table>\n",
       "</div>"
      ],
      "text/plain": [
       "   Action  Adventure  Animation  Children  Comedy  Crime  Documentary  Drama  \\\n",
       "0     0.0      215.0      215.0     215.0   215.0    0.0          0.0    0.0   \n",
       "1     0.0      110.0        0.0     110.0     0.0    0.0          0.0    0.0   \n",
       "2     0.0        0.0        0.0       0.0    52.0    0.0          0.0    0.0   \n",
       "3   102.0        0.0        0.0       0.0     0.0  102.0          0.0    0.0   \n",
       "4     0.0        0.0        0.0       0.0    54.0    0.0          0.0    0.0   \n",
       "\n",
       "   Fantasy  FilmNoir  Horror  IMAX  Musical  Mystery  Romance  SciFi  \\\n",
       "0    215.0       0.0     0.0   0.0      0.0      0.0      0.0    0.0   \n",
       "1    110.0       0.0     0.0   0.0      0.0      0.0      0.0    0.0   \n",
       "2      0.0       0.0     0.0   0.0      0.0      0.0     52.0    0.0   \n",
       "3      0.0       0.0     0.0   0.0      0.0      0.0      0.0    0.0   \n",
       "4      0.0       0.0     0.0   0.0      0.0      0.0     54.0    0.0   \n",
       "\n",
       "   Thriller  War  Western  \n",
       "0       0.0  0.0      0.0  \n",
       "1       0.0  0.0      0.0  \n",
       "2       0.0  0.0      0.0  \n",
       "3     102.0  0.0      0.0  \n",
       "4       0.0  0.0      0.0  "
      ]
     },
     "execution_count": 50,
     "metadata": {},
     "output_type": "execute_result"
    },
    {
     "data": {
      "application/javascript": [
       "\n",
       "            setTimeout(function() {\n",
       "                var nbb_cell_id = 50;\n",
       "                var nbb_unformatted_code = \"votos_por_genero_por_filme = pd.DataFrame((generos.values.T * filmes['total_de_votos'].values).T, columns = generos.columns)\\nvotos_por_genero_por_filme.head()\";\n",
       "                var nbb_formatted_code = \"votos_por_genero_por_filme = pd.DataFrame(\\n    (generos.values.T * filmes[\\\"total_de_votos\\\"].values).T, columns=generos.columns\\n)\\nvotos_por_genero_por_filme.head()\";\n",
       "                var nbb_cells = Jupyter.notebook.get_cells();\n",
       "                for (var i = 0; i < nbb_cells.length; ++i) {\n",
       "                    if (nbb_cells[i].input_prompt_number == nbb_cell_id) {\n",
       "                        if (nbb_cells[i].get_text() == nbb_unformatted_code) {\n",
       "                             nbb_cells[i].set_text(nbb_formatted_code);\n",
       "                        }\n",
       "                        break;\n",
       "                    }\n",
       "                }\n",
       "            }, 500);\n",
       "            "
      ],
      "text/plain": [
       "<IPython.core.display.Javascript object>"
      ]
     },
     "metadata": {},
     "output_type": "display_data"
    }
   ],
   "source": [
    "votos_por_genero_por_filme = pd.DataFrame(\n",
    "    (generos.values.T * filmes[\"total_de_votos\"].values).T, columns=generos.columns\n",
    ")\n",
    "votos_por_genero_por_filme.head()"
   ]
  },
  {
   "cell_type": "code",
   "execution_count": 51,
   "metadata": {},
   "outputs": [
    {
     "data": {
      "text/html": [
       "<div>\n",
       "<style scoped>\n",
       "    .dataframe tbody tr th:only-of-type {\n",
       "        vertical-align: middle;\n",
       "    }\n",
       "\n",
       "    .dataframe tbody tr th {\n",
       "        vertical-align: top;\n",
       "    }\n",
       "\n",
       "    .dataframe thead th {\n",
       "        text-align: right;\n",
       "    }\n",
       "</style>\n",
       "<table border=\"1\" class=\"dataframe\">\n",
       "  <thead>\n",
       "    <tr style=\"text-align: right;\">\n",
       "      <th></th>\n",
       "      <th>Numero de votos</th>\n",
       "    </tr>\n",
       "  </thead>\n",
       "  <tbody>\n",
       "    <tr>\n",
       "      <th>Action</th>\n",
       "      <td>15734.0</td>\n",
       "    </tr>\n",
       "    <tr>\n",
       "      <th>Drama</th>\n",
       "      <td>15445.0</td>\n",
       "    </tr>\n",
       "    <tr>\n",
       "      <th>Comedy</th>\n",
       "      <td>15330.0</td>\n",
       "    </tr>\n",
       "    <tr>\n",
       "      <th>Adventure</th>\n",
       "      <td>13117.0</td>\n",
       "    </tr>\n",
       "    <tr>\n",
       "      <th>Thriller</th>\n",
       "      <td>11907.0</td>\n",
       "    </tr>\n",
       "  </tbody>\n",
       "</table>\n",
       "</div>"
      ],
      "text/plain": [
       "           Numero de votos\n",
       "Action             15734.0\n",
       "Drama              15445.0\n",
       "Comedy             15330.0\n",
       "Adventure          13117.0\n",
       "Thriller           11907.0"
      ]
     },
     "execution_count": 51,
     "metadata": {},
     "output_type": "execute_result"
    },
    {
     "data": {
      "application/javascript": [
       "\n",
       "            setTimeout(function() {\n",
       "                var nbb_cell_id = 51;\n",
       "                var nbb_unformatted_code = \"# soluc\\u00e3o\\nnumeros_de_votos_por_genero_por_filme = pd.DataFrame(votos_por_genero_por_filme.sum(), columns=['Numero de votos'])\\nnumeros_de_votos_por_genero_por_filme.sort_values('Numero de votos', ascending=False).head()\";\n",
       "                var nbb_formatted_code = \"# soluc\\u00e3o\\nnumeros_de_votos_por_genero_por_filme = pd.DataFrame(\\n    votos_por_genero_por_filme.sum(), columns=[\\\"Numero de votos\\\"]\\n)\\nnumeros_de_votos_por_genero_por_filme.sort_values(\\n    \\\"Numero de votos\\\", ascending=False\\n).head()\";\n",
       "                var nbb_cells = Jupyter.notebook.get_cells();\n",
       "                for (var i = 0; i < nbb_cells.length; ++i) {\n",
       "                    if (nbb_cells[i].input_prompt_number == nbb_cell_id) {\n",
       "                        if (nbb_cells[i].get_text() == nbb_unformatted_code) {\n",
       "                             nbb_cells[i].set_text(nbb_formatted_code);\n",
       "                        }\n",
       "                        break;\n",
       "                    }\n",
       "                }\n",
       "            }, 500);\n",
       "            "
      ],
      "text/plain": [
       "<IPython.core.display.Javascript object>"
      ]
     },
     "metadata": {},
     "output_type": "display_data"
    }
   ],
   "source": [
    "# solucão\n",
    "numeros_de_votos_por_genero_por_filme = pd.DataFrame(\n",
    "    votos_por_genero_por_filme.sum(), columns=[\"Numero de votos\"]\n",
    ")\n",
    "numeros_de_votos_por_genero_por_filme.sort_values(\n",
    "    \"Numero de votos\", ascending=False\n",
    ").head()"
   ]
  },
  {
   "cell_type": "code",
   "execution_count": 52,
   "metadata": {},
   "outputs": [
    {
     "data": {
      "image/png": "[encoded data removed]",
      "text/plain": [
       "<Figure size 432x288 with 1 Axes>"
      ]
     },
     "metadata": {
      "needs_background": "light"
     },
     "output_type": "display_data"
    },
    {
     "data": {
      "application/javascript": [
       "\n",
       "            setTimeout(function() {\n",
       "                var nbb_cell_id = 52;\n",
       "                var nbb_unformatted_code = \"# solu\\u00e7\\u00e3o\\nnumeros_de_votos_por_genero_por_filme.plot(kind='bar')\\nplt.title('Boxplot de numero de votos por Genero')\\nplt.ylabel('Numero de votos')\\nplt.show()\";\n",
       "                var nbb_formatted_code = \"# solu\\u00e7\\u00e3o\\nnumeros_de_votos_por_genero_por_filme.plot(kind=\\\"bar\\\")\\nplt.title(\\\"Boxplot de numero de votos por Genero\\\")\\nplt.ylabel(\\\"Numero de votos\\\")\\nplt.show()\";\n",
       "                var nbb_cells = Jupyter.notebook.get_cells();\n",
       "                for (var i = 0; i < nbb_cells.length; ++i) {\n",
       "                    if (nbb_cells[i].input_prompt_number == nbb_cell_id) {\n",
       "                        if (nbb_cells[i].get_text() == nbb_unformatted_code) {\n",
       "                             nbb_cells[i].set_text(nbb_formatted_code);\n",
       "                        }\n",
       "                        break;\n",
       "                    }\n",
       "                }\n",
       "            }, 500);\n",
       "            "
      ],
      "text/plain": [
       "<IPython.core.display.Javascript object>"
      ]
     },
     "metadata": {},
     "output_type": "display_data"
    }
   ],
   "source": [
    "# solução\n",
    "numeros_de_votos_por_genero_por_filme.plot(kind=\"bar\")\n",
    "plt.title(\"Boxplot de numero de votos por Genero\")\n",
    "plt.ylabel(\"Numero de votos\")\n",
    "plt.show()"
   ]
  },
  {
   "cell_type": "markdown",
   "metadata": {},
   "source": [
    "## Pergunta : votos por filme por genero\n",
    "\n",
    "Queremos entender a quantidade de votos em relação a quantidade de filmes existentes naquele genero.\n",
    "\n",
    "Por exemplo: \n",
    "- se temos 1000 votos de `Ação` e 10 filmes desse genero, foram 100 votos por filme nesse genero.\n",
    "- se o gênero `Documentário` tem 2 filmes e 500 votos, ele tem 250 votos por filme nesse gênero.\n",
    "\n",
    "Queremos entender isso, a \"popularidade\" média de um filme em cada categoria, isto é, o número de votos dividido pelo número de filmes, organizado para cada categoria.\n",
    "\n",
    "- Você já possui o número de votos por genero\n",
    "- Calcule o número de votos por genero dividido pelo total de filmes por genero\n",
    "- Ordene do maior para o menor\n",
    "- Plote um gráfico para visualizarmos esses dados"
   ]
  },
  {
   "cell_type": "code",
   "execution_count": 53,
   "metadata": {},
   "outputs": [
    {
     "data": {
      "application/javascript": [
       "\n",
       "            setTimeout(function() {\n",
       "                var nbb_cell_id = 53;\n",
       "                var nbb_unformatted_code = \"# solucao c\\u00f3digo\\ndf = numeros_de_votos_por_genero_por_filme\\ndf['Numero de filmes'] = numero_de_filmes_por_genero\\ndf['Votos/Filmes'] = df['Numero de votos']/df['Numero de filmes']\";\n",
       "                var nbb_formatted_code = \"# solucao c\\u00f3digo\\ndf = numeros_de_votos_por_genero_por_filme\\ndf[\\\"Numero de filmes\\\"] = numero_de_filmes_por_genero\\ndf[\\\"Votos/Filmes\\\"] = df[\\\"Numero de votos\\\"] / df[\\\"Numero de filmes\\\"]\";\n",
       "                var nbb_cells = Jupyter.notebook.get_cells();\n",
       "                for (var i = 0; i < nbb_cells.length; ++i) {\n",
       "                    if (nbb_cells[i].input_prompt_number == nbb_cell_id) {\n",
       "                        if (nbb_cells[i].get_text() == nbb_unformatted_code) {\n",
       "                             nbb_cells[i].set_text(nbb_formatted_code);\n",
       "                        }\n",
       "                        break;\n",
       "                    }\n",
       "                }\n",
       "            }, 500);\n",
       "            "
      ],
      "text/plain": [
       "<IPython.core.display.Javascript object>"
      ]
     },
     "metadata": {},
     "output_type": "display_data"
    }
   ],
   "source": [
    "# solucao código\n",
    "df = numeros_de_votos_por_genero_por_filme\n",
    "df[\"Numero de filmes\"] = numero_de_filmes_por_genero\n",
    "df[\"Votos/Filmes\"] = df[\"Numero de votos\"] / df[\"Numero de filmes\"]"
   ]
  },
  {
   "cell_type": "code",
   "execution_count": 54,
   "metadata": {},
   "outputs": [
    {
     "data": {
      "image/png": "[encoded data removed]",
      "text/plain": [
       "<Figure size 432x288 with 1 Axes>"
      ]
     },
     "metadata": {
      "needs_background": "light"
     },
     "output_type": "display_data"
    },
    {
     "data": {
      "text/html": [
       "<div>\n",
       "<style scoped>\n",
       "    .dataframe tbody tr th:only-of-type {\n",
       "        vertical-align: middle;\n",
       "    }\n",
       "\n",
       "    .dataframe tbody tr th {\n",
       "        vertical-align: top;\n",
       "    }\n",
       "\n",
       "    .dataframe thead th {\n",
       "        text-align: right;\n",
       "    }\n",
       "</style>\n",
       "<table border=\"1\" class=\"dataframe\">\n",
       "  <thead>\n",
       "    <tr style=\"text-align: right;\">\n",
       "      <th></th>\n",
       "      <th>Numero de votos</th>\n",
       "      <th>Numero de filmes</th>\n",
       "      <th>Votos/Filmes</th>\n",
       "    </tr>\n",
       "  </thead>\n",
       "  <tbody>\n",
       "    <tr>\n",
       "      <th>Action</th>\n",
       "      <td>15734.0</td>\n",
       "      <td>164</td>\n",
       "      <td>95.939024</td>\n",
       "    </tr>\n",
       "    <tr>\n",
       "      <th>Adventure</th>\n",
       "      <td>13117.0</td>\n",
       "      <td>132</td>\n",
       "      <td>99.371212</td>\n",
       "    </tr>\n",
       "    <tr>\n",
       "      <th>Animation</th>\n",
       "      <td>3066.0</td>\n",
       "      <td>32</td>\n",
       "      <td>95.812500</td>\n",
       "    </tr>\n",
       "    <tr>\n",
       "      <th>Children</th>\n",
       "      <td>4331.0</td>\n",
       "      <td>47</td>\n",
       "      <td>92.148936</td>\n",
       "    </tr>\n",
       "    <tr>\n",
       "      <th>Comedy</th>\n",
       "      <td>15330.0</td>\n",
       "      <td>181</td>\n",
       "      <td>84.696133</td>\n",
       "    </tr>\n",
       "    <tr>\n",
       "      <th>Crime</th>\n",
       "      <td>8649.0</td>\n",
       "      <td>87</td>\n",
       "      <td>99.413793</td>\n",
       "    </tr>\n",
       "    <tr>\n",
       "      <th>Documentary</th>\n",
       "      <td>108.0</td>\n",
       "      <td>2</td>\n",
       "      <td>54.000000</td>\n",
       "    </tr>\n",
       "    <tr>\n",
       "      <th>Drama</th>\n",
       "      <td>15445.0</td>\n",
       "      <td>166</td>\n",
       "      <td>93.042169</td>\n",
       "    </tr>\n",
       "    <tr>\n",
       "      <th>Fantasy</th>\n",
       "      <td>5993.0</td>\n",
       "      <td>66</td>\n",
       "      <td>90.803030</td>\n",
       "    </tr>\n",
       "    <tr>\n",
       "      <th>FilmNoir</th>\n",
       "      <td>291.0</td>\n",
       "      <td>4</td>\n",
       "      <td>72.750000</td>\n",
       "    </tr>\n",
       "    <tr>\n",
       "      <th>Horror</th>\n",
       "      <td>2215.0</td>\n",
       "      <td>26</td>\n",
       "      <td>85.192308</td>\n",
       "    </tr>\n",
       "    <tr>\n",
       "      <th>IMAX</th>\n",
       "      <td>2492.0</td>\n",
       "      <td>28</td>\n",
       "      <td>89.000000</td>\n",
       "    </tr>\n",
       "    <tr>\n",
       "      <th>Musical</th>\n",
       "      <td>1822.0</td>\n",
       "      <td>21</td>\n",
       "      <td>86.761905</td>\n",
       "    </tr>\n",
       "    <tr>\n",
       "      <th>Mystery</th>\n",
       "      <td>3452.0</td>\n",
       "      <td>38</td>\n",
       "      <td>90.842105</td>\n",
       "    </tr>\n",
       "    <tr>\n",
       "      <th>Romance</th>\n",
       "      <td>7444.0</td>\n",
       "      <td>85</td>\n",
       "      <td>87.576471</td>\n",
       "    </tr>\n",
       "    <tr>\n",
       "      <th>SciFi</th>\n",
       "      <td>8989.0</td>\n",
       "      <td>92</td>\n",
       "      <td>97.706522</td>\n",
       "    </tr>\n",
       "    <tr>\n",
       "      <th>Thriller</th>\n",
       "      <td>11907.0</td>\n",
       "      <td>121</td>\n",
       "      <td>98.404959</td>\n",
       "    </tr>\n",
       "    <tr>\n",
       "      <th>War</th>\n",
       "      <td>2113.0</td>\n",
       "      <td>19</td>\n",
       "      <td>111.210526</td>\n",
       "    </tr>\n",
       "    <tr>\n",
       "      <th>Western</th>\n",
       "      <td>900.0</td>\n",
       "      <td>12</td>\n",
       "      <td>75.000000</td>\n",
       "    </tr>\n",
       "  </tbody>\n",
       "</table>\n",
       "</div>"
      ],
      "text/plain": [
       "             Numero de votos  Numero de filmes  Votos/Filmes\n",
       "Action               15734.0               164     95.939024\n",
       "Adventure            13117.0               132     99.371212\n",
       "Animation             3066.0                32     95.812500\n",
       "Children              4331.0                47     92.148936\n",
       "Comedy               15330.0               181     84.696133\n",
       "Crime                 8649.0                87     99.413793\n",
       "Documentary            108.0                 2     54.000000\n",
       "Drama                15445.0               166     93.042169\n",
       "Fantasy               5993.0                66     90.803030\n",
       "FilmNoir               291.0                 4     72.750000\n",
       "Horror                2215.0                26     85.192308\n",
       "IMAX                  2492.0                28     89.000000\n",
       "Musical               1822.0                21     86.761905\n",
       "Mystery               3452.0                38     90.842105\n",
       "Romance               7444.0                85     87.576471\n",
       "SciFi                 8989.0                92     97.706522\n",
       "Thriller             11907.0               121     98.404959\n",
       "War                   2113.0                19    111.210526\n",
       "Western                900.0                12     75.000000"
      ]
     },
     "execution_count": 54,
     "metadata": {},
     "output_type": "execute_result"
    },
    {
     "data": {
      "application/javascript": [
       "\n",
       "            setTimeout(function() {\n",
       "                var nbb_cell_id = 54;\n",
       "                var nbb_unformatted_code = \"# solu\\u00e7\\u00e3o com visualiza\\u00e7\\u00e3o \\ndf['Votos/Filmes'].plot(kind='bar')\\nplt.title('Boxplot de Votos / Filmes por Genero')\\nplt.ylabel('Votos / Filmes')\\nplt.show()\\ndf\";\n",
       "                var nbb_formatted_code = \"# solu\\u00e7\\u00e3o com visualiza\\u00e7\\u00e3o\\ndf[\\\"Votos/Filmes\\\"].plot(kind=\\\"bar\\\")\\nplt.title(\\\"Boxplot de Votos / Filmes por Genero\\\")\\nplt.ylabel(\\\"Votos / Filmes\\\")\\nplt.show()\\ndf\";\n",
       "                var nbb_cells = Jupyter.notebook.get_cells();\n",
       "                for (var i = 0; i < nbb_cells.length; ++i) {\n",
       "                    if (nbb_cells[i].input_prompt_number == nbb_cell_id) {\n",
       "                        if (nbb_cells[i].get_text() == nbb_unformatted_code) {\n",
       "                             nbb_cells[i].set_text(nbb_formatted_code);\n",
       "                        }\n",
       "                        break;\n",
       "                    }\n",
       "                }\n",
       "            }, 500);\n",
       "            "
      ],
      "text/plain": [
       "<IPython.core.display.Javascript object>"
      ]
     },
     "metadata": {},
     "output_type": "display_data"
    }
   ],
   "source": [
    "# solução com visualização\n",
    "df[\"Votos/Filmes\"].plot(kind=\"bar\")\n",
    "plt.title(\"Boxplot de Votos / Filmes por Genero\")\n",
    "plt.ylabel(\"Votos / Filmes\")\n",
    "plt.show()\n",
    "df"
   ]
  },
  {
   "cell_type": "markdown",
   "metadata": {},
   "source": [
    "## Pergunta: Olhando as 3 últimas visualizações o que você conclui sobre os generos `Action` e `War`?"
   ]
  },
  {
   "cell_type": "markdown",
   "metadata": {},
   "source": [
    "Os filmes de AÇÃO são mais comuns do que filmes de GUERRA, além disso a média de votos por filmes de GUERRA é maior do que o de filmes de AÇÃO. O que me deixa uma conclussão de que os filmes de GUERRA são menos comuns porém são mais assistidos do que filmes de AÇÃO."
   ]
  },
  {
   "cell_type": "markdown",
   "metadata": {},
   "source": [
    "## Pergunta: Crie 2 boxplots no mesmo plot comparando a coluna `total_de_votos` dos filmes de categoria `Horror` e `Adventure`  \n",
    "\n",
    "Dica:\n",
    "\n",
    "- as vezes é mais fácil usar o boxplot do matplotlib ao invés do seaborn\n",
    "- plt.boxplot suporta o parâmetro labels com uma lista de nomes para cada boxplot plotado"
   ]
  },
  {
   "cell_type": "code",
   "execution_count": 55,
   "metadata": {},
   "outputs": [
    {
     "data": {
      "application/javascript": [
       "\n",
       "            setTimeout(function() {\n",
       "                var nbb_cell_id = 55;\n",
       "                var nbb_unformatted_code = \"# solu\\u00e7\\u00e3o:\\nhorror_ids = filmes[filmes.Horror == 1].index\\nadventure_ids = filmes[filmes.Adventure == 1].index\";\n",
       "                var nbb_formatted_code = \"# solu\\u00e7\\u00e3o:\\nhorror_ids = filmes[filmes.Horror == 1].index\\nadventure_ids = filmes[filmes.Adventure == 1].index\";\n",
       "                var nbb_cells = Jupyter.notebook.get_cells();\n",
       "                for (var i = 0; i < nbb_cells.length; ++i) {\n",
       "                    if (nbb_cells[i].input_prompt_number == nbb_cell_id) {\n",
       "                        if (nbb_cells[i].get_text() == nbb_unformatted_code) {\n",
       "                             nbb_cells[i].set_text(nbb_formatted_code);\n",
       "                        }\n",
       "                        break;\n",
       "                    }\n",
       "                }\n",
       "            }, 500);\n",
       "            "
      ],
      "text/plain": [
       "<IPython.core.display.Javascript object>"
      ]
     },
     "metadata": {},
     "output_type": "display_data"
    }
   ],
   "source": [
    "# solução:\n",
    "horror_ids = filmes[filmes.Horror == 1].index\n",
    "adventure_ids = filmes[filmes.Adventure == 1].index"
   ]
  },
  {
   "cell_type": "code",
   "execution_count": 56,
   "metadata": {},
   "outputs": [
    {
     "data": {
      "image/png": "[encoded data removed]",
      "text/plain": [
       "<Figure size 432x288 with 1 Axes>"
      ]
     },
     "metadata": {
      "needs_background": "light"
     },
     "output_type": "display_data"
    },
    {
     "name": "stdout",
     "output_type": "stream",
     "text": [
      "3.716704288939052\n",
      "3.677174658839674\n"
     ]
    },
    {
     "data": {
      "application/javascript": [
       "\n",
       "            setTimeout(function() {\n",
       "                var nbb_cell_id = 56;\n",
       "                var nbb_unformatted_code = \"horror_notas = notas[notas.filmeId.isin(horror_ids)]\\nadventure_notas = notas[notas.filmeId.isin(adventure_ids)]\\nplt.boxplot([horror_notas['nota'], adventure_notas['nota']], labels=['Horror','Adventure'])\\nplt.title('Boxplot de Notas por Genero')\\nplt.ylabel('Nota')\\nplt.show()\\nprint(horror_notas['nota'].mean())\\nprint(adventure_notas['nota'].mean())\";\n",
       "                var nbb_formatted_code = \"horror_notas = notas[notas.filmeId.isin(horror_ids)]\\nadventure_notas = notas[notas.filmeId.isin(adventure_ids)]\\nplt.boxplot(\\n    [horror_notas[\\\"nota\\\"], adventure_notas[\\\"nota\\\"]], labels=[\\\"Horror\\\", \\\"Adventure\\\"]\\n)\\nplt.title(\\\"Boxplot de Notas por Genero\\\")\\nplt.ylabel(\\\"Nota\\\")\\nplt.show()\\nprint(horror_notas[\\\"nota\\\"].mean())\\nprint(adventure_notas[\\\"nota\\\"].mean())\";\n",
       "                var nbb_cells = Jupyter.notebook.get_cells();\n",
       "                for (var i = 0; i < nbb_cells.length; ++i) {\n",
       "                    if (nbb_cells[i].input_prompt_number == nbb_cell_id) {\n",
       "                        if (nbb_cells[i].get_text() == nbb_unformatted_code) {\n",
       "                             nbb_cells[i].set_text(nbb_formatted_code);\n",
       "                        }\n",
       "                        break;\n",
       "                    }\n",
       "                }\n",
       "            }, 500);\n",
       "            "
      ],
      "text/plain": [
       "<IPython.core.display.Javascript object>"
      ]
     },
     "metadata": {},
     "output_type": "display_data"
    }
   ],
   "source": [
    "horror_notas = notas[notas.filmeId.isin(horror_ids)]\n",
    "adventure_notas = notas[notas.filmeId.isin(adventure_ids)]\n",
    "plt.boxplot(\n",
    "    [horror_notas[\"nota\"], adventure_notas[\"nota\"]], labels=[\"Horror\", \"Adventure\"]\n",
    ")\n",
    "plt.title(\"Boxplot de Notas por Genero\")\n",
    "plt.ylabel(\"Nota\")\n",
    "plt.show()\n",
    "print(horror_notas[\"nota\"].mean())\n",
    "print(adventure_notas[\"nota\"].mean())"
   ]
  },
  {
   "cell_type": "markdown",
   "metadata": {},
   "source": [
    "## Pergunta: mostre agora um boxplot para cada uma das categorias\n",
    "\n",
    "Dica:\n",
    "- use generos.columns para acessar todos os gêneros\n",
    "- já removemos os hífens dos nomes das colunas quando criamos as colunas de gêneros\n",
    "- plt (pyplot) do matplotlib suporta a função xticks(rotation=90) para rotacionar os labels"
   ]
  },
  {
   "cell_type": "code",
   "execution_count": 57,
   "metadata": {},
   "outputs": [
    {
     "data": {
      "image/png": "[encoded data removed]",
      "text/plain": [
       "<Figure size 1440x720 with 1 Axes>"
      ]
     },
     "metadata": {
      "needs_background": "light"
     },
     "output_type": "display_data"
    },
    {
     "data": {
      "application/javascript": [
       "\n",
       "            setTimeout(function() {\n",
       "                var nbb_cell_id = 57;\n",
       "                var nbb_unformatted_code = \"gen_col = list(generos.columns)\\ndef pega_notas_por_genero(genero, notas):\\n    ids = filmes[filmes[genero] == 1].index\\n    return notas[notas.filmeId.isin(ids)]['nota']\\n\\nnotas_por_genero = [pega_notas_por_genero(gen, notas) for gen in gen_col]\\n\\nplt.figure(figsize=(20,10))\\nplt.boxplot(notas_por_genero, labels=gen_col)\\nplt.title('Boxplot de Notas por Genero')\\nplt.ylabel('Nota')\\nplt.show()\";\n",
       "                var nbb_formatted_code = \"gen_col = list(generos.columns)\\n\\n\\ndef pega_notas_por_genero(genero, notas):\\n    ids = filmes[filmes[genero] == 1].index\\n    return notas[notas.filmeId.isin(ids)][\\\"nota\\\"]\\n\\n\\nnotas_por_genero = [pega_notas_por_genero(gen, notas) for gen in gen_col]\\n\\nplt.figure(figsize=(20, 10))\\nplt.boxplot(notas_por_genero, labels=gen_col)\\nplt.title(\\\"Boxplot de Notas por Genero\\\")\\nplt.ylabel(\\\"Nota\\\")\\nplt.show()\";\n",
       "                var nbb_cells = Jupyter.notebook.get_cells();\n",
       "                for (var i = 0; i < nbb_cells.length; ++i) {\n",
       "                    if (nbb_cells[i].input_prompt_number == nbb_cell_id) {\n",
       "                        if (nbb_cells[i].get_text() == nbb_unformatted_code) {\n",
       "                             nbb_cells[i].set_text(nbb_formatted_code);\n",
       "                        }\n",
       "                        break;\n",
       "                    }\n",
       "                }\n",
       "            }, 500);\n",
       "            "
      ],
      "text/plain": [
       "<IPython.core.display.Javascript object>"
      ]
     },
     "metadata": {},
     "output_type": "display_data"
    }
   ],
   "source": [
    "gen_col = list(generos.columns)\n",
    "\n",
    "\n",
    "def pega_notas_por_genero(genero, notas):\n",
    "    ids = filmes[filmes[genero] == 1].index\n",
    "    return notas[notas.filmeId.isin(ids)][\"nota\"]\n",
    "\n",
    "\n",
    "notas_por_genero = [pega_notas_por_genero(gen, notas) for gen in gen_col]\n",
    "\n",
    "plt.figure(figsize=(20, 10))\n",
    "plt.boxplot(notas_por_genero, labels=gen_col)\n",
    "plt.title(\"Boxplot de Notas por Genero\")\n",
    "plt.ylabel(\"Nota\")\n",
    "plt.show()"
   ]
  },
  {
   "cell_type": "markdown",
   "metadata": {},
   "source": [
    "## Pergunta: desejo criar um filme com somente um dos gêneros: `Horror` ou `Adventure`. Quero ter uma chance maior de ter um faturamento que pague minhas contas, mesmo que não seja um super sucesso absurdo de vendas. Qual dos 2 gêneros você sugere?"
   ]
  },
  {
   "cell_type": "markdown",
   "metadata": {},
   "source": [
    "##### Solução: Basicamente sugiro a escolha do genero Aventura, pois ele tem mais votos totais e maior média de votos por filme. O que mostra ter um publico maior e mais aceito pelo mesmo.\n",
    "    \n"
   ]
  },
  {
   "cell_type": "markdown",
   "metadata": {},
   "source": [
    "## Pergunta: nossa análise foi até então visual. Aplique um teste estatístico para verificar se existe significância estatística na distribuição dos votos dos filmes de `Adventure` e `Horror`. Sua recomendação continua a mesma? Explique.\n",
    "\n",
    "Passos:\n",
    "\n",
    "- visualize a distribuição de ambas através de histogramas\n",
    "- se suspeitar normalidade na distribuição, faça um teste de normalidade para ambas\n",
    "- aplique um teste adequado de comparação das distribuições\n",
    "- explique o resultado encontrado\n",
    "- utilize p=0.05"
   ]
  },
  {
   "cell_type": "code",
   "execution_count": 58,
   "metadata": {},
   "outputs": [
    {
     "data": {
      "text/plain": [
       "<matplotlib.axes._subplots.AxesSubplot at 0x7fcf13a326d0>"
      ]
     },
     "execution_count": 58,
     "metadata": {},
     "output_type": "execute_result"
    },
    {
     "data": {
      "image/png": "[encoded data removed]",
      "text/plain": [
       "<Figure size 432x288 with 1 Axes>"
      ]
     },
     "metadata": {
      "needs_background": "light"
     },
     "output_type": "display_data"
    },
    {
     "data": {
      "application/javascript": [
       "\n",
       "            setTimeout(function() {\n",
       "                var nbb_cell_id = 58;\n",
       "                var nbb_unformatted_code = \"# solucao histograma de aventura\\naventura = pega_notas_por_genero('Adventure', notas)\\nsns.distplot(aventura, norm_hist=True, kde=True)\";\n",
       "                var nbb_formatted_code = \"# solucao histograma de aventura\\naventura = pega_notas_por_genero(\\\"Adventure\\\", notas)\\nsns.distplot(aventura, norm_hist=True, kde=True)\";\n",
       "                var nbb_cells = Jupyter.notebook.get_cells();\n",
       "                for (var i = 0; i < nbb_cells.length; ++i) {\n",
       "                    if (nbb_cells[i].input_prompt_number == nbb_cell_id) {\n",
       "                        if (nbb_cells[i].get_text() == nbb_unformatted_code) {\n",
       "                             nbb_cells[i].set_text(nbb_formatted_code);\n",
       "                        }\n",
       "                        break;\n",
       "                    }\n",
       "                }\n",
       "            }, 500);\n",
       "            "
      ],
      "text/plain": [
       "<IPython.core.display.Javascript object>"
      ]
     },
     "metadata": {},
     "output_type": "display_data"
    }
   ],
   "source": [
    "# solucao histograma de aventura\n",
    "aventura = pega_notas_por_genero(\"Adventure\", notas)\n",
    "sns.distplot(aventura, norm_hist=True, kde=True)"
   ]
  },
  {
   "cell_type": "code",
   "execution_count": 59,
   "metadata": {},
   "outputs": [
    {
     "data": {
      "text/plain": [
       "<matplotlib.axes._subplots.AxesSubplot at 0x7fcf13ae2590>"
      ]
     },
     "execution_count": 59,
     "metadata": {},
     "output_type": "execute_result"
    },
    {
     "data": {
      "image/png": "[encoded data removed]",
      "text/plain": [
       "<Figure size 432x288 with 1 Axes>"
      ]
     },
     "metadata": {
      "needs_background": "light"
     },
     "output_type": "display_data"
    },
    {
     "data": {
      "application/javascript": [
       "\n",
       "            setTimeout(function() {\n",
       "                var nbb_cell_id = 59;\n",
       "                var nbb_unformatted_code = \"# solucao histograma de horror\\nhorror = pega_notas_por_genero('Horror', notas)\\nsns.distplot(horror, norm_hist=True, kde=True)\";\n",
       "                var nbb_formatted_code = \"# solucao histograma de horror\\nhorror = pega_notas_por_genero(\\\"Horror\\\", notas)\\nsns.distplot(horror, norm_hist=True, kde=True)\";\n",
       "                var nbb_cells = Jupyter.notebook.get_cells();\n",
       "                for (var i = 0; i < nbb_cells.length; ++i) {\n",
       "                    if (nbb_cells[i].input_prompt_number == nbb_cell_id) {\n",
       "                        if (nbb_cells[i].get_text() == nbb_unformatted_code) {\n",
       "                             nbb_cells[i].set_text(nbb_formatted_code);\n",
       "                        }\n",
       "                        break;\n",
       "                    }\n",
       "                }\n",
       "            }, 500);\n",
       "            "
      ],
      "text/plain": [
       "<IPython.core.display.Javascript object>"
      ]
     },
     "metadata": {},
     "output_type": "display_data"
    }
   ],
   "source": [
    "# solucao histograma de horror\n",
    "horror = pega_notas_por_genero(\"Horror\", notas)\n",
    "sns.distplot(horror, norm_hist=True, kde=True)"
   ]
  },
  {
   "cell_type": "code",
   "execution_count": 60,
   "metadata": {},
   "outputs": [
    {
     "name": "stdout",
     "output_type": "stream",
     "text": [
      "p-value Adventure: 5.987863006199139e-06\n",
      "p-value Horror: 1.2786148884334685e-07\n"
     ]
    },
    {
     "data": {
      "application/javascript": [
       "\n",
       "            setTimeout(function() {\n",
       "                var nbb_cell_id = 60;\n",
       "                var nbb_unformatted_code = \"# solucao teste de normalidade ou justificativa para nao utiliza-lo\\nfrom scipy.stats import normaltest\\n\\n_, p = normaltest(filmes[filmes.Adventure == 1]['total_de_votos'])\\nprint(\\\"p-value Adventure: {}\\\".format(p))\\n\\n_, p = normaltest(filmes[filmes.Horror == 1]['total_de_votos'])\\nprint(\\\"p-value Horror: {}\\\".format(p))\";\n",
       "                var nbb_formatted_code = \"# solucao teste de normalidade ou justificativa para nao utiliza-lo\\nfrom scipy.stats import normaltest\\n\\n_, p = normaltest(filmes[filmes.Adventure == 1][\\\"total_de_votos\\\"])\\nprint(\\\"p-value Adventure: {}\\\".format(p))\\n\\n_, p = normaltest(filmes[filmes.Horror == 1][\\\"total_de_votos\\\"])\\nprint(\\\"p-value Horror: {}\\\".format(p))\";\n",
       "                var nbb_cells = Jupyter.notebook.get_cells();\n",
       "                for (var i = 0; i < nbb_cells.length; ++i) {\n",
       "                    if (nbb_cells[i].input_prompt_number == nbb_cell_id) {\n",
       "                        if (nbb_cells[i].get_text() == nbb_unformatted_code) {\n",
       "                             nbb_cells[i].set_text(nbb_formatted_code);\n",
       "                        }\n",
       "                        break;\n",
       "                    }\n",
       "                }\n",
       "            }, 500);\n",
       "            "
      ],
      "text/plain": [
       "<IPython.core.display.Javascript object>"
      ]
     },
     "metadata": {},
     "output_type": "display_data"
    }
   ],
   "source": [
    "# solucao teste de normalidade ou justificativa para nao utiliza-lo\n",
    "from scipy.stats import normaltest\n",
    "\n",
    "_, p = normaltest(filmes[filmes.Adventure == 1][\"total_de_votos\"])\n",
    "print(\"p-value Adventure: {}\".format(p))\n",
    "\n",
    "_, p = normaltest(filmes[filmes.Horror == 1][\"total_de_votos\"])\n",
    "print(\"p-value Horror: {}\".format(p))"
   ]
  },
  {
   "cell_type": "code",
   "execution_count": 61,
   "metadata": {},
   "outputs": [
    {
     "name": "stdout",
     "output_type": "stream",
     "text": [
      "p-value para a hipotese nula de que as duas distribuições são a mesmsa: 0.04782366231999856\n"
     ]
    },
    {
     "data": {
      "application/javascript": [
       "\n",
       "            setTimeout(function() {\n",
       "                var nbb_cell_id = 61;\n",
       "                var nbb_unformatted_code = \"# solu\\u00e7\\u00e3o com o teste desejado\\nfrom scipy.stats import ranksums\\n\\n_, p = ranksums(filmes[filmes.Adventure == 1]['total_de_votos'], filmes[filmes.Horror == 1]['total_de_votos'])\\nprint('p-value para a hipotese nula de que as duas distribui\\u00e7\\u00f5es s\\u00e3o a mesmsa: {}'.format(p))\";\n",
       "                var nbb_formatted_code = \"# solu\\u00e7\\u00e3o com o teste desejado\\nfrom scipy.stats import ranksums\\n\\n_, p = ranksums(\\n    filmes[filmes.Adventure == 1][\\\"total_de_votos\\\"],\\n    filmes[filmes.Horror == 1][\\\"total_de_votos\\\"],\\n)\\nprint(\\n    \\\"p-value para a hipotese nula de que as duas distribui\\u00e7\\u00f5es s\\u00e3o a mesmsa: {}\\\".format(\\n        p\\n    )\\n)\";\n",
       "                var nbb_cells = Jupyter.notebook.get_cells();\n",
       "                for (var i = 0; i < nbb_cells.length; ++i) {\n",
       "                    if (nbb_cells[i].input_prompt_number == nbb_cell_id) {\n",
       "                        if (nbb_cells[i].get_text() == nbb_unformatted_code) {\n",
       "                             nbb_cells[i].set_text(nbb_formatted_code);\n",
       "                        }\n",
       "                        break;\n",
       "                    }\n",
       "                }\n",
       "            }, 500);\n",
       "            "
      ],
      "text/plain": [
       "<IPython.core.display.Javascript object>"
      ]
     },
     "metadata": {},
     "output_type": "display_data"
    }
   ],
   "source": [
    "# solução com o teste desejado\n",
    "from scipy.stats import ranksums\n",
    "\n",
    "_, p = ranksums(\n",
    "    filmes[filmes.Adventure == 1][\"total_de_votos\"],\n",
    "    filmes[filmes.Horror == 1][\"total_de_votos\"],\n",
    ")\n",
    "print(\n",
    "    \"p-value para a hipotese nula de que as duas distribuições são a mesmsa: {}\".format(\n",
    "        p\n",
    "    )\n",
    ")"
   ]
  },
  {
   "cell_type": "markdown",
   "metadata": {},
   "source": [
    "### Solução (explique sua conclusão):\n",
    "\n"
   ]
  },
  {
   "cell_type": "markdown",
   "metadata": {},
   "source": [
    "## Pergunta: Faça os mesmos boxplots para as notas médias (`nota_media`) dos gêneros `Adventure` e `Horror`."
   ]
  },
  {
   "cell_type": "code",
   "execution_count": 62,
   "metadata": {},
   "outputs": [
    {
     "data": {
      "application/javascript": [
       "\n",
       "            setTimeout(function() {\n",
       "                var nbb_cell_id = 62;\n",
       "                var nbb_unformatted_code = \"# solu\\u00e7\\u00e3o:\\ndef notas_medias_genero(genero):\\n    filmes_adv_id = filmes[filmes[genero] == 1]\\n    notas_adv = notas[notas.filmeId.isin(filmes_adv_id.index)]\\n    return notas_adv.groupby('filmeId')['nota'].mean()\";\n",
       "                var nbb_formatted_code = \"# solu\\u00e7\\u00e3o:\\ndef notas_medias_genero(genero):\\n    filmes_adv_id = filmes[filmes[genero] == 1]\\n    notas_adv = notas[notas.filmeId.isin(filmes_adv_id.index)]\\n    return notas_adv.groupby(\\\"filmeId\\\")[\\\"nota\\\"].mean()\";\n",
       "                var nbb_cells = Jupyter.notebook.get_cells();\n",
       "                for (var i = 0; i < nbb_cells.length; ++i) {\n",
       "                    if (nbb_cells[i].input_prompt_number == nbb_cell_id) {\n",
       "                        if (nbb_cells[i].get_text() == nbb_unformatted_code) {\n",
       "                             nbb_cells[i].set_text(nbb_formatted_code);\n",
       "                        }\n",
       "                        break;\n",
       "                    }\n",
       "                }\n",
       "            }, 500);\n",
       "            "
      ],
      "text/plain": [
       "<IPython.core.display.Javascript object>"
      ]
     },
     "metadata": {},
     "output_type": "display_data"
    }
   ],
   "source": [
    "# solução:\n",
    "def notas_medias_genero(genero):\n",
    "    filmes_adv_id = filmes[filmes[genero] == 1]\n",
    "    notas_adv = notas[notas.filmeId.isin(filmes_adv_id.index)]\n",
    "    return notas_adv.groupby(\"filmeId\")[\"nota\"].mean()"
   ]
  },
  {
   "cell_type": "code",
   "execution_count": 63,
   "metadata": {},
   "outputs": [
    {
     "data": {
      "application/javascript": [
       "\n",
       "            setTimeout(function() {\n",
       "                var nbb_cell_id = 63;\n",
       "                var nbb_unformatted_code = \"notas_medias_adv = notas_medias_genero('Adventure')\\nnotas_medias_hrr = notas_medias_genero('Horror')\";\n",
       "                var nbb_formatted_code = \"notas_medias_adv = notas_medias_genero(\\\"Adventure\\\")\\nnotas_medias_hrr = notas_medias_genero(\\\"Horror\\\")\";\n",
       "                var nbb_cells = Jupyter.notebook.get_cells();\n",
       "                for (var i = 0; i < nbb_cells.length; ++i) {\n",
       "                    if (nbb_cells[i].input_prompt_number == nbb_cell_id) {\n",
       "                        if (nbb_cells[i].get_text() == nbb_unformatted_code) {\n",
       "                             nbb_cells[i].set_text(nbb_formatted_code);\n",
       "                        }\n",
       "                        break;\n",
       "                    }\n",
       "                }\n",
       "            }, 500);\n",
       "            "
      ],
      "text/plain": [
       "<IPython.core.display.Javascript object>"
      ]
     },
     "metadata": {},
     "output_type": "display_data"
    }
   ],
   "source": [
    "notas_medias_adv = notas_medias_genero(\"Adventure\")\n",
    "notas_medias_hrr = notas_medias_genero(\"Horror\")"
   ]
  },
  {
   "cell_type": "code",
   "execution_count": 64,
   "metadata": {},
   "outputs": [
    {
     "data": {
      "image/png": "[encoded data removed]",
      "text/plain": [
       "<Figure size 1440x720 with 1 Axes>"
      ]
     },
     "metadata": {
      "needs_background": "light"
     },
     "output_type": "display_data"
    },
    {
     "data": {
      "application/javascript": [
       "\n",
       "            setTimeout(function() {\n",
       "                var nbb_cell_id = 64;\n",
       "                var nbb_unformatted_code = \"plt.figure(figsize=(20,10))\\nplt.boxplot([notas_medias_adv, notas_medias_hrr], labels=['Aventura','Terror'])\\nplt.title('Boxplot de Notas por Genero')\\nplt.ylabel('Nota')\\nplt.show()\";\n",
       "                var nbb_formatted_code = \"plt.figure(figsize=(20, 10))\\nplt.boxplot([notas_medias_adv, notas_medias_hrr], labels=[\\\"Aventura\\\", \\\"Terror\\\"])\\nplt.title(\\\"Boxplot de Notas por Genero\\\")\\nplt.ylabel(\\\"Nota\\\")\\nplt.show()\";\n",
       "                var nbb_cells = Jupyter.notebook.get_cells();\n",
       "                for (var i = 0; i < nbb_cells.length; ++i) {\n",
       "                    if (nbb_cells[i].input_prompt_number == nbb_cell_id) {\n",
       "                        if (nbb_cells[i].get_text() == nbb_unformatted_code) {\n",
       "                             nbb_cells[i].set_text(nbb_formatted_code);\n",
       "                        }\n",
       "                        break;\n",
       "                    }\n",
       "                }\n",
       "            }, 500);\n",
       "            "
      ],
      "text/plain": [
       "<IPython.core.display.Javascript object>"
      ]
     },
     "metadata": {},
     "output_type": "display_data"
    }
   ],
   "source": [
    "plt.figure(figsize=(20, 10))\n",
    "plt.boxplot([notas_medias_adv, notas_medias_hrr], labels=[\"Aventura\", \"Terror\"])\n",
    "plt.title(\"Boxplot de Notas por Genero\")\n",
    "plt.ylabel(\"Nota\")\n",
    "plt.show()"
   ]
  },
  {
   "cell_type": "markdown",
   "metadata": {},
   "source": [
    "## Pergunta: Quero fazer um filme que seja sucesso de crítica, com pessoas dando notas altas, mesmo que não tenha um número muito grande de pessoas assistindo. Qual gênero você recomenda se tenho que escolher somente um entre `Adventure` e `Horror`?"
   ]
  },
  {
   "cell_type": "markdown",
   "metadata": {},
   "source": [
    "### Solução: Horror, porque pelo boxplot as notas estão concentrada nas pontuações mais altas segundo o gráfico."
   ]
  },
  {
   "cell_type": "markdown",
   "metadata": {},
   "source": [
    "## Pergunta: nossa análise foi até então visual. Aplique um teste estatístico para verificar se existe significância estatística na distribuição das notas dos filmes de `Adventure` e `Horror`.\n",
    "\n",
    "Passos:\n",
    "\n",
    "- visualize a distribuição de ambas através de histogramas\n",
    "- se suspeitar normalidade na distribuição, faça um teste de normalidade para ambas\n",
    "- aplique um teste adequado de comparação das distribuições\n",
    "- explique o resultado encontrado\n",
    "- utilize p=0.05"
   ]
  },
  {
   "cell_type": "code",
   "execution_count": 65,
   "metadata": {},
   "outputs": [
    {
     "name": "stdout",
     "output_type": "stream",
     "text": [
      "count    132.000000\n",
      "mean       3.615373\n",
      "std        0.392217\n",
      "min        2.645455\n",
      "25%        3.373580\n",
      "50%        3.693742\n",
      "75%        3.904919\n",
      "max        4.232394\n",
      "Name: nota, dtype: float64\n",
      "Coeficiente de variança para as notas médias de Adventure: 0.10848592869468053\n"
     ]
    },
    {
     "data": {
      "text/plain": [
       "<matplotlib.axes._subplots.AxesSubplot at 0x7fcf1818e890>"
      ]
     },
     "execution_count": 65,
     "metadata": {},
     "output_type": "execute_result"
    },
    {
     "data": {
      "image/png": "[encoded data removed]",
      "text/plain": [
       "<Figure size 432x288 with 1 Axes>"
      ]
     },
     "metadata": {
      "needs_background": "light"
     },
     "output_type": "display_data"
    },
    {
     "data": {
      "application/javascript": [
       "\n",
       "            setTimeout(function() {\n",
       "                var nbb_cell_id = 65;\n",
       "                var nbb_unformatted_code = \"# solucao histograma de aventura\\nprint(notas_medias_adv.describe())\\nprint('Coeficiente de varian\\u00e7a para as notas m\\u00e9dias de Adventure: {}'.format(notas_medias_adv.std()/notas_medias_adv.mean()))\\nsns.distplot(notas_medias_adv, norm_hist=True, kde=True)\";\n",
       "                var nbb_formatted_code = \"# solucao histograma de aventura\\nprint(notas_medias_adv.describe())\\nprint(\\n    \\\"Coeficiente de varian\\u00e7a para as notas m\\u00e9dias de Adventure: {}\\\".format(\\n        notas_medias_adv.std() / notas_medias_adv.mean()\\n    )\\n)\\nsns.distplot(notas_medias_adv, norm_hist=True, kde=True)\";\n",
       "                var nbb_cells = Jupyter.notebook.get_cells();\n",
       "                for (var i = 0; i < nbb_cells.length; ++i) {\n",
       "                    if (nbb_cells[i].input_prompt_number == nbb_cell_id) {\n",
       "                        if (nbb_cells[i].get_text() == nbb_unformatted_code) {\n",
       "                             nbb_cells[i].set_text(nbb_formatted_code);\n",
       "                        }\n",
       "                        break;\n",
       "                    }\n",
       "                }\n",
       "            }, 500);\n",
       "            "
      ],
      "text/plain": [
       "<IPython.core.display.Javascript object>"
      ]
     },
     "metadata": {},
     "output_type": "display_data"
    }
   ],
   "source": [
    "# solucao histograma de aventura\n",
    "print(notas_medias_adv.describe())\n",
    "print(\n",
    "    \"Coeficiente de variança para as notas médias de Adventure: {}\".format(\n",
    "        notas_medias_adv.std() / notas_medias_adv.mean()\n",
    "    )\n",
    ")\n",
    "sns.distplot(notas_medias_adv, norm_hist=True, kde=True)"
   ]
  },
  {
   "cell_type": "code",
   "execution_count": 66,
   "metadata": {},
   "outputs": [
    {
     "name": "stdout",
     "output_type": "stream",
     "text": [
      "count    26.000000\n",
      "mean      3.610527\n",
      "std       0.419267\n",
      "min       2.796875\n",
      "25%       3.346470\n",
      "50%       3.707704\n",
      "75%       3.972898\n",
      "max       4.161290\n",
      "Name: nota, dtype: float64\n",
      "Coeficiente de variança para as notas médias de Horror: 0.1161234176733678\n"
     ]
    },
    {
     "data": {
      "text/plain": [
       "<matplotlib.axes._subplots.AxesSubplot at 0x7fcf139a8950>"
      ]
     },
     "execution_count": 66,
     "metadata": {},
     "output_type": "execute_result"
    },
    {
     "data": {
      "image/png": "[encoded data removed]",
      "text/plain": [
       "<Figure size 432x288 with 1 Axes>"
      ]
     },
     "metadata": {
      "needs_background": "light"
     },
     "output_type": "display_data"
    },
    {
     "data": {
      "application/javascript": [
       "\n",
       "            setTimeout(function() {\n",
       "                var nbb_cell_id = 66;\n",
       "                var nbb_unformatted_code = \"# solucao histograma de horror\\nprint(notas_medias_hrr.describe())\\nprint('Coeficiente de varian\\u00e7a para as notas m\\u00e9dias de Horror: {}'.format(notas_medias_hrr.std()/notas_medias_hrr.mean()))\\nsns.distplot(notas_medias_hrr, norm_hist=True, kde=True)\";\n",
       "                var nbb_formatted_code = \"# solucao histograma de horror\\nprint(notas_medias_hrr.describe())\\nprint(\\n    \\\"Coeficiente de varian\\u00e7a para as notas m\\u00e9dias de Horror: {}\\\".format(\\n        notas_medias_hrr.std() / notas_medias_hrr.mean()\\n    )\\n)\\nsns.distplot(notas_medias_hrr, norm_hist=True, kde=True)\";\n",
       "                var nbb_cells = Jupyter.notebook.get_cells();\n",
       "                for (var i = 0; i < nbb_cells.length; ++i) {\n",
       "                    if (nbb_cells[i].input_prompt_number == nbb_cell_id) {\n",
       "                        if (nbb_cells[i].get_text() == nbb_unformatted_code) {\n",
       "                             nbb_cells[i].set_text(nbb_formatted_code);\n",
       "                        }\n",
       "                        break;\n",
       "                    }\n",
       "                }\n",
       "            }, 500);\n",
       "            "
      ],
      "text/plain": [
       "<IPython.core.display.Javascript object>"
      ]
     },
     "metadata": {},
     "output_type": "display_data"
    }
   ],
   "source": [
    "# solucao histograma de horror\n",
    "print(notas_medias_hrr.describe())\n",
    "print(\n",
    "    \"Coeficiente de variança para as notas médias de Horror: {}\".format(\n",
    "        notas_medias_hrr.std() / notas_medias_hrr.mean()\n",
    "    )\n",
    ")\n",
    "sns.distplot(notas_medias_hrr, norm_hist=True, kde=True)"
   ]
  },
  {
   "cell_type": "code",
   "execution_count": 67,
   "metadata": {},
   "outputs": [
    {
     "name": "stdout",
     "output_type": "stream",
     "text": [
      "p-value Adventure: 0.012835697582553224\n",
      "p-value Horror: 0.21186284682483916\n"
     ]
    },
    {
     "data": {
      "application/javascript": [
       "\n",
       "            setTimeout(function() {\n",
       "                var nbb_cell_id = 67;\n",
       "                var nbb_unformatted_code = \"# solucao teste de normalidade ou justificativa para nao utiliza-lo\\n_, p = normaltest(filmes[filmes.Adventure == 1]['nota_media'])\\nprint(\\\"p-value Adventure: {}\\\".format(p))\\n\\n_, p = normaltest(filmes[filmes.Horror == 1]['nota_media'])\\nprint(\\\"p-value Horror: {}\\\".format(p))\";\n",
       "                var nbb_formatted_code = \"# solucao teste de normalidade ou justificativa para nao utiliza-lo\\n_, p = normaltest(filmes[filmes.Adventure == 1][\\\"nota_media\\\"])\\nprint(\\\"p-value Adventure: {}\\\".format(p))\\n\\n_, p = normaltest(filmes[filmes.Horror == 1][\\\"nota_media\\\"])\\nprint(\\\"p-value Horror: {}\\\".format(p))\";\n",
       "                var nbb_cells = Jupyter.notebook.get_cells();\n",
       "                for (var i = 0; i < nbb_cells.length; ++i) {\n",
       "                    if (nbb_cells[i].input_prompt_number == nbb_cell_id) {\n",
       "                        if (nbb_cells[i].get_text() == nbb_unformatted_code) {\n",
       "                             nbb_cells[i].set_text(nbb_formatted_code);\n",
       "                        }\n",
       "                        break;\n",
       "                    }\n",
       "                }\n",
       "            }, 500);\n",
       "            "
      ],
      "text/plain": [
       "<IPython.core.display.Javascript object>"
      ]
     },
     "metadata": {},
     "output_type": "display_data"
    }
   ],
   "source": [
    "# solucao teste de normalidade ou justificativa para nao utiliza-lo\n",
    "_, p = normaltest(filmes[filmes.Adventure == 1][\"nota_media\"])\n",
    "print(\"p-value Adventure: {}\".format(p))\n",
    "\n",
    "_, p = normaltest(filmes[filmes.Horror == 1][\"nota_media\"])\n",
    "print(\"p-value Horror: {}\".format(p))"
   ]
  },
  {
   "cell_type": "code",
   "execution_count": 68,
   "metadata": {},
   "outputs": [
    {
     "name": "stdout",
     "output_type": "stream",
     "text": [
      "p-value para a hipotese nula de que as duas distribuições são a mesmsa: 0.8310397344212459\n"
     ]
    },
    {
     "data": {
      "application/javascript": [
       "\n",
       "            setTimeout(function() {\n",
       "                var nbb_cell_id = 68;\n",
       "                var nbb_unformatted_code = \"# solu\\u00e7\\u00e3o com o teste desejado\\n_, p = ranksums(filmes[filmes.Adventure == 1]['nota_media'], filmes[filmes.Horror == 1]['nota_media'])\\nprint('p-value para a hipotese nula de que as duas distribui\\u00e7\\u00f5es s\\u00e3o a mesmsa: {}'.format(p))\";\n",
       "                var nbb_formatted_code = \"# solu\\u00e7\\u00e3o com o teste desejado\\n_, p = ranksums(\\n    filmes[filmes.Adventure == 1][\\\"nota_media\\\"],\\n    filmes[filmes.Horror == 1][\\\"nota_media\\\"],\\n)\\nprint(\\n    \\\"p-value para a hipotese nula de que as duas distribui\\u00e7\\u00f5es s\\u00e3o a mesmsa: {}\\\".format(\\n        p\\n    )\\n)\";\n",
       "                var nbb_cells = Jupyter.notebook.get_cells();\n",
       "                for (var i = 0; i < nbb_cells.length; ++i) {\n",
       "                    if (nbb_cells[i].input_prompt_number == nbb_cell_id) {\n",
       "                        if (nbb_cells[i].get_text() == nbb_unformatted_code) {\n",
       "                             nbb_cells[i].set_text(nbb_formatted_code);\n",
       "                        }\n",
       "                        break;\n",
       "                    }\n",
       "                }\n",
       "            }, 500);\n",
       "            "
      ],
      "text/plain": [
       "<IPython.core.display.Javascript object>"
      ]
     },
     "metadata": {},
     "output_type": "display_data"
    }
   ],
   "source": [
    "# solução com o teste desejado\n",
    "_, p = ranksums(\n",
    "    filmes[filmes.Adventure == 1][\"nota_media\"],\n",
    "    filmes[filmes.Horror == 1][\"nota_media\"],\n",
    ")\n",
    "print(\n",
    "    \"p-value para a hipotese nula de que as duas distribuições são a mesmsa: {}\".format(\n",
    "        p\n",
    "    )\n",
    ")"
   ]
  },
  {
   "cell_type": "markdown",
   "metadata": {},
   "source": [
    "## Sua recomendação para maior sucesso de crítica em nota alta entre `Horror` e `Adventure` continua a mesma? Explique.\n",
    "\n"
   ]
  },
  {
   "cell_type": "markdown",
   "metadata": {},
   "source": [
    "### Solução:\n"
   ]
  },
  {
   "cell_type": "markdown",
   "metadata": {},
   "source": [
    "## Pergunta: Quero fazer um filme que seja primeiro sucesso de crítica, com pessoas dando notas altas. Em segundo lugar quero que seja popular (mais pessoas assistam). Com as informações visuais e estatísticas, supondo poder escolher somente um, qual dois 2 gêneros você recomenda agora? `Horror` ou `Adventure`?"
   ]
  },
  {
   "cell_type": "markdown",
   "metadata": {},
   "source": [
    "### Solução:\n",
    "\n"
   ]
  },
  {
   "cell_type": "markdown",
   "metadata": {},
   "source": [
    "## Pergunta: Quais são os top 5 filmes dos 2 generos mais assistidas?\n",
    "\n",
    "- utilize os 2 generos mais votados em `votos_por_genero`\n",
    "- utilize a `nota_media` para definir o top 5 filmes\n",
    "- o resultado são 5, não 10 filmes"
   ]
  },
  {
   "cell_type": "code",
   "execution_count": 69,
   "metadata": {},
   "outputs": [
    {
     "data": {
      "application/javascript": [
       "\n",
       "            setTimeout(function() {\n",
       "                var nbb_cell_id = 69;\n",
       "                var nbb_unformatted_code = \"votos_por_genero = pd.DataFrame(votos_por_genero_por_filme.sum(), columns=['N\\u00famero de Notas'])\";\n",
       "                var nbb_formatted_code = \"votos_por_genero = pd.DataFrame(\\n    votos_por_genero_por_filme.sum(), columns=[\\\"N\\u00famero de Notas\\\"]\\n)\";\n",
       "                var nbb_cells = Jupyter.notebook.get_cells();\n",
       "                for (var i = 0; i < nbb_cells.length; ++i) {\n",
       "                    if (nbb_cells[i].input_prompt_number == nbb_cell_id) {\n",
       "                        if (nbb_cells[i].get_text() == nbb_unformatted_code) {\n",
       "                             nbb_cells[i].set_text(nbb_formatted_code);\n",
       "                        }\n",
       "                        break;\n",
       "                    }\n",
       "                }\n",
       "            }, 500);\n",
       "            "
      ],
      "text/plain": [
       "<IPython.core.display.Javascript object>"
      ]
     },
     "metadata": {},
     "output_type": "display_data"
    }
   ],
   "source": [
    "votos_por_genero = pd.DataFrame(\n",
    "    votos_por_genero_por_filme.sum(), columns=[\"Número de Notas\"]\n",
    ")"
   ]
  },
  {
   "cell_type": "code",
   "execution_count": 70,
   "metadata": {},
   "outputs": [
    {
     "data": {
      "application/javascript": [
       "\n",
       "            setTimeout(function() {\n",
       "                var nbb_cell_id = 70;\n",
       "                var nbb_unformatted_code = \"# solu\\u00e7\\u00e3o: calculando os 2 generos mais votados\\nvotos_por_genero.sort_values('N\\u00famero de Notas', ascending=False, inplace=True)\\nvotos_por_genero\\n\\n# Action e Drama s\\u00e3o os mais votados\\nfilmes_mais_votados = filmes[(filmes.Action == 1) | (filmes.Drama == 1)]\";\n",
       "                var nbb_formatted_code = \"# solu\\u00e7\\u00e3o: calculando os 2 generos mais votados\\nvotos_por_genero.sort_values(\\\"N\\u00famero de Notas\\\", ascending=False, inplace=True)\\nvotos_por_genero\\n\\n# Action e Drama s\\u00e3o os mais votados\\nfilmes_mais_votados = filmes[(filmes.Action == 1) | (filmes.Drama == 1)]\";\n",
       "                var nbb_cells = Jupyter.notebook.get_cells();\n",
       "                for (var i = 0; i < nbb_cells.length; ++i) {\n",
       "                    if (nbb_cells[i].input_prompt_number == nbb_cell_id) {\n",
       "                        if (nbb_cells[i].get_text() == nbb_unformatted_code) {\n",
       "                             nbb_cells[i].set_text(nbb_formatted_code);\n",
       "                        }\n",
       "                        break;\n",
       "                    }\n",
       "                }\n",
       "            }, 500);\n",
       "            "
      ],
      "text/plain": [
       "<IPython.core.display.Javascript object>"
      ]
     },
     "metadata": {},
     "output_type": "display_data"
    }
   ],
   "source": [
    "# solução: calculando os 2 generos mais votados\n",
    "votos_por_genero.sort_values(\"Número de Notas\", ascending=False, inplace=True)\n",
    "votos_por_genero\n",
    "\n",
    "# Action e Drama são os mais votados\n",
    "filmes_mais_votados = filmes[(filmes.Action == 1) | (filmes.Drama == 1)]"
   ]
  },
  {
   "cell_type": "code",
   "execution_count": 71,
   "metadata": {},
   "outputs": [
    {
     "data": {
      "text/html": [
       "<div>\n",
       "<style scoped>\n",
       "    .dataframe tbody tr th:only-of-type {\n",
       "        vertical-align: middle;\n",
       "    }\n",
       "\n",
       "    .dataframe tbody tr th {\n",
       "        vertical-align: top;\n",
       "    }\n",
       "\n",
       "    .dataframe thead th {\n",
       "        text-align: right;\n",
       "    }\n",
       "</style>\n",
       "<table border=\"1\" class=\"dataframe\">\n",
       "  <thead>\n",
       "    <tr style=\"text-align: right;\">\n",
       "      <th></th>\n",
       "      <th>titulo</th>\n",
       "      <th>ano_de_lancamento</th>\n",
       "      <th>nota_media</th>\n",
       "      <th>total_de_votos</th>\n",
       "      <th>Action</th>\n",
       "      <th>Adventure</th>\n",
       "      <th>Animation</th>\n",
       "      <th>Children</th>\n",
       "      <th>Comedy</th>\n",
       "      <th>Crime</th>\n",
       "      <th>...</th>\n",
       "      <th>FilmNoir</th>\n",
       "      <th>Horror</th>\n",
       "      <th>IMAX</th>\n",
       "      <th>Musical</th>\n",
       "      <th>Mystery</th>\n",
       "      <th>Romance</th>\n",
       "      <th>SciFi</th>\n",
       "      <th>Thriller</th>\n",
       "      <th>War</th>\n",
       "      <th>Western</th>\n",
       "    </tr>\n",
       "    <tr>\n",
       "      <th>filmeId</th>\n",
       "      <th></th>\n",
       "      <th></th>\n",
       "      <th></th>\n",
       "      <th></th>\n",
       "      <th></th>\n",
       "      <th></th>\n",
       "      <th></th>\n",
       "      <th></th>\n",
       "      <th></th>\n",
       "      <th></th>\n",
       "      <th></th>\n",
       "      <th></th>\n",
       "      <th></th>\n",
       "      <th></th>\n",
       "      <th></th>\n",
       "      <th></th>\n",
       "      <th></th>\n",
       "      <th></th>\n",
       "      <th></th>\n",
       "      <th></th>\n",
       "      <th></th>\n",
       "    </tr>\n",
       "  </thead>\n",
       "  <tbody>\n",
       "    <tr>\n",
       "      <th>356</th>\n",
       "      <td>Forrest Gump (1994)</td>\n",
       "      <td>1994.0</td>\n",
       "      <td>4.164134</td>\n",
       "      <td>329.0</td>\n",
       "      <td>0</td>\n",
       "      <td>0</td>\n",
       "      <td>0</td>\n",
       "      <td>0</td>\n",
       "      <td>1</td>\n",
       "      <td>0</td>\n",
       "      <td>...</td>\n",
       "      <td>0</td>\n",
       "      <td>0</td>\n",
       "      <td>0</td>\n",
       "      <td>0</td>\n",
       "      <td>0</td>\n",
       "      <td>1</td>\n",
       "      <td>0</td>\n",
       "      <td>0</td>\n",
       "      <td>1</td>\n",
       "      <td>0</td>\n",
       "    </tr>\n",
       "    <tr>\n",
       "      <th>318</th>\n",
       "      <td>Shawshank Redemption, The (1994)</td>\n",
       "      <td>1994.0</td>\n",
       "      <td>4.429022</td>\n",
       "      <td>317.0</td>\n",
       "      <td>0</td>\n",
       "      <td>0</td>\n",
       "      <td>0</td>\n",
       "      <td>0</td>\n",
       "      <td>0</td>\n",
       "      <td>1</td>\n",
       "      <td>...</td>\n",
       "      <td>0</td>\n",
       "      <td>0</td>\n",
       "      <td>0</td>\n",
       "      <td>0</td>\n",
       "      <td>0</td>\n",
       "      <td>0</td>\n",
       "      <td>0</td>\n",
       "      <td>0</td>\n",
       "      <td>0</td>\n",
       "      <td>0</td>\n",
       "    </tr>\n",
       "    <tr>\n",
       "      <th>296</th>\n",
       "      <td>Pulp Fiction (1994)</td>\n",
       "      <td>1994.0</td>\n",
       "      <td>4.197068</td>\n",
       "      <td>307.0</td>\n",
       "      <td>0</td>\n",
       "      <td>0</td>\n",
       "      <td>0</td>\n",
       "      <td>0</td>\n",
       "      <td>1</td>\n",
       "      <td>1</td>\n",
       "      <td>...</td>\n",
       "      <td>0</td>\n",
       "      <td>0</td>\n",
       "      <td>0</td>\n",
       "      <td>0</td>\n",
       "      <td>0</td>\n",
       "      <td>0</td>\n",
       "      <td>0</td>\n",
       "      <td>1</td>\n",
       "      <td>0</td>\n",
       "      <td>0</td>\n",
       "    </tr>\n",
       "    <tr>\n",
       "      <th>2571</th>\n",
       "      <td>Matrix, The (1999)</td>\n",
       "      <td>1999.0</td>\n",
       "      <td>4.192446</td>\n",
       "      <td>278.0</td>\n",
       "      <td>1</td>\n",
       "      <td>0</td>\n",
       "      <td>0</td>\n",
       "      <td>0</td>\n",
       "      <td>0</td>\n",
       "      <td>0</td>\n",
       "      <td>...</td>\n",
       "      <td>0</td>\n",
       "      <td>0</td>\n",
       "      <td>0</td>\n",
       "      <td>0</td>\n",
       "      <td>0</td>\n",
       "      <td>0</td>\n",
       "      <td>1</td>\n",
       "      <td>1</td>\n",
       "      <td>0</td>\n",
       "      <td>0</td>\n",
       "    </tr>\n",
       "    <tr>\n",
       "      <th>260</th>\n",
       "      <td>Star Wars: Episode IV - A New Hope (1977)</td>\n",
       "      <td>1977.0</td>\n",
       "      <td>4.231076</td>\n",
       "      <td>251.0</td>\n",
       "      <td>1</td>\n",
       "      <td>1</td>\n",
       "      <td>0</td>\n",
       "      <td>0</td>\n",
       "      <td>0</td>\n",
       "      <td>0</td>\n",
       "      <td>...</td>\n",
       "      <td>0</td>\n",
       "      <td>0</td>\n",
       "      <td>0</td>\n",
       "      <td>0</td>\n",
       "      <td>0</td>\n",
       "      <td>0</td>\n",
       "      <td>1</td>\n",
       "      <td>0</td>\n",
       "      <td>0</td>\n",
       "      <td>0</td>\n",
       "    </tr>\n",
       "  </tbody>\n",
       "</table>\n",
       "<p>5 rows × 23 columns</p>\n",
       "</div>"
      ],
      "text/plain": [
       "                                            titulo  ano_de_lancamento  \\\n",
       "filmeId                                                                 \n",
       "356                            Forrest Gump (1994)             1994.0   \n",
       "318               Shawshank Redemption, The (1994)             1994.0   \n",
       "296                            Pulp Fiction (1994)             1994.0   \n",
       "2571                            Matrix, The (1999)             1999.0   \n",
       "260      Star Wars: Episode IV - A New Hope (1977)             1977.0   \n",
       "\n",
       "         nota_media  total_de_votos  Action  Adventure  Animation  Children  \\\n",
       "filmeId                                                                       \n",
       "356        4.164134           329.0       0          0          0         0   \n",
       "318        4.429022           317.0       0          0          0         0   \n",
       "296        4.197068           307.0       0          0          0         0   \n",
       "2571       4.192446           278.0       1          0          0         0   \n",
       "260        4.231076           251.0       1          1          0         0   \n",
       "\n",
       "         Comedy  Crime  ...  FilmNoir  Horror  IMAX  Musical  Mystery  \\\n",
       "filmeId                 ...                                             \n",
       "356           1      0  ...         0       0     0        0        0   \n",
       "318           0      1  ...         0       0     0        0        0   \n",
       "296           1      1  ...         0       0     0        0        0   \n",
       "2571          0      0  ...         0       0     0        0        0   \n",
       "260           0      0  ...         0       0     0        0        0   \n",
       "\n",
       "         Romance  SciFi  Thriller  War  Western  \n",
       "filmeId                                          \n",
       "356            1      0         0    1        0  \n",
       "318            0      0         0    0        0  \n",
       "296            0      0         1    0        0  \n",
       "2571           0      1         1    0        0  \n",
       "260            0      1         0    0        0  \n",
       "\n",
       "[5 rows x 23 columns]"
      ]
     },
     "execution_count": 71,
     "metadata": {},
     "output_type": "execute_result"
    },
    {
     "data": {
      "application/javascript": [
       "\n",
       "            setTimeout(function() {\n",
       "                var nbb_cell_id = 71;\n",
       "                var nbb_unformatted_code = \"# solu\\u00e7\\u00e3o: encontrando os top 5 filmes desses generos\\nfilmes_mais_votados.sort_values('total_de_votos', ascending=False, inplace=True)\\nfilmes_mais_votados.head()\";\n",
       "                var nbb_formatted_code = \"# solu\\u00e7\\u00e3o: encontrando os top 5 filmes desses generos\\nfilmes_mais_votados.sort_values(\\\"total_de_votos\\\", ascending=False, inplace=True)\\nfilmes_mais_votados.head()\";\n",
       "                var nbb_cells = Jupyter.notebook.get_cells();\n",
       "                for (var i = 0; i < nbb_cells.length; ++i) {\n",
       "                    if (nbb_cells[i].input_prompt_number == nbb_cell_id) {\n",
       "                        if (nbb_cells[i].get_text() == nbb_unformatted_code) {\n",
       "                             nbb_cells[i].set_text(nbb_formatted_code);\n",
       "                        }\n",
       "                        break;\n",
       "                    }\n",
       "                }\n",
       "            }, 500);\n",
       "            "
      ],
      "text/plain": [
       "<IPython.core.display.Javascript object>"
      ]
     },
     "metadata": {},
     "output_type": "display_data"
    }
   ],
   "source": [
    "# solução: encontrando os top 5 filmes desses generos\n",
    "filmes_mais_votados.sort_values(\"total_de_votos\", ascending=False, inplace=True)\n",
    "filmes_mais_votados.head()"
   ]
  },
  {
   "cell_type": "markdown",
   "metadata": {},
   "source": [
    "## Pergunta: Quais são os 2 generos com maior valor de correlação com a `nota_media`? E os 2 com menor valor de correlação com a `nota_media`?\n",
    "Os generos Drama e Crime tem maior correlação com a nota_media.\n",
    "Os generos Comedy e Action tem a menor correlação com a nota_media.\n",
    "\n",
    "- O pandas possui a função `corr` para calcular correlação entre todas as colunas"
   ]
  },
  {
   "cell_type": "code",
   "execution_count": 72,
   "metadata": {},
   "outputs": [
    {
     "data": {
      "text/html": [
       "<div>\n",
       "<style scoped>\n",
       "    .dataframe tbody tr th:only-of-type {\n",
       "        vertical-align: middle;\n",
       "    }\n",
       "\n",
       "    .dataframe tbody tr th {\n",
       "        vertical-align: top;\n",
       "    }\n",
       "\n",
       "    .dataframe thead th {\n",
       "        text-align: right;\n",
       "    }\n",
       "</style>\n",
       "<table border=\"1\" class=\"dataframe\">\n",
       "  <thead>\n",
       "    <tr style=\"text-align: right;\">\n",
       "      <th></th>\n",
       "      <th>nota_media</th>\n",
       "    </tr>\n",
       "  </thead>\n",
       "  <tbody>\n",
       "    <tr>\n",
       "      <th>nota_media</th>\n",
       "      <td>1.000000</td>\n",
       "    </tr>\n",
       "    <tr>\n",
       "      <th>Drama</th>\n",
       "      <td>0.277662</td>\n",
       "    </tr>\n",
       "    <tr>\n",
       "      <th>Crime</th>\n",
       "      <td>0.190220</td>\n",
       "    </tr>\n",
       "    <tr>\n",
       "      <th>Mystery</th>\n",
       "      <td>0.129914</td>\n",
       "    </tr>\n",
       "    <tr>\n",
       "      <th>War</th>\n",
       "      <td>0.125615</td>\n",
       "    </tr>\n",
       "    <tr>\n",
       "      <th>FilmNoir</th>\n",
       "      <td>0.081766</td>\n",
       "    </tr>\n",
       "    <tr>\n",
       "      <th>IMAX</th>\n",
       "      <td>0.064931</td>\n",
       "    </tr>\n",
       "    <tr>\n",
       "      <th>Animation</th>\n",
       "      <td>0.043071</td>\n",
       "    </tr>\n",
       "    <tr>\n",
       "      <th>Documentary</th>\n",
       "      <td>-0.003486</td>\n",
       "    </tr>\n",
       "    <tr>\n",
       "      <th>Musical</th>\n",
       "      <td>-0.008529</td>\n",
       "    </tr>\n",
       "    <tr>\n",
       "      <th>Thriller</th>\n",
       "      <td>-0.016782</td>\n",
       "    </tr>\n",
       "    <tr>\n",
       "      <th>Fantasy</th>\n",
       "      <td>-0.020986</td>\n",
       "    </tr>\n",
       "    <tr>\n",
       "      <th>Children</th>\n",
       "      <td>-0.030360</td>\n",
       "    </tr>\n",
       "    <tr>\n",
       "      <th>Horror</th>\n",
       "      <td>-0.033877</td>\n",
       "    </tr>\n",
       "    <tr>\n",
       "      <th>Western</th>\n",
       "      <td>-0.059642</td>\n",
       "    </tr>\n",
       "    <tr>\n",
       "      <th>Romance</th>\n",
       "      <td>-0.072002</td>\n",
       "    </tr>\n",
       "    <tr>\n",
       "      <th>Adventure</th>\n",
       "      <td>-0.079985</td>\n",
       "    </tr>\n",
       "    <tr>\n",
       "      <th>SciFi</th>\n",
       "      <td>-0.136717</td>\n",
       "    </tr>\n",
       "    <tr>\n",
       "      <th>Action</th>\n",
       "      <td>-0.154089</td>\n",
       "    </tr>\n",
       "    <tr>\n",
       "      <th>Comedy</th>\n",
       "      <td>-0.256005</td>\n",
       "    </tr>\n",
       "  </tbody>\n",
       "</table>\n",
       "</div>"
      ],
      "text/plain": [
       "             nota_media\n",
       "nota_media     1.000000\n",
       "Drama          0.277662\n",
       "Crime          0.190220\n",
       "Mystery        0.129914\n",
       "War            0.125615\n",
       "FilmNoir       0.081766\n",
       "IMAX           0.064931\n",
       "Animation      0.043071\n",
       "Documentary   -0.003486\n",
       "Musical       -0.008529\n",
       "Thriller      -0.016782\n",
       "Fantasy       -0.020986\n",
       "Children      -0.030360\n",
       "Horror        -0.033877\n",
       "Western       -0.059642\n",
       "Romance       -0.072002\n",
       "Adventure     -0.079985\n",
       "SciFi         -0.136717\n",
       "Action        -0.154089\n",
       "Comedy        -0.256005"
      ]
     },
     "execution_count": 72,
     "metadata": {},
     "output_type": "execute_result"
    },
    {
     "data": {
      "application/javascript": [
       "\n",
       "            setTimeout(function() {\n",
       "                var nbb_cell_id = 72;\n",
       "                var nbb_unformatted_code = \"# solucao\\ncolunas = list(generos.columns)\\ncolunas.append('nota_media')\\ncorr_genero = pd.DataFrame(filmes[colunas].corr()['nota_media'])\\ncorr_genero.sort_values('nota_media', ascending=False)\";\n",
       "                var nbb_formatted_code = \"# solucao\\ncolunas = list(generos.columns)\\ncolunas.append(\\\"nota_media\\\")\\ncorr_genero = pd.DataFrame(filmes[colunas].corr()[\\\"nota_media\\\"])\\ncorr_genero.sort_values(\\\"nota_media\\\", ascending=False)\";\n",
       "                var nbb_cells = Jupyter.notebook.get_cells();\n",
       "                for (var i = 0; i < nbb_cells.length; ++i) {\n",
       "                    if (nbb_cells[i].input_prompt_number == nbb_cell_id) {\n",
       "                        if (nbb_cells[i].get_text() == nbb_unformatted_code) {\n",
       "                             nbb_cells[i].set_text(nbb_formatted_code);\n",
       "                        }\n",
       "                        break;\n",
       "                    }\n",
       "                }\n",
       "            }, 500);\n",
       "            "
      ],
      "text/plain": [
       "<IPython.core.display.Javascript object>"
      ]
     },
     "metadata": {},
     "output_type": "display_data"
    }
   ],
   "source": [
    "# solucao\n",
    "colunas = list(generos.columns)\n",
    "colunas.append(\"nota_media\")\n",
    "corr_genero = pd.DataFrame(filmes[colunas].corr()[\"nota_media\"])\n",
    "corr_genero.sort_values(\"nota_media\", ascending=False)"
   ]
  },
  {
   "cell_type": "markdown",
   "metadata": {},
   "source": [
    "## Pergunta: Quais são os 2 generos com maior valor de correlação com `total_de_votos`? E quais os 2 com menor valor de correlação com `total_de_votos`? \n",
    "Os generos Adventure e War tem maior correlação com o total_de_votos.\n",
    "Os generos Western e Comedy tem a menor correlação com o total_de_votos."
   ]
  },
  {
   "cell_type": "code",
   "execution_count": 73,
   "metadata": {},
   "outputs": [
    {
     "data": {
      "text/html": [
       "<div>\n",
       "<style scoped>\n",
       "    .dataframe tbody tr th:only-of-type {\n",
       "        vertical-align: middle;\n",
       "    }\n",
       "\n",
       "    .dataframe tbody tr th {\n",
       "        vertical-align: top;\n",
       "    }\n",
       "\n",
       "    .dataframe thead th {\n",
       "        text-align: right;\n",
       "    }\n",
       "</style>\n",
       "<table border=\"1\" class=\"dataframe\">\n",
       "  <thead>\n",
       "    <tr style=\"text-align: right;\">\n",
       "      <th></th>\n",
       "      <th>total_de_votos</th>\n",
       "    </tr>\n",
       "  </thead>\n",
       "  <tbody>\n",
       "    <tr>\n",
       "      <th>total_de_votos</th>\n",
       "      <td>1.000000</td>\n",
       "    </tr>\n",
       "    <tr>\n",
       "      <th>Adventure</th>\n",
       "      <td>0.104380</td>\n",
       "    </tr>\n",
       "    <tr>\n",
       "      <th>War</th>\n",
       "      <td>0.087999</td>\n",
       "    </tr>\n",
       "    <tr>\n",
       "      <th>Thriller</th>\n",
       "      <td>0.085525</td>\n",
       "    </tr>\n",
       "    <tr>\n",
       "      <th>Crime</th>\n",
       "      <td>0.079766</td>\n",
       "    </tr>\n",
       "    <tr>\n",
       "      <th>Action</th>\n",
       "      <td>0.066239</td>\n",
       "    </tr>\n",
       "    <tr>\n",
       "      <th>SciFi</th>\n",
       "      <td>0.063802</td>\n",
       "    </tr>\n",
       "    <tr>\n",
       "      <th>Animation</th>\n",
       "      <td>0.023442</td>\n",
       "    </tr>\n",
       "    <tr>\n",
       "      <th>Drama</th>\n",
       "      <td>0.018779</td>\n",
       "    </tr>\n",
       "    <tr>\n",
       "      <th>Children</th>\n",
       "      <td>0.001764</td>\n",
       "    </tr>\n",
       "    <tr>\n",
       "      <th>Mystery</th>\n",
       "      <td>-0.007051</td>\n",
       "    </tr>\n",
       "    <tr>\n",
       "      <th>Fantasy</th>\n",
       "      <td>-0.009976</td>\n",
       "    </tr>\n",
       "    <tr>\n",
       "      <th>IMAX</th>\n",
       "      <td>-0.016285</td>\n",
       "    </tr>\n",
       "    <tr>\n",
       "      <th>Musical</th>\n",
       "      <td>-0.024741</td>\n",
       "    </tr>\n",
       "    <tr>\n",
       "      <th>Horror</th>\n",
       "      <td>-0.036132</td>\n",
       "    </tr>\n",
       "    <tr>\n",
       "      <th>FilmNoir</th>\n",
       "      <td>-0.039408</td>\n",
       "    </tr>\n",
       "    <tr>\n",
       "      <th>Romance</th>\n",
       "      <td>-0.045427</td>\n",
       "    </tr>\n",
       "    <tr>\n",
       "      <th>Documentary</th>\n",
       "      <td>-0.055010</td>\n",
       "    </tr>\n",
       "    <tr>\n",
       "      <th>Western</th>\n",
       "      <td>-0.060789</td>\n",
       "    </tr>\n",
       "    <tr>\n",
       "      <th>Comedy</th>\n",
       "      <td>-0.128527</td>\n",
       "    </tr>\n",
       "  </tbody>\n",
       "</table>\n",
       "</div>"
      ],
      "text/plain": [
       "                total_de_votos\n",
       "total_de_votos        1.000000\n",
       "Adventure             0.104380\n",
       "War                   0.087999\n",
       "Thriller              0.085525\n",
       "Crime                 0.079766\n",
       "Action                0.066239\n",
       "SciFi                 0.063802\n",
       "Animation             0.023442\n",
       "Drama                 0.018779\n",
       "Children              0.001764\n",
       "Mystery              -0.007051\n",
       "Fantasy              -0.009976\n",
       "IMAX                 -0.016285\n",
       "Musical              -0.024741\n",
       "Horror               -0.036132\n",
       "FilmNoir             -0.039408\n",
       "Romance              -0.045427\n",
       "Documentary          -0.055010\n",
       "Western              -0.060789\n",
       "Comedy               -0.128527"
      ]
     },
     "execution_count": 73,
     "metadata": {},
     "output_type": "execute_result"
    },
    {
     "data": {
      "application/javascript": [
       "\n",
       "            setTimeout(function() {\n",
       "                var nbb_cell_id = 73;\n",
       "                var nbb_unformatted_code = \"# solucao\\ncolunas = list(generos.columns)\\ncolunas.append('total_de_votos')\\ncorr_genero = pd.DataFrame(filmes[colunas].corr()['total_de_votos'])\\ncorr_genero.sort_values('total_de_votos', ascending=False)\";\n",
       "                var nbb_formatted_code = \"# solucao\\ncolunas = list(generos.columns)\\ncolunas.append(\\\"total_de_votos\\\")\\ncorr_genero = pd.DataFrame(filmes[colunas].corr()[\\\"total_de_votos\\\"])\\ncorr_genero.sort_values(\\\"total_de_votos\\\", ascending=False)\";\n",
       "                var nbb_cells = Jupyter.notebook.get_cells();\n",
       "                for (var i = 0; i < nbb_cells.length; ++i) {\n",
       "                    if (nbb_cells[i].input_prompt_number == nbb_cell_id) {\n",
       "                        if (nbb_cells[i].get_text() == nbb_unformatted_code) {\n",
       "                             nbb_cells[i].set_text(nbb_formatted_code);\n",
       "                        }\n",
       "                        break;\n",
       "                    }\n",
       "                }\n",
       "            }, 500);\n",
       "            "
      ],
      "text/plain": [
       "<IPython.core.display.Javascript object>"
      ]
     },
     "metadata": {},
     "output_type": "display_data"
    }
   ],
   "source": [
    "# solucao\n",
    "colunas = list(generos.columns)\n",
    "colunas.append(\"total_de_votos\")\n",
    "corr_genero = pd.DataFrame(filmes[colunas].corr()[\"total_de_votos\"])\n",
    "corr_genero.sort_values(\"total_de_votos\", ascending=False)"
   ]
  },
  {
   "cell_type": "markdown",
   "metadata": {},
   "source": [
    "## Pergunta: Visualize graficamente o relacionamento entre ano de lançamento e nota média\n",
    "\n",
    "- Use o gráfico `lineplot`"
   ]
  },
  {
   "cell_type": "code",
   "execution_count": 74,
   "metadata": {},
   "outputs": [
    {
     "data": {
      "application/javascript": [
       "\n",
       "            setTimeout(function() {\n",
       "                var nbb_cell_id = 74;\n",
       "                var nbb_unformatted_code = \"ano_lacamento_nota_media = pd.DataFrame(filmes.groupby('ano_de_lancamento')['nota_media'].mean())\\nano_lacamento_nota_media['ano_lancamento'] = ano_lacamento_nota_media.index\";\n",
       "                var nbb_formatted_code = \"ano_lacamento_nota_media = pd.DataFrame(\\n    filmes.groupby(\\\"ano_de_lancamento\\\")[\\\"nota_media\\\"].mean()\\n)\\nano_lacamento_nota_media[\\\"ano_lancamento\\\"] = ano_lacamento_nota_media.index\";\n",
       "                var nbb_cells = Jupyter.notebook.get_cells();\n",
       "                for (var i = 0; i < nbb_cells.length; ++i) {\n",
       "                    if (nbb_cells[i].input_prompt_number == nbb_cell_id) {\n",
       "                        if (nbb_cells[i].get_text() == nbb_unformatted_code) {\n",
       "                             nbb_cells[i].set_text(nbb_formatted_code);\n",
       "                        }\n",
       "                        break;\n",
       "                    }\n",
       "                }\n",
       "            }, 500);\n",
       "            "
      ],
      "text/plain": [
       "<IPython.core.display.Javascript object>"
      ]
     },
     "metadata": {},
     "output_type": "display_data"
    }
   ],
   "source": [
    "ano_lacamento_nota_media = pd.DataFrame(\n",
    "    filmes.groupby(\"ano_de_lancamento\")[\"nota_media\"].mean()\n",
    ")\n",
    "ano_lacamento_nota_media[\"ano_lancamento\"] = ano_lacamento_nota_media.index"
   ]
  },
  {
   "cell_type": "code",
   "execution_count": 75,
   "metadata": {},
   "outputs": [
    {
     "data": {
      "text/plain": [
       "<matplotlib.axes._subplots.AxesSubplot at 0x7fceda29d790>"
      ]
     },
     "execution_count": 75,
     "metadata": {},
     "output_type": "execute_result"
    },
    {
     "data": {
      "image/png": "[encoded data removed]",
      "text/plain": [
       "<Figure size 1440x720 with 1 Axes>"
      ]
     },
     "metadata": {
      "needs_background": "light"
     },
     "output_type": "display_data"
    },
    {
     "data": {
      "application/javascript": [
       "\n",
       "            setTimeout(function() {\n",
       "                var nbb_cell_id = 75;\n",
       "                var nbb_unformatted_code = \"# solucao\\nplt.figure(figsize=(20,10))\\nplt.title('Historico de nota m\\u00e9dia dos filmes por ano')\\nplt.ylabel('Nota m\\u00e9dia')\\nplt.ylabel('Ano de lan\\u00e7amento')\\nsns.set(style=\\\"darkgrid\\\")\\nsns.lineplot(x=\\\"ano_lancamento\\\", y=\\\"nota_media\\\",\\n             data=ano_lacamento_nota_media)\";\n",
       "                var nbb_formatted_code = \"# solucao\\nplt.figure(figsize=(20, 10))\\nplt.title(\\\"Historico de nota m\\u00e9dia dos filmes por ano\\\")\\nplt.ylabel(\\\"Nota m\\u00e9dia\\\")\\nplt.ylabel(\\\"Ano de lan\\u00e7amento\\\")\\nsns.set(style=\\\"darkgrid\\\")\\nsns.lineplot(x=\\\"ano_lancamento\\\", y=\\\"nota_media\\\", data=ano_lacamento_nota_media)\";\n",
       "                var nbb_cells = Jupyter.notebook.get_cells();\n",
       "                for (var i = 0; i < nbb_cells.length; ++i) {\n",
       "                    if (nbb_cells[i].input_prompt_number == nbb_cell_id) {\n",
       "                        if (nbb_cells[i].get_text() == nbb_unformatted_code) {\n",
       "                             nbb_cells[i].set_text(nbb_formatted_code);\n",
       "                        }\n",
       "                        break;\n",
       "                    }\n",
       "                }\n",
       "            }, 500);\n",
       "            "
      ],
      "text/plain": [
       "<IPython.core.display.Javascript object>"
      ]
     },
     "metadata": {},
     "output_type": "display_data"
    }
   ],
   "source": [
    "# solucao\n",
    "plt.figure(figsize=(20, 10))\n",
    "plt.title(\"Historico de nota média dos filmes por ano\")\n",
    "plt.ylabel(\"Nota média\")\n",
    "plt.ylabel(\"Ano de lançamento\")\n",
    "sns.set(style=\"darkgrid\")\n",
    "sns.lineplot(x=\"ano_lancamento\", y=\"nota_media\", data=ano_lacamento_nota_media)"
   ]
  },
  {
   "cell_type": "markdown",
   "metadata": {},
   "source": [
    "## Pergunta: Interprete a correlação entre `ano_de_lancamento` e a `nota_media`?\n",
    "\n",
    "- Calcule a correlação numericamente (use o `corr` do pandas)\n",
    "- Correlação não implica causalidade, qual \"problema\" na coleta dos dados pode gerar esse tipo de correlação?"
   ]
  },
  {
   "cell_type": "code",
   "execution_count": 76,
   "metadata": {},
   "outputs": [
    {
     "data": {
      "text/html": [
       "<div>\n",
       "<style scoped>\n",
       "    .dataframe tbody tr th:only-of-type {\n",
       "        vertical-align: middle;\n",
       "    }\n",
       "\n",
       "    .dataframe tbody tr th {\n",
       "        vertical-align: top;\n",
       "    }\n",
       "\n",
       "    .dataframe thead th {\n",
       "        text-align: right;\n",
       "    }\n",
       "</style>\n",
       "<table border=\"1\" class=\"dataframe\">\n",
       "  <thead>\n",
       "    <tr style=\"text-align: right;\">\n",
       "      <th></th>\n",
       "      <th>nota_media</th>\n",
       "      <th>ano_lancamento</th>\n",
       "    </tr>\n",
       "  </thead>\n",
       "  <tbody>\n",
       "    <tr>\n",
       "      <th>nota_media</th>\n",
       "      <td>1.000000</td>\n",
       "      <td>-0.385454</td>\n",
       "    </tr>\n",
       "    <tr>\n",
       "      <th>ano_lancamento</th>\n",
       "      <td>-0.385454</td>\n",
       "      <td>1.000000</td>\n",
       "    </tr>\n",
       "  </tbody>\n",
       "</table>\n",
       "</div>"
      ],
      "text/plain": [
       "                nota_media  ano_lancamento\n",
       "nota_media        1.000000       -0.385454\n",
       "ano_lancamento   -0.385454        1.000000"
      ]
     },
     "execution_count": 76,
     "metadata": {},
     "output_type": "execute_result"
    },
    {
     "data": {
      "application/javascript": [
       "\n",
       "            setTimeout(function() {\n",
       "                var nbb_cell_id = 76;\n",
       "                var nbb_unformatted_code = \"# solu\\u00e7\\u00e3o (c\\u00f3digo)\\nano_lacamento_nota_media.corr()\";\n",
       "                var nbb_formatted_code = \"# solu\\u00e7\\u00e3o (c\\u00f3digo)\\nano_lacamento_nota_media.corr()\";\n",
       "                var nbb_cells = Jupyter.notebook.get_cells();\n",
       "                for (var i = 0; i < nbb_cells.length; ++i) {\n",
       "                    if (nbb_cells[i].input_prompt_number == nbb_cell_id) {\n",
       "                        if (nbb_cells[i].get_text() == nbb_unformatted_code) {\n",
       "                             nbb_cells[i].set_text(nbb_formatted_code);\n",
       "                        }\n",
       "                        break;\n",
       "                    }\n",
       "                }\n",
       "            }, 500);\n",
       "            "
      ],
      "text/plain": [
       "<IPython.core.display.Javascript object>"
      ]
     },
     "metadata": {},
     "output_type": "display_data"
    }
   ],
   "source": [
    "# solução (código)\n",
    "ano_lacamento_nota_media.corr()"
   ]
  },
  {
   "cell_type": "markdown",
   "metadata": {},
   "source": [
    "### Solução: \n",
    "- Uma correlação negativa, afirma que ao passar dos anos, os filmes recebem uma nota média menor. O que nos deixa com 2 possibilidades, a qualidade dos filmes cairam com o passar dos anos, ou então o jurí ficou mais exigente com os filmes produzidos. Gráficamente percebemos que após o inicio dos anos 80 as notas médias estão caindo. \n",
    "\n"
   ]
  },
  {
   "cell_type": "markdown",
   "metadata": {},
   "source": [
    "## Pergunta: analise um pairplot\n",
    "\n",
    "- crie uma variável chamada `infos` baseada nas colunas `ano_de_lancamento`, `nota_media` e `total_de_votos` de `filmes`\n",
    "- faça o pairplot usando seaborn\n",
    "- coloque uma regressão linear para cada pequeno plot dentro dele"
   ]
  },
  {
   "cell_type": "code",
   "execution_count": 77,
   "metadata": {},
   "outputs": [
    {
     "data": {
      "application/javascript": [
       "\n",
       "            setTimeout(function() {\n",
       "                var nbb_cell_id = 77;\n",
       "                var nbb_unformatted_code = \"# solu\\u00e7\\u00e3o\\ninfos = filmes[['ano_de_lancamento', 'nota_media', 'total_de_votos']]\";\n",
       "                var nbb_formatted_code = \"# solu\\u00e7\\u00e3o\\ninfos = filmes[[\\\"ano_de_lancamento\\\", \\\"nota_media\\\", \\\"total_de_votos\\\"]]\";\n",
       "                var nbb_cells = Jupyter.notebook.get_cells();\n",
       "                for (var i = 0; i < nbb_cells.length; ++i) {\n",
       "                    if (nbb_cells[i].input_prompt_number == nbb_cell_id) {\n",
       "                        if (nbb_cells[i].get_text() == nbb_unformatted_code) {\n",
       "                             nbb_cells[i].set_text(nbb_formatted_code);\n",
       "                        }\n",
       "                        break;\n",
       "                    }\n",
       "                }\n",
       "            }, 500);\n",
       "            "
      ],
      "text/plain": [
       "<IPython.core.display.Javascript object>"
      ]
     },
     "metadata": {},
     "output_type": "display_data"
    }
   ],
   "source": [
    "# solução\n",
    "infos = filmes[[\"ano_de_lancamento\", \"nota_media\", \"total_de_votos\"]]"
   ]
  },
  {
   "cell_type": "code",
   "execution_count": 78,
   "metadata": {},
   "outputs": [
    {
     "data": {
      "text/plain": [
       "<seaborn.axisgrid.PairGrid at 0x7fcf187026d0>"
      ]
     },
     "execution_count": 78,
     "metadata": {},
     "output_type": "execute_result"
    },
    {
     "data": {
      "image/png": "[encoded data removed]",
      "text/plain": [
       "<Figure size 540x540 with 12 Axes>"
      ]
     },
     "metadata": {},
     "output_type": "display_data"
    },
    {
     "data": {
      "application/javascript": [
       "\n",
       "            setTimeout(function() {\n",
       "                var nbb_cell_id = 78;\n",
       "                var nbb_unformatted_code = \"sns.set(style=\\\"ticks\\\")\\nsns.pairplot(infos, kind='reg')\";\n",
       "                var nbb_formatted_code = \"sns.set(style=\\\"ticks\\\")\\nsns.pairplot(infos, kind=\\\"reg\\\")\";\n",
       "                var nbb_cells = Jupyter.notebook.get_cells();\n",
       "                for (var i = 0; i < nbb_cells.length; ++i) {\n",
       "                    if (nbb_cells[i].input_prompt_number == nbb_cell_id) {\n",
       "                        if (nbb_cells[i].get_text() == nbb_unformatted_code) {\n",
       "                             nbb_cells[i].set_text(nbb_formatted_code);\n",
       "                        }\n",
       "                        break;\n",
       "                    }\n",
       "                }\n",
       "            }, 500);\n",
       "            "
      ],
      "text/plain": [
       "<IPython.core.display.Javascript object>"
      ]
     },
     "metadata": {},
     "output_type": "display_data"
    }
   ],
   "source": [
    "sns.set(style=\"ticks\")\n",
    "sns.pairplot(infos, kind=\"reg\")"
   ]
  },
  {
   "cell_type": "markdown",
   "metadata": {},
   "source": [
    "## Pergunta: analise um pairplot dos filmes de `Animation`\n",
    "\n",
    "- use o dataframe `filmes`\n",
    "- em um único pairplot separe com cores distintas os filmes da categoria `Animation` dos outros\n",
    "- use uma palete como `husl`\n",
    "- use marcadores distintos para cada um dos dois grupos\n",
    "- faça o pairplot usando seaborn e coloque uma regressão linear para cada pequeno plot dentro dele\n",
    "- tanto em x quanto y use somente três variáveis: `total_de_votos`, `ano_de_lancamento`, `nota_media`"
   ]
  },
  {
   "cell_type": "code",
   "execution_count": 79,
   "metadata": {},
   "outputs": [
    {
     "data": {
      "text/plain": [
       "<seaborn.axisgrid.PairGrid at 0x7fceebfbb450>"
      ]
     },
     "execution_count": 79,
     "metadata": {},
     "output_type": "execute_result"
    },
    {
     "data": {
      "image/png": "[encoded data removed]",
      "text/plain": [
       "<Figure size 601.175x540 with 12 Axes>"
      ]
     },
     "metadata": {},
     "output_type": "display_data"
    },
    {
     "data": {
      "application/javascript": [
       "\n",
       "            setTimeout(function() {\n",
       "                var nbb_cell_id = 79;\n",
       "                var nbb_unformatted_code = \"sns.pairplot(filmes, kind='reg', hue='Animation', palette=\\\"husl\\\", vars=[\\\"total_de_votos\\\", \\\"ano_de_lancamento\\\", \\\"nota_media\\\"])\";\n",
       "                var nbb_formatted_code = \"sns.pairplot(\\n    filmes,\\n    kind=\\\"reg\\\",\\n    hue=\\\"Animation\\\",\\n    palette=\\\"husl\\\",\\n    vars=[\\\"total_de_votos\\\", \\\"ano_de_lancamento\\\", \\\"nota_media\\\"],\\n)\";\n",
       "                var nbb_cells = Jupyter.notebook.get_cells();\n",
       "                for (var i = 0; i < nbb_cells.length; ++i) {\n",
       "                    if (nbb_cells[i].input_prompt_number == nbb_cell_id) {\n",
       "                        if (nbb_cells[i].get_text() == nbb_unformatted_code) {\n",
       "                             nbb_cells[i].set_text(nbb_formatted_code);\n",
       "                        }\n",
       "                        break;\n",
       "                    }\n",
       "                }\n",
       "            }, 500);\n",
       "            "
      ],
      "text/plain": [
       "<IPython.core.display.Javascript object>"
      ]
     },
     "metadata": {},
     "output_type": "display_data"
    }
   ],
   "source": [
    "sns.pairplot(\n",
    "    filmes,\n",
    "    kind=\"reg\",\n",
    "    hue=\"Animation\",\n",
    "    palette=\"husl\",\n",
    "    vars=[\"total_de_votos\", \"ano_de_lancamento\", \"nota_media\"],\n",
    ")"
   ]
  },
  {
   "cell_type": "markdown",
   "metadata": {},
   "source": [
    "## Pergunta: Analise a regressão em relação ao ano de lançamento.\n",
    "\n",
    "- Como parece se comportar a `nota_media` de filmes de `Animation` mais antigos e mais recentes? (ano_de_lancamento x nota_media). Essa correlação parece ser baixa, mas parece ser linear?\n",
    "- E o `ano_de_lancamento` x `total_de_votos`?\n",
    "- E das outras categorias? Compare isso com os outros filmes.\n",
    "- O que leva você levantar como hipótese para esse resultado?"
   ]
  },
  {
   "cell_type": "markdown",
   "metadata": {},
   "source": [
    "### Solução:\n",
    "- Antigamente as notas médias dos filmes de Animation são menores do que os recentes, essa correlação parece ser baixa e linear.\n",
    "- Antigamento tinhamos menos filmes de Animation sendo lançadas, do que impacta no total de votos.\n",
    "- Sobre a nota media: podemos concluir que os filmes de Animation mais recentes tem notas melhores (correlação positiva) do que os seus sucessores, o que é o oposto das demais categorias onde com o passar dos anos tem notas menores (correlação negativa). Sobre o total de votos: podemos concluir que os filmes de Animation cresceu (correlação positiva) o seu numero de filmes com o passar dos anos, o que é fortemente sustentado por ter mais filmes no mercado. Já os outros filmes o numero total de votos ficou de maneira constante (sem correlação) no passar do tempo.\n",
    "- Fica claro para mim que o avanço da tecnologia fez com que filmes de Animation fossem mais bem feitos ou até mesmo realizados. O seu público forte é consideravelmente de pessoas jovens com animações infantil. O publico jovem tambem acaba sendo 'menos rigoroso' o que esse genero ter notas melhores.\n"
   ]
  },
  {
   "cell_type": "markdown",
   "metadata": {},
   "source": [
    "## Pergunta: Explore\n",
    "\n",
    "- compartilhe conosco 2 visualizações extras que julgar interessante\n",
    "- explique o que encontrou\n",
    "- use quantas células (texto ou código) julgar necessário"
   ]
  },
  {
   "cell_type": "markdown",
   "metadata": {},
   "source": [
    "##### Bom como toda a analise foi feita em cima dos filmes, e as notas em relação a filmes, vamos tentar descobrir algo sobre quem deu as notas. Proponho fazer uma análise em cima dos Usuários."
   ]
  },
  {
   "cell_type": "code",
   "execution_count": 80,
   "metadata": {},
   "outputs": [
    {
     "data": {
      "application/javascript": [
       "\n",
       "            setTimeout(function() {\n",
       "                var nbb_cell_id = 80;\n",
       "                var nbb_unformatted_code = \"users = notas.groupby(['usuarioId']).agg(\\n{'filmeId':'count',\\n    'nota': 'mean'    \\n})\\nusers['userId'] = users.index\\nusers.sort_values('filmeId', ascending=False, inplace=True)\";\n",
       "                var nbb_formatted_code = \"users = notas.groupby([\\\"usuarioId\\\"]).agg({\\\"filmeId\\\": \\\"count\\\", \\\"nota\\\": \\\"mean\\\"})\\nusers[\\\"userId\\\"] = users.index\\nusers.sort_values(\\\"filmeId\\\", ascending=False, inplace=True)\";\n",
       "                var nbb_cells = Jupyter.notebook.get_cells();\n",
       "                for (var i = 0; i < nbb_cells.length; ++i) {\n",
       "                    if (nbb_cells[i].input_prompt_number == nbb_cell_id) {\n",
       "                        if (nbb_cells[i].get_text() == nbb_unformatted_code) {\n",
       "                             nbb_cells[i].set_text(nbb_formatted_code);\n",
       "                        }\n",
       "                        break;\n",
       "                    }\n",
       "                }\n",
       "            }, 500);\n",
       "            "
      ],
      "text/plain": [
       "<IPython.core.display.Javascript object>"
      ]
     },
     "metadata": {},
     "output_type": "display_data"
    }
   ],
   "source": [
    "users = notas.groupby([\"usuarioId\"]).agg({\"filmeId\": \"count\", \"nota\": \"mean\"})\n",
    "users[\"userId\"] = users.index\n",
    "users.sort_values(\"filmeId\", ascending=False, inplace=True)"
   ]
  },
  {
   "cell_type": "code",
   "execution_count": 81,
   "metadata": {},
   "outputs": [
    {
     "data": {
      "image/png": "[encoded data removed]",
      "text/plain": [
       "<Figure size 864x432 with 1 Axes>"
      ]
     },
     "metadata": {},
     "output_type": "display_data"
    },
    {
     "data": {
      "application/javascript": [
       "\n",
       "            setTimeout(function() {\n",
       "                var nbb_cell_id = 81;\n",
       "                var nbb_unformatted_code = \"plt.figure(figsize=(12,6))\\nax = sns.barplot(x=\\\"userId\\\", y=\\\"filmeId\\\", data=users[:20])\\nplt.title('Usuarios que mais analisaram filmes Top 20')\\nplt.ylabel('Quantidade de filmes')\\nplt.xlabel('ID dos usuarios que analisaram os filmes')\\nplt.show()\";\n",
       "                var nbb_formatted_code = \"plt.figure(figsize=(12, 6))\\nax = sns.barplot(x=\\\"userId\\\", y=\\\"filmeId\\\", data=users[:20])\\nplt.title(\\\"Usuarios que mais analisaram filmes Top 20\\\")\\nplt.ylabel(\\\"Quantidade de filmes\\\")\\nplt.xlabel(\\\"ID dos usuarios que analisaram os filmes\\\")\\nplt.show()\";\n",
       "                var nbb_cells = Jupyter.notebook.get_cells();\n",
       "                for (var i = 0; i < nbb_cells.length; ++i) {\n",
       "                    if (nbb_cells[i].input_prompt_number == nbb_cell_id) {\n",
       "                        if (nbb_cells[i].get_text() == nbb_unformatted_code) {\n",
       "                             nbb_cells[i].set_text(nbb_formatted_code);\n",
       "                        }\n",
       "                        break;\n",
       "                    }\n",
       "                }\n",
       "            }, 500);\n",
       "            "
      ],
      "text/plain": [
       "<IPython.core.display.Javascript object>"
      ]
     },
     "metadata": {},
     "output_type": "display_data"
    }
   ],
   "source": [
    "plt.figure(figsize=(12, 6))\n",
    "ax = sns.barplot(x=\"userId\", y=\"filmeId\", data=users[:20])\n",
    "plt.title(\"Usuarios que mais analisaram filmes Top 20\")\n",
    "plt.ylabel(\"Quantidade de filmes\")\n",
    "plt.xlabel(\"ID dos usuarios que analisaram os filmes\")\n",
    "plt.show()"
   ]
  },
  {
   "cell_type": "code",
   "execution_count": 82,
   "metadata": {},
   "outputs": [
    {
     "data": {
      "image/png": "[encoded data removed]",
      "text/plain": [
       "<Figure size 864x432 with 1 Axes>"
      ]
     },
     "metadata": {},
     "output_type": "display_data"
    },
    {
     "data": {
      "application/javascript": [
       "\n",
       "            setTimeout(function() {\n",
       "                var nbb_cell_id = 82;\n",
       "                var nbb_unformatted_code = \"userId_list = list(users['userId'][:20])\\ndef pega_notas_por_usuario(usuarioId):\\n    return notas[notas['usuarioId'] == usuarioId]['nota']\\n\\nnotas_por_user = [pega_notas_por_usuario(userId) for userId in userId_list]\\n\\nplt.figure(figsize=(12,6))\\nplt.boxplot(notas_por_user, labels=userId_list)\\nplt.title('Boxplot de Notas por Usuario')\\nplt.ylabel('Notas')\\nplt.xlabel('ID dos usuarios')\\nplt.show()\";\n",
       "                var nbb_formatted_code = \"userId_list = list(users[\\\"userId\\\"][:20])\\n\\n\\ndef pega_notas_por_usuario(usuarioId):\\n    return notas[notas[\\\"usuarioId\\\"] == usuarioId][\\\"nota\\\"]\\n\\n\\nnotas_por_user = [pega_notas_por_usuario(userId) for userId in userId_list]\\n\\nplt.figure(figsize=(12, 6))\\nplt.boxplot(notas_por_user, labels=userId_list)\\nplt.title(\\\"Boxplot de Notas por Usuario\\\")\\nplt.ylabel(\\\"Notas\\\")\\nplt.xlabel(\\\"ID dos usuarios\\\")\\nplt.show()\";\n",
       "                var nbb_cells = Jupyter.notebook.get_cells();\n",
       "                for (var i = 0; i < nbb_cells.length; ++i) {\n",
       "                    if (nbb_cells[i].input_prompt_number == nbb_cell_id) {\n",
       "                        if (nbb_cells[i].get_text() == nbb_unformatted_code) {\n",
       "                             nbb_cells[i].set_text(nbb_formatted_code);\n",
       "                        }\n",
       "                        break;\n",
       "                    }\n",
       "                }\n",
       "            }, 500);\n",
       "            "
      ],
      "text/plain": [
       "<IPython.core.display.Javascript object>"
      ]
     },
     "metadata": {},
     "output_type": "display_data"
    }
   ],
   "source": [
    "userId_list = list(users[\"userId\"][:20])\n",
    "\n",
    "\n",
    "def pega_notas_por_usuario(usuarioId):\n",
    "    return notas[notas[\"usuarioId\"] == usuarioId][\"nota\"]\n",
    "\n",
    "\n",
    "notas_por_user = [pega_notas_por_usuario(userId) for userId in userId_list]\n",
    "\n",
    "plt.figure(figsize=(12, 6))\n",
    "plt.boxplot(notas_por_user, labels=userId_list)\n",
    "plt.title(\"Boxplot de Notas por Usuario\")\n",
    "plt.ylabel(\"Notas\")\n",
    "plt.xlabel(\"ID dos usuarios\")\n",
    "plt.show()"
   ]
  },
  {
   "cell_type": "markdown",
   "metadata": {},
   "source": [
    "Pelo grafico de Boxplot podemos vizualizer que alguns usuários dão notas mais baixas que outros. Por exemplo o usuario 599 costumar a avaliar mal maioria dos filmes, já o usuário 318 costuma a dar notas maiores para os filmes. No geral podemos atribuir pessos, alguem que costuma dar notas baixas atribuiu uma nota alta, esta tem mais valor que alguem que já costuma dar notas altas, assim podemos fazer um sistema de ranking para melhores filmes."
   ]
  },
  {
   "cell_type": "code",
   "execution_count": 83,
   "metadata": {},
   "outputs": [
    {
     "data": {
      "application/javascript": [
       "\n",
       "            setTimeout(function() {\n",
       "                var nbb_cell_id = 83;\n",
       "                var nbb_unformatted_code = \"def pega_notas_por_genero(genero, notas):\\n    return notas[notas[genero] == 1]\\n\\ndef plot_notas_generos_usuario(userId, plot=False):\\n    notas_do_usuario = notas[notas.usuarioId == userId]\\n    notas_do_usuario = notas_do_usuario.merge(filmes, on='filmeId')\\n    if plot:\\n        notas_por_genero = [pega_notas_por_genero(gen, notas_do_usuario)['nota'] for gen in gen_col]\\n        plt.figure(figsize=(25,5))\\n        plt.boxplot(notas_por_genero, labels=gen_col)\\n        plt.title('Boxplot de Notas por Genero')\\n        plt.ylabel('Nota')\\n        plt.show()\\n    return notas_do_usuario\";\n",
       "                var nbb_formatted_code = \"def pega_notas_por_genero(genero, notas):\\n    return notas[notas[genero] == 1]\\n\\n\\ndef plot_notas_generos_usuario(userId, plot=False):\\n    notas_do_usuario = notas[notas.usuarioId == userId]\\n    notas_do_usuario = notas_do_usuario.merge(filmes, on=\\\"filmeId\\\")\\n    if plot:\\n        notas_por_genero = [\\n            pega_notas_por_genero(gen, notas_do_usuario)[\\\"nota\\\"] for gen in gen_col\\n        ]\\n        plt.figure(figsize=(25, 5))\\n        plt.boxplot(notas_por_genero, labels=gen_col)\\n        plt.title(\\\"Boxplot de Notas por Genero\\\")\\n        plt.ylabel(\\\"Nota\\\")\\n        plt.show()\\n    return notas_do_usuario\";\n",
       "                var nbb_cells = Jupyter.notebook.get_cells();\n",
       "                for (var i = 0; i < nbb_cells.length; ++i) {\n",
       "                    if (nbb_cells[i].input_prompt_number == nbb_cell_id) {\n",
       "                        if (nbb_cells[i].get_text() == nbb_unformatted_code) {\n",
       "                             nbb_cells[i].set_text(nbb_formatted_code);\n",
       "                        }\n",
       "                        break;\n",
       "                    }\n",
       "                }\n",
       "            }, 500);\n",
       "            "
      ],
      "text/plain": [
       "<IPython.core.display.Javascript object>"
      ]
     },
     "metadata": {},
     "output_type": "display_data"
    }
   ],
   "source": [
    "def pega_notas_por_genero(genero, notas):\n",
    "    return notas[notas[genero] == 1]\n",
    "\n",
    "\n",
    "def plot_notas_generos_usuario(userId, plot=False):\n",
    "    notas_do_usuario = notas[notas.usuarioId == userId]\n",
    "    notas_do_usuario = notas_do_usuario.merge(filmes, on=\"filmeId\")\n",
    "    if plot:\n",
    "        notas_por_genero = [\n",
    "            pega_notas_por_genero(gen, notas_do_usuario)[\"nota\"] for gen in gen_col\n",
    "        ]\n",
    "        plt.figure(figsize=(25, 5))\n",
    "        plt.boxplot(notas_por_genero, labels=gen_col)\n",
    "        plt.title(\"Boxplot de Notas por Genero\")\n",
    "        plt.ylabel(\"Nota\")\n",
    "        plt.show()\n",
    "    return notas_do_usuario"
   ]
  },
  {
   "cell_type": "code",
   "execution_count": 84,
   "metadata": {},
   "outputs": [
    {
     "data": {
      "image/png": "[encoded data removed]",
      "text/plain": [
       "<Figure size 1800x360 with 1 Axes>"
      ]
     },
     "metadata": {},
     "output_type": "display_data"
    },
    {
     "data": {
      "application/javascript": [
       "\n",
       "            setTimeout(function() {\n",
       "                var nbb_cell_id = 84;\n",
       "                var nbb_unformatted_code = \"notas_user_414 = plot_notas_generos_usuario(414, True)\";\n",
       "                var nbb_formatted_code = \"notas_user_414 = plot_notas_generos_usuario(414, True)\";\n",
       "                var nbb_cells = Jupyter.notebook.get_cells();\n",
       "                for (var i = 0; i < nbb_cells.length; ++i) {\n",
       "                    if (nbb_cells[i].input_prompt_number == nbb_cell_id) {\n",
       "                        if (nbb_cells[i].get_text() == nbb_unformatted_code) {\n",
       "                             nbb_cells[i].set_text(nbb_formatted_code);\n",
       "                        }\n",
       "                        break;\n",
       "                    }\n",
       "                }\n",
       "            }, 500);\n",
       "            "
      ],
      "text/plain": [
       "<IPython.core.display.Javascript object>"
      ]
     },
     "metadata": {},
     "output_type": "display_data"
    }
   ],
   "source": [
    "notas_user_414 = plot_notas_generos_usuario(414, True)"
   ]
  },
  {
   "cell_type": "markdown",
   "metadata": {},
   "source": [
    "Com esse gráfico fica claro que o usuário e pelas notas dadas para o genero de Horror ele não gosta do genero?"
   ]
  },
  {
   "cell_type": "markdown",
   "metadata": {},
   "source": [
    "Porem me fiz uma pergunta, qual é o genero preferido desse usuário? temos como matetimaticamente afirmar que ele dá notas melhores para um genero, e sendo assim o genero é o seu preferido? Vamos descobrir!"
   ]
  },
  {
   "cell_type": "markdown",
   "metadata": {},
   "source": [
    "Vamos analisar a média, desvio padrão e coeficiente de variação das notas de cada genero de um usuário. Tambem para ter uma análise mais correta iremos desconsiderar as categorias que tiverem 10 ou menos votos por autor. Se o usuário não tiver mais de 10 votos em nenhuma categoria, não poderemos informar o genero favorito."
   ]
  },
  {
   "cell_type": "code",
   "execution_count": 85,
   "metadata": {},
   "outputs": [
    {
     "data": {
      "application/javascript": [
       "\n",
       "            setTimeout(function() {\n",
       "                var nbb_cell_id = 85;\n",
       "                var nbb_unformatted_code = \"notas_user =  plot_notas_generos_usuario(414)\\nnotas_por_genero = [pega_notas_por_genero(gen, notas_user) for gen in gen_col]\\nnotas_por_genero = pd.DataFrame([ng.describe()['nota'] for ng in notas_por_genero], index=gen_col)\\nnotas_por_genero['cv'] = (notas_por_genero['std']) / (notas_por_genero['mean'])\\ntabela_de_dados = round(notas_por_genero[['count', 'mean', 'std', 'cv']].query('count > 10').sort_values('cv'),3)\";\n",
       "                var nbb_formatted_code = \"notas_user = plot_notas_generos_usuario(414)\\nnotas_por_genero = [pega_notas_por_genero(gen, notas_user) for gen in gen_col]\\nnotas_por_genero = pd.DataFrame(\\n    [ng.describe()[\\\"nota\\\"] for ng in notas_por_genero], index=gen_col\\n)\\nnotas_por_genero[\\\"cv\\\"] = (notas_por_genero[\\\"std\\\"]) / (notas_por_genero[\\\"mean\\\"])\\ntabela_de_dados = round(\\n    notas_por_genero[[\\\"count\\\", \\\"mean\\\", \\\"std\\\", \\\"cv\\\"]]\\n    .query(\\\"count > 10\\\")\\n    .sort_values(\\\"cv\\\"),\\n    3,\\n)\";\n",
       "                var nbb_cells = Jupyter.notebook.get_cells();\n",
       "                for (var i = 0; i < nbb_cells.length; ++i) {\n",
       "                    if (nbb_cells[i].input_prompt_number == nbb_cell_id) {\n",
       "                        if (nbb_cells[i].get_text() == nbb_unformatted_code) {\n",
       "                             nbb_cells[i].set_text(nbb_formatted_code);\n",
       "                        }\n",
       "                        break;\n",
       "                    }\n",
       "                }\n",
       "            }, 500);\n",
       "            "
      ],
      "text/plain": [
       "<IPython.core.display.Javascript object>"
      ]
     },
     "metadata": {},
     "output_type": "display_data"
    }
   ],
   "source": [
    "notas_user = plot_notas_generos_usuario(414)\n",
    "notas_por_genero = [pega_notas_por_genero(gen, notas_user) for gen in gen_col]\n",
    "notas_por_genero = pd.DataFrame(\n",
    "    [ng.describe()[\"nota\"] for ng in notas_por_genero], index=gen_col\n",
    ")\n",
    "notas_por_genero[\"cv\"] = (notas_por_genero[\"std\"]) / (notas_por_genero[\"mean\"])\n",
    "tabela_de_dados = round(\n",
    "    notas_por_genero[[\"count\", \"mean\", \"std\", \"cv\"]]\n",
    "    .query(\"count > 10\")\n",
    "    .sort_values(\"cv\"),\n",
    "    3,\n",
    ")"
   ]
  },
  {
   "cell_type": "code",
   "execution_count": 86,
   "metadata": {},
   "outputs": [
    {
     "data": {
      "text/html": [
       "<div>\n",
       "<style scoped>\n",
       "    .dataframe tbody tr th:only-of-type {\n",
       "        vertical-align: middle;\n",
       "    }\n",
       "\n",
       "    .dataframe tbody tr th {\n",
       "        vertical-align: top;\n",
       "    }\n",
       "\n",
       "    .dataframe thead th {\n",
       "        text-align: right;\n",
       "    }\n",
       "</style>\n",
       "<table border=\"1\" class=\"dataframe\">\n",
       "  <thead>\n",
       "    <tr style=\"text-align: right;\">\n",
       "      <th></th>\n",
       "      <th>count</th>\n",
       "      <th>mean</th>\n",
       "      <th>std</th>\n",
       "      <th>cv</th>\n",
       "    </tr>\n",
       "  </thead>\n",
       "  <tbody>\n",
       "    <tr>\n",
       "      <th>IMAX</th>\n",
       "      <td>26.0</td>\n",
       "      <td>4.038</td>\n",
       "      <td>0.467</td>\n",
       "      <td>0.116</td>\n",
       "    </tr>\n",
       "    <tr>\n",
       "      <th>Musical</th>\n",
       "      <td>21.0</td>\n",
       "      <td>4.024</td>\n",
       "      <td>0.602</td>\n",
       "      <td>0.150</td>\n",
       "    </tr>\n",
       "    <tr>\n",
       "      <th>Animation</th>\n",
       "      <td>32.0</td>\n",
       "      <td>4.078</td>\n",
       "      <td>0.661</td>\n",
       "      <td>0.162</td>\n",
       "    </tr>\n",
       "    <tr>\n",
       "      <th>Drama</th>\n",
       "      <td>160.0</td>\n",
       "      <td>4.112</td>\n",
       "      <td>0.785</td>\n",
       "      <td>0.191</td>\n",
       "    </tr>\n",
       "    <tr>\n",
       "      <th>Children</th>\n",
       "      <td>45.0</td>\n",
       "      <td>3.944</td>\n",
       "      <td>0.778</td>\n",
       "      <td>0.197</td>\n",
       "    </tr>\n",
       "    <tr>\n",
       "      <th>Crime</th>\n",
       "      <td>85.0</td>\n",
       "      <td>4.153</td>\n",
       "      <td>0.827</td>\n",
       "      <td>0.199</td>\n",
       "    </tr>\n",
       "    <tr>\n",
       "      <th>Romance</th>\n",
       "      <td>81.0</td>\n",
       "      <td>4.000</td>\n",
       "      <td>0.822</td>\n",
       "      <td>0.205</td>\n",
       "    </tr>\n",
       "    <tr>\n",
       "      <th>War</th>\n",
       "      <td>18.0</td>\n",
       "      <td>4.306</td>\n",
       "      <td>0.893</td>\n",
       "      <td>0.208</td>\n",
       "    </tr>\n",
       "    <tr>\n",
       "      <th>SciFi</th>\n",
       "      <td>90.0</td>\n",
       "      <td>3.911</td>\n",
       "      <td>0.837</td>\n",
       "      <td>0.214</td>\n",
       "    </tr>\n",
       "    <tr>\n",
       "      <th>Fantasy</th>\n",
       "      <td>62.0</td>\n",
       "      <td>3.911</td>\n",
       "      <td>0.857</td>\n",
       "      <td>0.219</td>\n",
       "    </tr>\n",
       "    <tr>\n",
       "      <th>Mystery</th>\n",
       "      <td>37.0</td>\n",
       "      <td>4.122</td>\n",
       "      <td>0.908</td>\n",
       "      <td>0.220</td>\n",
       "    </tr>\n",
       "    <tr>\n",
       "      <th>Western</th>\n",
       "      <td>11.0</td>\n",
       "      <td>4.045</td>\n",
       "      <td>0.907</td>\n",
       "      <td>0.224</td>\n",
       "    </tr>\n",
       "    <tr>\n",
       "      <th>Comedy</th>\n",
       "      <td>167.0</td>\n",
       "      <td>3.925</td>\n",
       "      <td>0.883</td>\n",
       "      <td>0.225</td>\n",
       "    </tr>\n",
       "    <tr>\n",
       "      <th>Thriller</th>\n",
       "      <td>118.0</td>\n",
       "      <td>3.856</td>\n",
       "      <td>0.872</td>\n",
       "      <td>0.226</td>\n",
       "    </tr>\n",
       "    <tr>\n",
       "      <th>Adventure</th>\n",
       "      <td>130.0</td>\n",
       "      <td>3.804</td>\n",
       "      <td>0.864</td>\n",
       "      <td>0.227</td>\n",
       "    </tr>\n",
       "    <tr>\n",
       "      <th>Action</th>\n",
       "      <td>161.0</td>\n",
       "      <td>3.826</td>\n",
       "      <td>0.884</td>\n",
       "      <td>0.231</td>\n",
       "    </tr>\n",
       "    <tr>\n",
       "      <th>Horror</th>\n",
       "      <td>22.0</td>\n",
       "      <td>3.659</td>\n",
       "      <td>0.943</td>\n",
       "      <td>0.258</td>\n",
       "    </tr>\n",
       "  </tbody>\n",
       "</table>\n",
       "</div>"
      ],
      "text/plain": [
       "           count   mean    std     cv\n",
       "IMAX        26.0  4.038  0.467  0.116\n",
       "Musical     21.0  4.024  0.602  0.150\n",
       "Animation   32.0  4.078  0.661  0.162\n",
       "Drama      160.0  4.112  0.785  0.191\n",
       "Children    45.0  3.944  0.778  0.197\n",
       "Crime       85.0  4.153  0.827  0.199\n",
       "Romance     81.0  4.000  0.822  0.205\n",
       "War         18.0  4.306  0.893  0.208\n",
       "SciFi       90.0  3.911  0.837  0.214\n",
       "Fantasy     62.0  3.911  0.857  0.219\n",
       "Mystery     37.0  4.122  0.908  0.220\n",
       "Western     11.0  4.045  0.907  0.224\n",
       "Comedy     167.0  3.925  0.883  0.225\n",
       "Thriller   118.0  3.856  0.872  0.226\n",
       "Adventure  130.0  3.804  0.864  0.227\n",
       "Action     161.0  3.826  0.884  0.231\n",
       "Horror      22.0  3.659  0.943  0.258"
      ]
     },
     "execution_count": 86,
     "metadata": {},
     "output_type": "execute_result"
    },
    {
     "data": {
      "application/javascript": [
       "\n",
       "            setTimeout(function() {\n",
       "                var nbb_cell_id = 86;\n",
       "                var nbb_unformatted_code = \"tabela_de_dados\";\n",
       "                var nbb_formatted_code = \"tabela_de_dados\";\n",
       "                var nbb_cells = Jupyter.notebook.get_cells();\n",
       "                for (var i = 0; i < nbb_cells.length; ++i) {\n",
       "                    if (nbb_cells[i].input_prompt_number == nbb_cell_id) {\n",
       "                        if (nbb_cells[i].get_text() == nbb_unformatted_code) {\n",
       "                             nbb_cells[i].set_text(nbb_formatted_code);\n",
       "                        }\n",
       "                        break;\n",
       "                    }\n",
       "                }\n",
       "            }, 500);\n",
       "            "
      ],
      "text/plain": [
       "<IPython.core.display.Javascript object>"
      ]
     },
     "metadata": {},
     "output_type": "display_data"
    }
   ],
   "source": [
    "tabela_de_dados"
   ]
  },
  {
   "cell_type": "code",
   "execution_count": 87,
   "metadata": {},
   "outputs": [
    {
     "name": "stdout",
     "output_type": "stream",
     "text": [
      "Defaulting to user installation because normal site-packages is not writeable\n",
      "Requirement already satisfied: ray in /home/carujo/.local/lib/python3.7/site-packages (0.8.2)\n",
      "Requirement already satisfied: funcsigs in /home/carujo/.local/lib/python3.7/site-packages (from ray) (1.0.2)\n",
      "Requirement already satisfied: filelock in /home/carujo/.local/lib/python3.7/site-packages (from ray) (3.0.12)\n",
      "Requirement already satisfied: six>=1.0.0 in /home/carujo/.local/lib/python3.7/site-packages (from ray) (1.13.0)\n",
      "Requirement already satisfied: py-spy>=0.2.0 in /home/carujo/.local/lib/python3.7/site-packages (from ray) (0.3.3)\n",
      "Requirement already satisfied: click in /usr/local/lib/python3.7/site-packages (from ray) (7.0)\n",
      "Requirement already satisfied: colorama in /home/carujo/.local/lib/python3.7/site-packages (from ray) (0.4.3)\n",
      "Requirement already satisfied: pyyaml in /usr/local/lib/python3.7/site-packages (from ray) (3.13)\n",
      "Requirement already satisfied: aiohttp in /home/carujo/.local/lib/python3.7/site-packages (from ray) (3.6.2)\n",
      "Requirement already satisfied: numpy>=1.16 in /home/carujo/.local/lib/python3.7/site-packages (from ray) (1.17.4)\n",
      "Requirement already satisfied: pytest in /home/carujo/.local/lib/python3.7/site-packages (from ray) (5.4.1)\n",
      "Requirement already satisfied: protobuf>=3.8.0 in /home/carujo/.local/lib/python3.7/site-packages (from ray) (3.11.3)\n",
      "Requirement already satisfied: google in /home/carujo/.local/lib/python3.7/site-packages (from ray) (2.0.3)\n",
      "Requirement already satisfied: cloudpickle in /home/carujo/.local/lib/python3.7/site-packages (from ray) (1.3.0)\n",
      "Requirement already satisfied: grpcio in /home/carujo/.local/lib/python3.7/site-packages (from ray) (1.27.2)\n",
      "Requirement already satisfied: packaging in /home/carujo/.local/lib/python3.7/site-packages (from ray) (20.3)\n",
      "Requirement already satisfied: redis>=3.3.2 in /home/carujo/.local/lib/python3.7/site-packages (from ray) (3.4.1)\n",
      "Requirement already satisfied: jsonschema in /usr/local/lib/python3.7/site-packages (from ray) (3.2.0)\n",
      "Requirement already satisfied: chardet<4.0,>=2.0 in /home/carujo/.local/lib/python3.7/site-packages (from aiohttp->ray) (3.0.4)\n",
      "Requirement already satisfied: async-timeout<4.0,>=3.0 in /home/carujo/.local/lib/python3.7/site-packages (from aiohttp->ray) (3.0.1)\n",
      "Requirement already satisfied: attrs>=17.3.0 in /usr/local/lib/python3.7/site-packages (from aiohttp->ray) (19.3.0)\n",
      "Requirement already satisfied: multidict<5.0,>=4.5 in /home/carujo/.local/lib/python3.7/site-packages (from aiohttp->ray) (4.7.5)\n",
      "Requirement already satisfied: yarl<2.0,>=1.0 in /home/carujo/.local/lib/python3.7/site-packages (from aiohttp->ray) (1.4.2)\n",
      "Requirement already satisfied: pluggy<1.0,>=0.12 in /home/carujo/.local/lib/python3.7/site-packages (from pytest->ray) (0.13.1)\n",
      "Requirement already satisfied: wcwidth in /usr/local/lib/python3.7/site-packages (from pytest->ray) (0.1.9)\n",
      "Requirement already satisfied: py>=1.5.0 in /home/carujo/.local/lib/python3.7/site-packages (from pytest->ray) (1.8.1)\n",
      "Requirement already satisfied: importlib-metadata>=0.12; python_version < \"3.8\" in /usr/local/lib/python3.7/site-packages (from pytest->ray) (1.5.2)\n",
      "Requirement already satisfied: more-itertools>=4.0.0 in /home/carujo/.local/lib/python3.7/site-packages (from pytest->ray) (8.2.0)\n",
      "Requirement already satisfied: setuptools in /usr/local/lib/python3.7/site-packages (from protobuf>=3.8.0->ray) (46.1.3)\n",
      "Requirement already satisfied: beautifulsoup4 in /home/carujo/.local/lib/python3.7/site-packages (from google->ray) (4.8.2)\n",
      "Requirement already satisfied: pyparsing>=2.0.2 in /usr/local/lib/python3.7/site-packages (from packaging->ray) (2.4.6)\n",
      "Requirement already satisfied: pyrsistent>=0.14.0 in /usr/local/lib/python3.7/site-packages (from jsonschema->ray) (0.16.0)\n",
      "Requirement already satisfied: idna>=2.0 in /home/carujo/.local/lib/python3.7/site-packages (from yarl<2.0,>=1.0->aiohttp->ray) (2.8)\n",
      "Requirement already satisfied: zipp>=0.5 in /usr/local/lib/python3.7/site-packages (from importlib-metadata>=0.12; python_version < \"3.8\"->pytest->ray) (3.1.0)\n",
      "Requirement already satisfied: soupsieve>=1.2 in /home/carujo/.local/lib/python3.7/site-packages (from beautifulsoup4->google->ray) (2.0)\n"
     ]
    },
    {
     "data": {
      "application/javascript": [
       "\n",
       "            setTimeout(function() {\n",
       "                var nbb_cell_id = 87;\n",
       "                var nbb_unformatted_code = \"!pip install ray\";\n",
       "                var nbb_formatted_code = \"!pip install ray\";\n",
       "                var nbb_cells = Jupyter.notebook.get_cells();\n",
       "                for (var i = 0; i < nbb_cells.length; ++i) {\n",
       "                    if (nbb_cells[i].input_prompt_number == nbb_cell_id) {\n",
       "                        if (nbb_cells[i].get_text() == nbb_unformatted_code) {\n",
       "                             nbb_cells[i].set_text(nbb_formatted_code);\n",
       "                        }\n",
       "                        break;\n",
       "                    }\n",
       "                }\n",
       "            }, 500);\n",
       "            "
      ],
      "text/plain": [
       "<IPython.core.display.Javascript object>"
      ]
     },
     "metadata": {},
     "output_type": "display_data"
    }
   ],
   "source": [
    "!pip install ray"
   ]
  },
  {
   "cell_type": "code",
   "execution_count": 88,
   "metadata": {},
   "outputs": [
    {
     "name": "stderr",
     "output_type": "stream",
     "text": [
      "2020-03-27 01:26:02,725\tWARNING services.py:586 -- setpgrp failed, processes may not be cleaned up properly: [Errno 1] Operation not permitted.\n",
      "2020-03-27 01:26:02,727\tINFO resource_spec.py:212 -- Starting Ray with 4.64 GiB memory available for workers and up to 2.32 GiB for objects. You can adjust these settings with ray.init(memory=<bytes>, object_store_memory=<bytes>).\n",
      "2020-03-27 01:26:03,086\tINFO services.py:1078 -- View the Ray dashboard at \u001b[1m\u001b[32mlocalhost:8265\u001b[39m\u001b[22m\n"
     ]
    },
    {
     "data": {
      "application/javascript": [
       "\n",
       "            setTimeout(function() {\n",
       "                var nbb_cell_id = 88;\n",
       "                var nbb_unformatted_code = \"import ray\\nray.init(ignore_reinit_error=True)\\n\\n@ray.remote\\ndef melhor_genero(userId):\\n    try:\\n        notas_user =  plot_notas_generos_usuario(userId)\\n        notas_por_genero = [pega_notas_por_genero(gen, notas_user) for gen in gen_col]\\n        notas_por_genero = pd.DataFrame([ng.describe()['nota'] for ng in notas_por_genero], index=gen_col)\\n        notas_por_genero['cv'] = (notas_por_genero['std']) / (notas_por_genero['mean'])\\n        tabela_de_dados = round(notas_por_genero[['count', 'mean', 'std', 'cv']].query('count > 10').sort_values('cv'),3)\\n        return tabela_de_dados.index[0]\\n    except:\\n        # Caso a pessoa n\\u00e3o tenha mais de 10 votos em um especifico genero....\\n        return \\\"Nao Identificado\\\"\";\n",
       "                var nbb_formatted_code = \"import ray\\n\\nray.init(ignore_reinit_error=True)\\n\\n\\n@ray.remote\\ndef melhor_genero(userId):\\n    try:\\n        notas_user = plot_notas_generos_usuario(userId)\\n        notas_por_genero = [pega_notas_por_genero(gen, notas_user) for gen in gen_col]\\n        notas_por_genero = pd.DataFrame(\\n            [ng.describe()[\\\"nota\\\"] for ng in notas_por_genero], index=gen_col\\n        )\\n        notas_por_genero[\\\"cv\\\"] = (notas_por_genero[\\\"std\\\"]) / (notas_por_genero[\\\"mean\\\"])\\n        tabela_de_dados = round(\\n            notas_por_genero[[\\\"count\\\", \\\"mean\\\", \\\"std\\\", \\\"cv\\\"]]\\n            .query(\\\"count > 10\\\")\\n            .sort_values(\\\"cv\\\"),\\n            3,\\n        )\\n        return tabela_de_dados.index[0]\\n    except:\\n        # Caso a pessoa n\\u00e3o tenha mais de 10 votos em um especifico genero....\\n        return \\\"Nao Identificado\\\"\";\n",
       "                var nbb_cells = Jupyter.notebook.get_cells();\n",
       "                for (var i = 0; i < nbb_cells.length; ++i) {\n",
       "                    if (nbb_cells[i].input_prompt_number == nbb_cell_id) {\n",
       "                        if (nbb_cells[i].get_text() == nbb_unformatted_code) {\n",
       "                             nbb_cells[i].set_text(nbb_formatted_code);\n",
       "                        }\n",
       "                        break;\n",
       "                    }\n",
       "                }\n",
       "            }, 500);\n",
       "            "
      ],
      "text/plain": [
       "<IPython.core.display.Javascript object>"
      ]
     },
     "metadata": {},
     "output_type": "display_data"
    }
   ],
   "source": [
    "import ray\n",
    "\n",
    "ray.init(ignore_reinit_error=True)\n",
    "\n",
    "\n",
    "@ray.remote\n",
    "def melhor_genero(userId):\n",
    "    try:\n",
    "        notas_user = plot_notas_generos_usuario(userId)\n",
    "        notas_por_genero = [pega_notas_por_genero(gen, notas_user) for gen in gen_col]\n",
    "        notas_por_genero = pd.DataFrame(\n",
    "            [ng.describe()[\"nota\"] for ng in notas_por_genero], index=gen_col\n",
    "        )\n",
    "        notas_por_genero[\"cv\"] = (notas_por_genero[\"std\"]) / (notas_por_genero[\"mean\"])\n",
    "        tabela_de_dados = round(\n",
    "            notas_por_genero[[\"count\", \"mean\", \"std\", \"cv\"]]\n",
    "            .query(\"count > 10\")\n",
    "            .sort_values(\"cv\"),\n",
    "            3,\n",
    "        )\n",
    "        return tabela_de_dados.index[0]\n",
    "    except:\n",
    "        # Caso a pessoa não tenha mais de 10 votos em um especifico genero....\n",
    "        return \"Nao Identificado\""
   ]
  },
  {
   "cell_type": "code",
   "execution_count": 89,
   "metadata": {},
   "outputs": [
    {
     "data": {
      "application/javascript": [
       "\n",
       "            setTimeout(function() {\n",
       "                var nbb_cell_id = 89;\n",
       "                var nbb_unformatted_code = \"users['generoFavorito'] = ray.get([melhor_genero.remote(uid) for uid in users.userId])\";\n",
       "                var nbb_formatted_code = \"users[\\\"generoFavorito\\\"] = ray.get([melhor_genero.remote(uid) for uid in users.userId])\";\n",
       "                var nbb_cells = Jupyter.notebook.get_cells();\n",
       "                for (var i = 0; i < nbb_cells.length; ++i) {\n",
       "                    if (nbb_cells[i].input_prompt_number == nbb_cell_id) {\n",
       "                        if (nbb_cells[i].get_text() == nbb_unformatted_code) {\n",
       "                             nbb_cells[i].set_text(nbb_formatted_code);\n",
       "                        }\n",
       "                        break;\n",
       "                    }\n",
       "                }\n",
       "            }, 500);\n",
       "            "
      ],
      "text/plain": [
       "<IPython.core.display.Javascript object>"
      ]
     },
     "metadata": {},
     "output_type": "display_data"
    }
   ],
   "source": [
    "users[\"generoFavorito\"] = ray.get([melhor_genero.remote(uid) for uid in users.userId])"
   ]
  },
  {
   "cell_type": "code",
   "execution_count": 90,
   "metadata": {},
   "outputs": [
    {
     "data": {
      "application/javascript": [
       "\n",
       "            setTimeout(function() {\n",
       "                var nbb_cell_id = 90;\n",
       "                var nbb_unformatted_code = \"cout_users = pd.DataFrame(users['generoFavorito'].value_counts())\";\n",
       "                var nbb_formatted_code = \"cout_users = pd.DataFrame(users[\\\"generoFavorito\\\"].value_counts())\";\n",
       "                var nbb_cells = Jupyter.notebook.get_cells();\n",
       "                for (var i = 0; i < nbb_cells.length; ++i) {\n",
       "                    if (nbb_cells[i].input_prompt_number == nbb_cell_id) {\n",
       "                        if (nbb_cells[i].get_text() == nbb_unformatted_code) {\n",
       "                             nbb_cells[i].set_text(nbb_formatted_code);\n",
       "                        }\n",
       "                        break;\n",
       "                    }\n",
       "                }\n",
       "            }, 500);\n",
       "            "
      ],
      "text/plain": [
       "<IPython.core.display.Javascript object>"
      ]
     },
     "metadata": {},
     "output_type": "display_data"
    }
   ],
   "source": [
    "cout_users = pd.DataFrame(users[\"generoFavorito\"].value_counts())"
   ]
  },
  {
   "cell_type": "code",
   "execution_count": 91,
   "metadata": {},
   "outputs": [
    {
     "data": {
      "application/javascript": [
       "\n",
       "            setTimeout(function() {\n",
       "                var nbb_cell_id = 91;\n",
       "                var nbb_unformatted_code = \"cout_users.columns=['Quantidade de usuarios']\";\n",
       "                var nbb_formatted_code = \"cout_users.columns = [\\\"Quantidade de usuarios\\\"]\";\n",
       "                var nbb_cells = Jupyter.notebook.get_cells();\n",
       "                for (var i = 0; i < nbb_cells.length; ++i) {\n",
       "                    if (nbb_cells[i].input_prompt_number == nbb_cell_id) {\n",
       "                        if (nbb_cells[i].get_text() == nbb_unformatted_code) {\n",
       "                             nbb_cells[i].set_text(nbb_formatted_code);\n",
       "                        }\n",
       "                        break;\n",
       "                    }\n",
       "                }\n",
       "            }, 500);\n",
       "            "
      ],
      "text/plain": [
       "<IPython.core.display.Javascript object>"
      ]
     },
     "metadata": {},
     "output_type": "display_data"
    }
   ],
   "source": [
    "cout_users.columns = [\"Quantidade de usuarios\"]"
   ]
  },
  {
   "cell_type": "code",
   "execution_count": 92,
   "metadata": {},
   "outputs": [
    {
     "data": {
      "application/javascript": [
       "\n",
       "            setTimeout(function() {\n",
       "                var nbb_cell_id = 92;\n",
       "                var nbb_unformatted_code = \"cout_users['Genero'] = cout_users.index\";\n",
       "                var nbb_formatted_code = \"cout_users[\\\"Genero\\\"] = cout_users.index\";\n",
       "                var nbb_cells = Jupyter.notebook.get_cells();\n",
       "                for (var i = 0; i < nbb_cells.length; ++i) {\n",
       "                    if (nbb_cells[i].input_prompt_number == nbb_cell_id) {\n",
       "                        if (nbb_cells[i].get_text() == nbb_unformatted_code) {\n",
       "                             nbb_cells[i].set_text(nbb_formatted_code);\n",
       "                        }\n",
       "                        break;\n",
       "                    }\n",
       "                }\n",
       "            }, 500);\n",
       "            "
      ],
      "text/plain": [
       "<IPython.core.display.Javascript object>"
      ]
     },
     "metadata": {},
     "output_type": "display_data"
    }
   ],
   "source": [
    "cout_users[\"Genero\"] = cout_users.index"
   ]
  },
  {
   "cell_type": "code",
   "execution_count": 93,
   "metadata": {},
   "outputs": [
    {
     "data": {
      "image/png": "[encoded data removed]",
      "text/plain": [
       "<Figure size 1440x432 with 1 Axes>"
      ]
     },
     "metadata": {},
     "output_type": "display_data"
    },
    {
     "data": {
      "application/javascript": [
       "\n",
       "            setTimeout(function() {\n",
       "                var nbb_cell_id = 93;\n",
       "                var nbb_unformatted_code = \"plt.figure(figsize=(20,6))\\nax=sns.barplot(x=\\\"Genero\\\", y=\\\"Quantidade de usuarios\\\", data=cout_users)\\nplt.title('Numero de usuarios que tem genero favorito')\\nplt.ylabel('Quantidade de usuarios')\\nplt.xlabel('Categoria de genero')\\nplt.show()\";\n",
       "                var nbb_formatted_code = \"plt.figure(figsize=(20, 6))\\nax = sns.barplot(x=\\\"Genero\\\", y=\\\"Quantidade de usuarios\\\", data=cout_users)\\nplt.title(\\\"Numero de usuarios que tem genero favorito\\\")\\nplt.ylabel(\\\"Quantidade de usuarios\\\")\\nplt.xlabel(\\\"Categoria de genero\\\")\\nplt.show()\";\n",
       "                var nbb_cells = Jupyter.notebook.get_cells();\n",
       "                for (var i = 0; i < nbb_cells.length; ++i) {\n",
       "                    if (nbb_cells[i].input_prompt_number == nbb_cell_id) {\n",
       "                        if (nbb_cells[i].get_text() == nbb_unformatted_code) {\n",
       "                             nbb_cells[i].set_text(nbb_formatted_code);\n",
       "                        }\n",
       "                        break;\n",
       "                    }\n",
       "                }\n",
       "            }, 500);\n",
       "            "
      ],
      "text/plain": [
       "<IPython.core.display.Javascript object>"
      ]
     },
     "metadata": {},
     "output_type": "display_data"
    }
   ],
   "source": [
    "plt.figure(figsize=(20, 6))\n",
    "ax = sns.barplot(x=\"Genero\", y=\"Quantidade de usuarios\", data=cout_users)\n",
    "plt.title(\"Numero de usuarios que tem genero favorito\")\n",
    "plt.ylabel(\"Quantidade de usuarios\")\n",
    "plt.xlabel(\"Categoria de genero\")\n",
    "plt.show()"
   ]
  },
  {
   "cell_type": "markdown",
   "metadata": {},
   "source": [
    "Podemos ver que o genero Drama é mais aclamado pelos criticos de cinema. E segundo uma reporta da BBC que está nesse [link](https://www.bbc.com/portuguese/curiosidades-51390633), Drama é o genero mais bem sucessido na maior premiação do cinema, o Oscar."
   ]
  },
  {
   "attachments": {
    "image.png": {
     "image/png": "[encoded data removed]"
    }
   },
   "cell_type": "markdown",
   "metadata": {},
   "source": [
    "![image.png](attachment:image.png)"
   ]
  },
  {
   "cell_type": "markdown",
   "metadata": {},
   "source": [
    "Imagem retirada do site da reportagem mostra que o genero Drama é aclamado pelos criticos e isso reflete no nosso dataset."
   ]
  }
 ],
 "metadata": {
  "kernelspec": {
   "display_name": "Python 3",
   "language": "python",
   "name": "python3"
  },
  "language_info": {
   "codemirror_mode": {
    "name": "ipython",
    "version": 3
   },
   "file_extension": ".py",
   "mimetype": "text/x-python",
   "name": "python",
   "nbconvert_exporter": "python",
   "pygments_lexer": "ipython3",
   "version": "3.7.4"
  }
 },
 "nbformat": 4,
 "nbformat_minor": 4
}
